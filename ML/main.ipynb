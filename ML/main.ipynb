{
 "cells": [
  {
   "cell_type": "code",
   "execution_count": 1,
   "id": "72ad9076",
   "metadata": {},
   "outputs": [
    {
     "data": {
      "application/vnd.microsoft.datawrangler.viewer.v0+json": {
       "columns": [
        {
         "name": "index",
         "rawType": "datetime64[ns]",
         "type": "datetime"
        },
        {
         "name": "Open",
         "rawType": "float64",
         "type": "float"
        },
        {
         "name": "High",
         "rawType": "float64",
         "type": "float"
        },
        {
         "name": "Low",
         "rawType": "float64",
         "type": "float"
        },
        {
         "name": "Close",
         "rawType": "float64",
         "type": "float"
        },
        {
         "name": "Volume",
         "rawType": "float64",
         "type": "float"
        },
        {
         "name": "Risk Free Rate",
         "rawType": "float64",
         "type": "float"
        }
       ],
       "conversionMethod": "pd.DataFrame",
       "ref": "1e25c8d9-ae19-4658-989e-4d5d2ff9dcd2",
       "rows": [
        [
         "2015-07-20 00:00:00",
         "277.98",
         "280.0",
         "277.37",
         "280.0",
         "782.88341959",
         "0.0237199997901916"
        ],
        [
         "2015-07-21 00:00:00",
         "279.96",
         "281.27",
         "276.85",
         "277.32",
         "4943.55943437",
         "0.0233999991416931"
        ],
        [
         "2015-07-22 00:00:00",
         "277.33",
         "278.54",
         "275.01",
         "277.89",
         "4687.90938331",
         "0.0232200002670288"
        ],
        [
         "2015-07-23 00:00:00",
         "277.96",
         "279.75",
         "276.28",
         "277.39",
         "5306.91957531",
         "0.0227699995040893"
        ],
        [
         "2015-07-24 00:00:00",
         "277.23",
         "291.52",
         "276.43",
         "289.12",
         "7362.46908295",
         "0.0227099990844726"
        ],
        [
         "2015-07-25 00:00:00",
         "289.12",
         "291.67",
         "286.82",
         "289.7",
         "4102.45296008",
         "0.0227099990844726"
        ],
        [
         "2015-07-26 00:00:00",
         "289.68",
         "294.49",
         "288.65",
         "293.89",
         "3735.24660255",
         "0.0227099990844726"
        ],
        [
         "2015-07-27 00:00:00",
         "293.88",
         "297.0",
         "287.24",
         "294.21",
         "6461.0331349",
         "0.022279999256134"
        ],
        [
         "2015-07-28 00:00:00",
         "294.22",
         "298.0",
         "293.65",
         "295.76",
         "5761.8696177",
         "0.0225"
        ],
        [
         "2015-07-29 00:00:00",
         "295.74",
         "296.58",
         "289.01",
         "290.19",
         "5223.50717064",
         "0.0227900004386901"
        ],
        [
         "2015-07-30 00:00:00",
         "290.26",
         "291.56",
         "286.56",
         "288.49",
         "5138.98154856",
         "0.0226799988746643"
        ],
        [
         "2015-07-31 00:00:00",
         "288.49",
         "290.0",
         "282.79",
         "285.19",
         "5676.61845893",
         "0.0220499992370605"
        ],
        [
         "2015-08-01 00:00:00",
         "285.2",
         "285.6",
         "277.26",
         "281.53",
         "3932.44975145",
         "0.0220499992370605"
        ],
        [
         "2015-08-02 00:00:00",
         "281.53",
         "282.62",
         "277.33",
         "282.62",
         "3361.0866893",
         "0.0220499992370605"
        ],
        [
         "2015-08-03 00:00:00",
         "282.62",
         "285.86",
         "280.27",
         "280.95",
         "4741.72910667",
         "0.0215000009536743"
        ],
        [
         "2015-08-04 00:00:00",
         "280.95",
         "286.47",
         "280.11",
         "285.51",
         "5580.22052955",
         "0.0221099996566772"
        ],
        [
         "2015-08-05 00:00:00",
         "285.6",
         "286.25",
         "282.01",
         "282.77",
         "5765.48779667",
         "0.0226799988746643"
        ],
        [
         "2015-08-06 00:00:00",
         "282.44",
         "282.61",
         "278.95",
         "279.65",
         "5027.85564067",
         "0.0223399996757507"
        ],
        [
         "2015-08-07 00:00:00",
         "279.37",
         "281.17",
         "277.05",
         "279.94",
         "5212.45690065",
         "0.0217499995231628"
        ],
        [
         "2015-08-08 00:00:00",
         "280.06",
         "280.16",
         "260.07",
         "262.02",
         "6085.44943664",
         "0.0217499995231628"
        ],
        [
         "2015-08-09 00:00:00",
         "262.02",
         "268.8",
         "260.97",
         "267.63",
         "5046.97687512",
         "0.0217499995231628"
        ],
        [
         "2015-08-10 00:00:00",
         "267.6",
         "268.89",
         "263.17",
         "265.15",
         "5478.58214893",
         "0.0223799991607666"
        ],
        [
         "2015-08-11 00:00:00",
         "265.15",
         "271.99",
         "264.91",
         "271.99",
         "5796.14479285",
         "0.0213700008392333"
        ],
        [
         "2015-08-12 00:00:00",
         "271.99",
         "272.4",
         "265.79",
         "266.94",
         "6350.25601895",
         "0.0213000011444091"
        ],
        [
         "2015-08-13 00:00:00",
         "266.81",
         "267.82",
         "262.94",
         "264.67",
         "5343.42301753",
         "0.0218899989128112"
        ],
        [
         "2015-08-14 00:00:00",
         "264.48",
         "267.98",
         "262.5",
         "266.17",
         "6859.07697033",
         "0.0219600009918212"
        ],
        [
         "2015-08-15 00:00:00",
         "266.21",
         "267.69",
         "261.77",
         "262.46",
         "4116.06182042",
         "0.0219600009918212"
        ],
        [
         "2015-08-16 00:00:00",
         "262.45",
         "263.1",
         "255.67",
         "259.2",
         "5493.63748757",
         "0.0219600009918212"
        ],
        [
         "2015-08-17 00:00:00",
         "259.2",
         "261.57",
         "255.58",
         "257.31",
         "6966.79970621",
         "0.0215000009536743"
        ],
        [
         "2015-08-18 00:00:00",
         "257.56",
         "258.04",
         "200.0",
         "221.99",
         "11541.79729515",
         "0.0219600009918212"
        ],
        [
         "2015-08-19 00:00:00",
         "221.99",
         "238.99",
         "214.91",
         "227.34",
         "13329.69033609",
         "0.0212899994850158"
        ],
        [
         "2015-08-20 00:00:00",
         "227.46",
         "238.2",
         "227.45",
         "235.56",
         "8819.52508175",
         "0.0208400011062622"
        ],
        [
         "2015-08-21 00:00:00",
         "235.56",
         "236.99",
         "231.15",
         "232.85",
         "8328.5779028",
         "0.0205399990081787"
        ],
        [
         "2015-08-22 00:00:00",
         "232.85",
         "235.53",
         "222.68",
         "231.15",
         "7197.34948925",
         "0.0205399990081787"
        ],
        [
         "2015-08-23 00:00:00",
         "231.16",
         "233.25",
         "226.15",
         "229.21",
         "4312.6376901",
         "0.0205399990081787"
        ],
        [
         "2015-08-24 00:00:00",
         "229.23",
         "229.24",
         "210.0",
         "211.16",
         "16523.78944494",
         "0.0199699997901916"
        ],
        [
         "2015-08-25 00:00:00",
         "211.16",
         "229.49",
         "198.02",
         "223.73",
         "19685.20578035",
         "0.0213299989700317"
        ],
        [
         "2015-08-26 00:00:00",
         "223.73",
         "231.97",
         "220.16",
         "226.81",
         "9756.26262065",
         "0.0217199993133544"
        ],
        [
         "2015-08-27 00:00:00",
         "226.72",
         "229.99",
         "224.0",
         "225.8",
         "7891.14647013",
         "0.0216799998283386"
        ],
        [
         "2015-08-28 00:00:00",
         "225.62",
         "236.18",
         "221.2",
         "231.55",
         "9155.34886512",
         "0.0218600010871887"
        ],
        [
         "2015-08-29 00:00:00",
         "231.55",
         "233.95",
         "228.0",
         "230.61",
         "4469.25113064",
         "0.0218600010871887"
        ],
        [
         "2015-08-30 00:00:00",
         "230.61",
         "233.47",
         "226.59",
         "229.39",
         "4975.99074234",
         "0.0218600010871887"
        ],
        [
         "2015-08-31 00:00:00",
         "229.4",
         "233.0",
         "225.23",
         "230.75",
         "6986.51571867",
         "0.0220000004768371"
        ],
        [
         "2015-09-01 00:00:00",
         "230.76",
         "233.5",
         "226.42",
         "228.22",
         "8599.28297275",
         "0.0217199993133544"
        ],
        [
         "2015-09-02 00:00:00",
         "228.22",
         "231.43",
         "226.43",
         "229.97",
         "7461.09419833",
         "0.0219300007820129"
        ],
        [
         "2015-09-03 00:00:00",
         "229.95",
         "230.79",
         "226.48",
         "227.25",
         "6669.72158489",
         "0.0216799998283386"
        ],
        [
         "2015-09-04 00:00:00",
         "227.24",
         "232.49",
         "227.24",
         "231.39",
         "7070.63136039",
         "0.0212800002098083"
        ],
        [
         "2015-09-05 00:00:00",
         "231.43",
         "237.24",
         "230.12",
         "236.01",
         "5615.31975395",
         "0.0212800002098083"
        ],
        [
         "2015-09-06 00:00:00",
         "236.17",
         "244.82",
         "235.54",
         "241.29",
         "5273.5396927",
         "0.0212800002098083"
        ],
        [
         "2015-09-07 00:00:00",
         "241.26",
         "242.98",
         "239.21",
         "241.31",
         "4902.58116068",
         "0.0212800002098083"
        ]
       ],
       "shape": {
        "columns": 6,
        "rows": 3562
       }
      },
      "text/html": [
       "<div>\n",
       "<style scoped>\n",
       "    .dataframe tbody tr th:only-of-type {\n",
       "        vertical-align: middle;\n",
       "    }\n",
       "\n",
       "    .dataframe tbody tr th {\n",
       "        vertical-align: top;\n",
       "    }\n",
       "\n",
       "    .dataframe thead th {\n",
       "        text-align: right;\n",
       "    }\n",
       "</style>\n",
       "<table border=\"1\" class=\"dataframe\">\n",
       "  <thead>\n",
       "    <tr style=\"text-align: right;\">\n",
       "      <th></th>\n",
       "      <th>Open</th>\n",
       "      <th>High</th>\n",
       "      <th>Low</th>\n",
       "      <th>Close</th>\n",
       "      <th>Volume</th>\n",
       "      <th>Risk Free Rate</th>\n",
       "    </tr>\n",
       "  </thead>\n",
       "  <tbody>\n",
       "    <tr>\n",
       "      <th>2015-07-20</th>\n",
       "      <td>277.98</td>\n",
       "      <td>280.00</td>\n",
       "      <td>277.37</td>\n",
       "      <td>280.00</td>\n",
       "      <td>782.883420</td>\n",
       "      <td>0.02372</td>\n",
       "    </tr>\n",
       "    <tr>\n",
       "      <th>2015-07-21</th>\n",
       "      <td>279.96</td>\n",
       "      <td>281.27</td>\n",
       "      <td>276.85</td>\n",
       "      <td>277.32</td>\n",
       "      <td>4943.559434</td>\n",
       "      <td>0.02340</td>\n",
       "    </tr>\n",
       "    <tr>\n",
       "      <th>2015-07-22</th>\n",
       "      <td>277.33</td>\n",
       "      <td>278.54</td>\n",
       "      <td>275.01</td>\n",
       "      <td>277.89</td>\n",
       "      <td>4687.909383</td>\n",
       "      <td>0.02322</td>\n",
       "    </tr>\n",
       "    <tr>\n",
       "      <th>2015-07-23</th>\n",
       "      <td>277.96</td>\n",
       "      <td>279.75</td>\n",
       "      <td>276.28</td>\n",
       "      <td>277.39</td>\n",
       "      <td>5306.919575</td>\n",
       "      <td>0.02277</td>\n",
       "    </tr>\n",
       "    <tr>\n",
       "      <th>2015-07-24</th>\n",
       "      <td>277.23</td>\n",
       "      <td>291.52</td>\n",
       "      <td>276.43</td>\n",
       "      <td>289.12</td>\n",
       "      <td>7362.469083</td>\n",
       "      <td>0.02271</td>\n",
       "    </tr>\n",
       "    <tr>\n",
       "      <th>...</th>\n",
       "      <td>...</td>\n",
       "      <td>...</td>\n",
       "      <td>...</td>\n",
       "      <td>...</td>\n",
       "      <td>...</td>\n",
       "      <td>...</td>\n",
       "    </tr>\n",
       "    <tr>\n",
       "      <th>2025-04-15</th>\n",
       "      <td>84590.36</td>\n",
       "      <td>86491.40</td>\n",
       "      <td>83592.77</td>\n",
       "      <td>83629.78</td>\n",
       "      <td>6460.941442</td>\n",
       "      <td>0.04323</td>\n",
       "    </tr>\n",
       "    <tr>\n",
       "      <th>2025-04-16</th>\n",
       "      <td>83622.52</td>\n",
       "      <td>85526.40</td>\n",
       "      <td>83088.02</td>\n",
       "      <td>84028.72</td>\n",
       "      <td>8243.059013</td>\n",
       "      <td>0.04279</td>\n",
       "    </tr>\n",
       "    <tr>\n",
       "      <th>2025-04-17</th>\n",
       "      <td>84028.71</td>\n",
       "      <td>85494.94</td>\n",
       "      <td>83711.69</td>\n",
       "      <td>84961.97</td>\n",
       "      <td>5862.464055</td>\n",
       "      <td>0.04333</td>\n",
       "    </tr>\n",
       "    <tr>\n",
       "      <th>2025-04-18</th>\n",
       "      <td>84961.97</td>\n",
       "      <td>85150.94</td>\n",
       "      <td>84287.06</td>\n",
       "      <td>84466.47</td>\n",
       "      <td>1884.039112</td>\n",
       "      <td>0.04333</td>\n",
       "    </tr>\n",
       "    <tr>\n",
       "      <th>2025-04-19</th>\n",
       "      <td>84466.47</td>\n",
       "      <td>85442.05</td>\n",
       "      <td>84353.45</td>\n",
       "      <td>85237.08</td>\n",
       "      <td>773.423115</td>\n",
       "      <td>0.04333</td>\n",
       "    </tr>\n",
       "  </tbody>\n",
       "</table>\n",
       "<p>3562 rows × 6 columns</p>\n",
       "</div>"
      ],
      "text/plain": [
       "                Open      High       Low     Close       Volume  \\\n",
       "2015-07-20    277.98    280.00    277.37    280.00   782.883420   \n",
       "2015-07-21    279.96    281.27    276.85    277.32  4943.559434   \n",
       "2015-07-22    277.33    278.54    275.01    277.89  4687.909383   \n",
       "2015-07-23    277.96    279.75    276.28    277.39  5306.919575   \n",
       "2015-07-24    277.23    291.52    276.43    289.12  7362.469083   \n",
       "...              ...       ...       ...       ...          ...   \n",
       "2025-04-15  84590.36  86491.40  83592.77  83629.78  6460.941442   \n",
       "2025-04-16  83622.52  85526.40  83088.02  84028.72  8243.059013   \n",
       "2025-04-17  84028.71  85494.94  83711.69  84961.97  5862.464055   \n",
       "2025-04-18  84961.97  85150.94  84287.06  84466.47  1884.039112   \n",
       "2025-04-19  84466.47  85442.05  84353.45  85237.08   773.423115   \n",
       "\n",
       "            Risk Free Rate  \n",
       "2015-07-20         0.02372  \n",
       "2015-07-21         0.02340  \n",
       "2015-07-22         0.02322  \n",
       "2015-07-23         0.02277  \n",
       "2015-07-24         0.02271  \n",
       "...                    ...  \n",
       "2025-04-15         0.04323  \n",
       "2025-04-16         0.04279  \n",
       "2025-04-17         0.04333  \n",
       "2025-04-18         0.04333  \n",
       "2025-04-19         0.04333  \n",
       "\n",
       "[3562 rows x 6 columns]"
      ]
     },
     "execution_count": 1,
     "metadata": {},
     "output_type": "execute_result"
    }
   ],
   "source": [
    "import pandas as pd\n",
    "import plotly.graph_objects as go\n",
    "import plotly.express as px\n",
    "from optStrat import OptStrat\n",
    "\n",
    "\n",
    "\n",
    "df = pd.read_csv('/Users/hatim/Desktop/Applied Forecasting/Final Project/Algo Trading/Data.csv', index_col=0, parse_dates=True)\n",
    "df"
   ]
  },
  {
   "cell_type": "markdown",
   "id": "800feb6e",
   "metadata": {},
   "source": [
    "# Finading the optimal trading strategy in Hindsight\n",
    "- 1 will be buy\n",
    "- -1 will be sell\n",
    "- 0 will be hold\n",
    "\n",
    "The goal is to maximize return while considering trasaction costs. We ignore the volatility adjustment here because it then becomes a non-convex optimization problem that is computationally infeasible. Furthermore, in hindsight the problem is deterministic and the concept of risk is incoherent so we ignore it.\n",
    "\n",
    "\n",
    "## Defining the optimization problem\n",
    "### Starting assumptions\n",
    "we will reduce the labels to the following:\n",
    "- 1 will be in the market (buy all that we can)\n",
    "- 0 will be out of the market (sell all that we can)\n",
    "This can then be trasnformed into our original labels easily.\n",
    "\n",
    "We use dynamic programming for this\n",
    "\n"
   ]
  },
  {
   "cell_type": "code",
   "execution_count": null,
   "id": "e7c374d2",
   "metadata": {},
   "outputs": [],
   "source": [
    "strat=OptStrat(df=df)"
   ]
  },
  {
   "cell_type": "code",
   "execution_count": null,
   "id": "8c07f1a0",
   "metadata": {},
   "outputs": [],
   "source": [
    "strat.df['Signals'].value_counts()"
   ]
  },
  {
   "cell_type": "code",
   "execution_count": null,
   "id": "6a25610a",
   "metadata": {},
   "outputs": [],
   "source": [
    "strat.df.head()"
   ]
  },
  {
   "cell_type": "code",
   "execution_count": null,
   "id": "b62627e7",
   "metadata": {},
   "outputs": [],
   "source": [
    "strat.df['Strategy Returns'].plot()"
   ]
  },
  {
   "cell_type": "markdown",
   "id": "20d627a7",
   "metadata": {},
   "source": [
    "# Learning signals and predicting for the future"
   ]
  },
  {
   "cell_type": "markdown",
   "id": "7ee67189",
   "metadata": {},
   "source": [
    "## Feature Engineering"
   ]
  },
  {
   "cell_type": "markdown",
   "id": "adfa2f1d",
   "metadata": {},
   "source": [
    "## Getting Features"
   ]
  },
  {
   "cell_type": "code",
   "execution_count": null,
   "id": "44a7f532",
   "metadata": {},
   "outputs": [],
   "source": [
    "from features import FeatureEngineer\n",
    "\n",
    "\n",
    "engineer = FeatureEngineer(df)\n",
    "engineer.add_all_features()\n",
    "X, y = engineer.get_feature_target_split()\n",
    "X_best, scores, selected_features = engineer.select_best_features(k=25)   "
   ]
  },
  {
   "cell_type": "markdown",
   "id": "9d876a77",
   "metadata": {},
   "source": [
    "## Cleaning and Preprocessing"
   ]
  },
  {
   "cell_type": "code",
   "execution_count": null,
   "id": "7f18c3fb",
   "metadata": {},
   "outputs": [],
   "source": [
    "def test_train_split(X, y, test_size=0.2):\n",
    "    assert len(X) == len(y)\n",
    "    n = len(X)\n",
    "    test_size = int(n * test_size)\n",
    "    X_train = X[:-test_size]\n",
    "    X_test = X[-test_size:]\n",
    "    y_train = y[:-test_size]\n",
    "    y_test = y[-test_size:]\n",
    "    return X_train, X_test, y_train, y_test"
   ]
  },
  {
   "cell_type": "markdown",
   "id": "f590977d",
   "metadata": {},
   "source": [
    "### Check Missing Values"
   ]
  },
  {
   "cell_type": "code",
   "execution_count": null,
   "id": "dc8f522d",
   "metadata": {},
   "outputs": [],
   "source": [
    "X_selected = X[selected_features]\n",
    "\n",
    "print('length of X_selected', len(X_selected))\n",
    "print('length of y', len(y))\n",
    "\n",
    "display(X_selected.isnull().sum().sort_values(ascending=False).head(3))\n",
    "\n"
   ]
  },
  {
   "cell_type": "markdown",
   "id": "e5557016",
   "metadata": {},
   "source": [
    "### Standardize Features"
   ]
  },
  {
   "cell_type": "code",
   "execution_count": null,
   "id": "bd4a3abd",
   "metadata": {},
   "outputs": [],
   "source": [
    "X_train, X_test, y_train, y_test = test_train_split(X_selected, y, test_size=0.2)"
   ]
  },
  {
   "cell_type": "code",
   "execution_count": null,
   "id": "8395e640",
   "metadata": {},
   "outputs": [],
   "source": [
    "X_selected.describe().T"
   ]
  },
  {
   "cell_type": "code",
   "execution_count": null,
   "id": "976d681c",
   "metadata": {},
   "outputs": [],
   "source": [
    "from sklearn.preprocessing import StandardScaler\n",
    "\n",
    "\n",
    "scaler = StandardScaler()\n",
    "X_train_scaled = scaler.fit_transform(X_train)\n",
    "X_test_scaled = scaler.transform(X_test)"
   ]
  },
  {
   "cell_type": "markdown",
   "id": "b29ded87",
   "metadata": {},
   "source": [
    "# Models"
   ]
  },
  {
   "cell_type": "markdown",
   "id": "d2a378ea",
   "metadata": {},
   "source": [
    "## Random Forest"
   ]
  },
  {
   "cell_type": "code",
   "execution_count": null,
   "id": "6448ca82",
   "metadata": {},
   "outputs": [],
   "source": [
    "from sklearn.ensemble import RandomForestClassifier\n",
    "from sklearn.metrics import confusion_matrix\n",
    "import seaborn as sns\n",
    "import matplotlib.pyplot as plt\n",
    "\n",
    "\n",
    "rf = RandomForestClassifier(\n",
    "    n_estimators=500, \n",
    "    random_state=42\n",
    ")\n",
    "\n",
    "rf.fit(X_train_scaled, y_train)\n",
    "\n",
    "y_pred = rf.predict(X_test_scaled)\n",
    "y_pred_proba = rf.predict_proba(X_test_scaled)\n",
    "\n",
    "decisions = pd.DataFrame(y_pred_proba, columns=['Sell', 'Hold', 'Buy'], index=X_test.index)\n",
    "\n",
    "conf_matrix = confusion_matrix(y_test, y_pred)\n",
    "# plot the confusion matrix\n",
    "plt.figure(figsize=(10, 7))\n",
    "sns.heatmap(conf_matrix, annot=True, fmt='d', cmap='Blues', xticklabels=['Sell', 'Hold', 'Buy'], yticklabels=['Sell', 'Hold', 'Buy'])\n",
    "plt.xlabel('Predicted')\n",
    "plt.ylabel('Actual')\n",
    "plt.title('Confusion Matrix')\n",
    "plt.show()"
   ]
  },
  {
   "cell_type": "markdown",
   "id": "49332829",
   "metadata": {},
   "source": [
    "# Simulate Trade"
   ]
  },
  {
   "cell_type": "code",
   "execution_count": null,
   "id": "ac0ba9e4",
   "metadata": {},
   "outputs": [],
   "source": [
    "btc_data = df[['Close', 'Risk Free Rate']]\n",
    "trade_data = pd.merge(decisions, btc_data, left_index=True, right_index=True, how='left')\n",
    "trade_data.head()\n",
    "\n"
   ]
  },
  {
   "cell_type": "code",
   "execution_count": null,
   "id": "ac2f21c0",
   "metadata": {},
   "outputs": [],
   "source": [
    "px.histogram(trade_data[['Sell', 'Hold', 'Buy']], barmode='group').show()"
   ]
  },
  {
   "cell_type": "code",
   "execution_count": null,
   "id": "ee761d5c",
   "metadata": {},
   "outputs": [],
   "source": [
    "from trader import TradingSimulator\n",
    "\n",
    "simulator = TradingSimulator(trade_data, initial_capital=10000, transaction_cost=0.005)\n",
    "simulator.simulate(decision_method='highest_prob')\n",
    "simulator.plot_portfolio_performance()\n",
    "simulator.plot_performance_metrics()\n"
   ]
  }
 ],
 "metadata": {
  "kernelspec": {
   "display_name": "base",
   "language": "python",
   "name": "python3"
  },
  "language_info": {
   "codemirror_mode": {
    "name": "ipython",
    "version": 3
   },
   "file_extension": ".py",
   "mimetype": "text/x-python",
   "name": "python",
   "nbconvert_exporter": "python",
   "pygments_lexer": "ipython3",
   "version": "3.12.2"
  }
 },
 "nbformat": 4,
 "nbformat_minor": 5
}
