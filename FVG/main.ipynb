{
 "cells": [
  {
   "cell_type": "code",
   "execution_count": null,
   "metadata": {},
   "outputs": [],
   "source": [
    "from FVG import FVGStrategy\n",
    "import pandas as pd\n",
    "\n",
    "import warnings\n",
    "warnings.filterwarnings(\"ignore\")\n",
    "\n",
    "df = pd.read_csv('/Users/hatim/Desktop/Applied Forecasting/Final Project/Algo Trading/data.csv')\n",
    "\n",
    "rf = df['Risk Free Rate']\n",
    "btc = df.drop(columns=['Risk Free Rate'])\n",
    "\n",
    "strategy = FVGStrategy(lookback_period=10, body_multiplier=1.2, backcandles=50, test_candles=15, upside_scaler=2, downside_scaler=1.2)\n",
    "signals_df = strategy.generate_signals(btc)"
   ]
  },
  {
   "cell_type": "code",
   "execution_count": null,
   "metadata": {},
   "outputs": [],
   "source": [
    "from evaluate import TraderWithStoploss\n",
    "\n",
    "evaluator = TraderWithStoploss(initial_cash=100, commission_rate=0.001, risk_free_rate=rf, max_drawdown_threshold=40)\n",
    "evaluator.backtest_strategy(signals_df)\n",
    "evaluator.calculate_buy_and_hold(signals_df)\n",
    "\n",
    "# Print and visualize results\n",
    "evaluator.print_performance_summary()\n",
    "evaluator.plot_results()"
   ]
  },
  {
   "cell_type": "code",
   "execution_count": null,
   "metadata": {},
   "outputs": [],
   "source": []
  }
 ],
 "metadata": {
  "kernelspec": {
   "display_name": "base",
   "language": "python",
   "name": "python3"
  },
  "language_info": {
   "codemirror_mode": {
    "name": "ipython",
    "version": 3
   },
   "file_extension": ".py",
   "mimetype": "text/x-python",
   "name": "python",
   "nbconvert_exporter": "python",
   "pygments_lexer": "ipython3",
   "version": "3.12.2"
  }
 },
 "nbformat": 4,
 "nbformat_minor": 2
}
