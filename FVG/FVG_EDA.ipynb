{
 "cells": [
  {
   "cell_type": "code",
   "execution_count": 15,
   "metadata": {},
   "outputs": [
    {
     "data": {
      "text/html": [
       "<div>\n",
       "<style scoped>\n",
       "    .dataframe tbody tr th:only-of-type {\n",
       "        vertical-align: middle;\n",
       "    }\n",
       "\n",
       "    .dataframe tbody tr th {\n",
       "        vertical-align: top;\n",
       "    }\n",
       "\n",
       "    .dataframe thead th {\n",
       "        text-align: right;\n",
       "    }\n",
       "</style>\n",
       "<table border=\"1\" class=\"dataframe\">\n",
       "  <thead>\n",
       "    <tr style=\"text-align: right;\">\n",
       "      <th></th>\n",
       "      <th>Open</th>\n",
       "      <th>High</th>\n",
       "      <th>Low</th>\n",
       "      <th>Close</th>\n",
       "      <th>Volume</th>\n",
       "      <th>Risk Free Rate</th>\n",
       "    </tr>\n",
       "    <tr>\n",
       "      <th>Date</th>\n",
       "      <th></th>\n",
       "      <th></th>\n",
       "      <th></th>\n",
       "      <th></th>\n",
       "      <th></th>\n",
       "      <th></th>\n",
       "    </tr>\n",
       "  </thead>\n",
       "  <tbody>\n",
       "    <tr>\n",
       "      <th>2015-07-20</th>\n",
       "      <td>277.98</td>\n",
       "      <td>280.00</td>\n",
       "      <td>277.37</td>\n",
       "      <td>280.00</td>\n",
       "      <td>782.883420</td>\n",
       "      <td>0.02372</td>\n",
       "    </tr>\n",
       "    <tr>\n",
       "      <th>2015-07-21</th>\n",
       "      <td>279.96</td>\n",
       "      <td>281.27</td>\n",
       "      <td>276.85</td>\n",
       "      <td>277.32</td>\n",
       "      <td>4943.559434</td>\n",
       "      <td>0.02340</td>\n",
       "    </tr>\n",
       "    <tr>\n",
       "      <th>2015-07-22</th>\n",
       "      <td>277.33</td>\n",
       "      <td>278.54</td>\n",
       "      <td>275.01</td>\n",
       "      <td>277.89</td>\n",
       "      <td>4687.909383</td>\n",
       "      <td>0.02322</td>\n",
       "    </tr>\n",
       "    <tr>\n",
       "      <th>2015-07-23</th>\n",
       "      <td>277.96</td>\n",
       "      <td>279.75</td>\n",
       "      <td>276.28</td>\n",
       "      <td>277.39</td>\n",
       "      <td>5306.919575</td>\n",
       "      <td>0.02277</td>\n",
       "    </tr>\n",
       "    <tr>\n",
       "      <th>2015-07-24</th>\n",
       "      <td>277.23</td>\n",
       "      <td>291.52</td>\n",
       "      <td>276.43</td>\n",
       "      <td>289.12</td>\n",
       "      <td>7362.469083</td>\n",
       "      <td>0.02271</td>\n",
       "    </tr>\n",
       "    <tr>\n",
       "      <th>...</th>\n",
       "      <td>...</td>\n",
       "      <td>...</td>\n",
       "      <td>...</td>\n",
       "      <td>...</td>\n",
       "      <td>...</td>\n",
       "      <td>...</td>\n",
       "    </tr>\n",
       "    <tr>\n",
       "      <th>2025-04-15</th>\n",
       "      <td>84590.36</td>\n",
       "      <td>86491.40</td>\n",
       "      <td>83592.77</td>\n",
       "      <td>83629.78</td>\n",
       "      <td>6460.941442</td>\n",
       "      <td>0.04323</td>\n",
       "    </tr>\n",
       "    <tr>\n",
       "      <th>2025-04-16</th>\n",
       "      <td>83622.52</td>\n",
       "      <td>85526.40</td>\n",
       "      <td>83088.02</td>\n",
       "      <td>84028.72</td>\n",
       "      <td>8243.059013</td>\n",
       "      <td>0.04279</td>\n",
       "    </tr>\n",
       "    <tr>\n",
       "      <th>2025-04-17</th>\n",
       "      <td>84028.71</td>\n",
       "      <td>85494.94</td>\n",
       "      <td>83711.69</td>\n",
       "      <td>84961.97</td>\n",
       "      <td>5862.464055</td>\n",
       "      <td>0.04333</td>\n",
       "    </tr>\n",
       "    <tr>\n",
       "      <th>2025-04-18</th>\n",
       "      <td>84961.97</td>\n",
       "      <td>85150.94</td>\n",
       "      <td>84287.06</td>\n",
       "      <td>84466.47</td>\n",
       "      <td>1884.039112</td>\n",
       "      <td>0.04333</td>\n",
       "    </tr>\n",
       "    <tr>\n",
       "      <th>2025-04-19</th>\n",
       "      <td>84466.47</td>\n",
       "      <td>85442.05</td>\n",
       "      <td>84353.45</td>\n",
       "      <td>85237.08</td>\n",
       "      <td>773.423115</td>\n",
       "      <td>0.04333</td>\n",
       "    </tr>\n",
       "  </tbody>\n",
       "</table>\n",
       "<p>3562 rows × 6 columns</p>\n",
       "</div>"
      ],
      "text/plain": [
       "                Open      High       Low     Close       Volume  \\\n",
       "Date                                                              \n",
       "2015-07-20    277.98    280.00    277.37    280.00   782.883420   \n",
       "2015-07-21    279.96    281.27    276.85    277.32  4943.559434   \n",
       "2015-07-22    277.33    278.54    275.01    277.89  4687.909383   \n",
       "2015-07-23    277.96    279.75    276.28    277.39  5306.919575   \n",
       "2015-07-24    277.23    291.52    276.43    289.12  7362.469083   \n",
       "...              ...       ...       ...       ...          ...   \n",
       "2025-04-15  84590.36  86491.40  83592.77  83629.78  6460.941442   \n",
       "2025-04-16  83622.52  85526.40  83088.02  84028.72  8243.059013   \n",
       "2025-04-17  84028.71  85494.94  83711.69  84961.97  5862.464055   \n",
       "2025-04-18  84961.97  85150.94  84287.06  84466.47  1884.039112   \n",
       "2025-04-19  84466.47  85442.05  84353.45  85237.08   773.423115   \n",
       "\n",
       "            Risk Free Rate  \n",
       "Date                        \n",
       "2015-07-20         0.02372  \n",
       "2015-07-21         0.02340  \n",
       "2015-07-22         0.02322  \n",
       "2015-07-23         0.02277  \n",
       "2015-07-24         0.02271  \n",
       "...                    ...  \n",
       "2025-04-15         0.04323  \n",
       "2025-04-16         0.04279  \n",
       "2025-04-17         0.04333  \n",
       "2025-04-18         0.04333  \n",
       "2025-04-19         0.04333  \n",
       "\n",
       "[3562 rows x 6 columns]"
      ]
     },
     "execution_count": 15,
     "metadata": {},
     "output_type": "execute_result"
    }
   ],
   "source": [
    "import pandas as pd\n",
    "import numpy as np\n",
    "\n",
    "btc = pd.read_csv('/Users/hatim/Desktop/Applied Forecasting/Final Project/Algo Trading/Data/btc.csv', index_col=0)\n",
    "btc.index = pd.to_datetime(btc.index)\n",
    "btc.columns = ['Open', 'High', 'Low', 'Close', 'Volume', 'Risk Free Rate']\n",
    "btc=btc.iloc[-10000:]\n",
    "btc"
   ]
  },
  {
   "cell_type": "markdown",
   "metadata": {},
   "source": [
    "Parameters:\n",
    "- Lookback_period = 20 (days)\n",
    "- body_multiplier = 1.5\n",
    "- back_candles = 50\n",
    "- test_candles = 10"
   ]
  },
  {
   "cell_type": "markdown",
   "metadata": {},
   "source": [
    "# Detect FVG"
   ]
  },
  {
   "cell_type": "code",
   "execution_count": 16,
   "metadata": {},
   "outputs": [],
   "source": [
    "def detect_fvg(data, lookback_period=10, body_multiplier=1.5):\n",
    "    \"\"\"\n",
    "    Detects Fair Value Gaps (FVGs) in historical price data.\n",
    "\n",
    "    Parameters:\n",
    "        data (DataFrame): DataFrame with columns ['open', 'high', 'low', 'close'].\n",
    "        lookback_period (int): Number of candles to look back for average body size.\n",
    "        body_multiplier (float): Multiplier to determine significant body size.\n",
    "\n",
    "    Returns:\n",
    "        list of tuples: Each tuple contains ('type', start, end, index).\n",
    "    \"\"\"\n",
    "    fvg_list = [None, None]\n",
    "\n",
    "    for i in range(2, len(data)):\n",
    "        first_high = data['High'].iloc[i-2]\n",
    "        first_low = data['Low'].iloc[i-2]\n",
    "        middle_open = data['Open'].iloc[i-1]\n",
    "        middle_close = data['Close'].iloc[i-1]\n",
    "        third_low = data['Low'].iloc[i]\n",
    "        third_high = data['High'].iloc[i]\n",
    "\n",
    "        # Calculate the average absolute body size over the lookback period\n",
    "        prev_bodies = (data['Close'].iloc[max(0, i-1-lookback_period):i-1] - \n",
    "                       data['Open'].iloc[max(0, i-1-lookback_period):i-1]).abs()\n",
    "        avg_body_size = prev_bodies.mean()\n",
    "        \n",
    "        # Ensure avg_body_size is nonzero to avoid false positives\n",
    "        avg_body_size = avg_body_size if avg_body_size > 0 else 0.001\n",
    "\n",
    "        middle_body = abs(middle_close - middle_open)\n",
    "\n",
    "        # Check for Bullish FVG\n",
    "        if third_low > first_high and middle_body > avg_body_size * body_multiplier:\n",
    "            fvg_list.append(('bullish', first_high, third_low, i))\n",
    "\n",
    "        # Check for Bearish FVG\n",
    "        elif third_high < first_low and middle_body > avg_body_size * body_multiplier:\n",
    "            fvg_list.append(('bearish', first_low, third_high, i))\n",
    "        else:\n",
    "            fvg_list.append(None)\n",
    "\n",
    "    return fvg_list\n",
    "\n"
   ]
  },
  {
   "cell_type": "code",
   "execution_count": 17,
   "metadata": {},
   "outputs": [
    {
     "name": "stdout",
     "output_type": "stream",
     "text": [
      "611\n"
     ]
    },
    {
     "data": {
      "text/html": [
       "<div>\n",
       "<style scoped>\n",
       "    .dataframe tbody tr th:only-of-type {\n",
       "        vertical-align: middle;\n",
       "    }\n",
       "\n",
       "    .dataframe tbody tr th {\n",
       "        vertical-align: top;\n",
       "    }\n",
       "\n",
       "    .dataframe thead th {\n",
       "        text-align: right;\n",
       "    }\n",
       "</style>\n",
       "<table border=\"1\" class=\"dataframe\">\n",
       "  <thead>\n",
       "    <tr style=\"text-align: right;\">\n",
       "      <th></th>\n",
       "      <th>Open</th>\n",
       "      <th>High</th>\n",
       "      <th>Low</th>\n",
       "      <th>Close</th>\n",
       "      <th>Volume</th>\n",
       "      <th>Risk Free Rate</th>\n",
       "      <th>FVG</th>\n",
       "    </tr>\n",
       "    <tr>\n",
       "      <th>Date</th>\n",
       "      <th></th>\n",
       "      <th></th>\n",
       "      <th></th>\n",
       "      <th></th>\n",
       "      <th></th>\n",
       "      <th></th>\n",
       "      <th></th>\n",
       "    </tr>\n",
       "  </thead>\n",
       "  <tbody>\n",
       "    <tr>\n",
       "      <th>2015-07-20</th>\n",
       "      <td>277.98</td>\n",
       "      <td>280.00</td>\n",
       "      <td>277.37</td>\n",
       "      <td>280.00</td>\n",
       "      <td>782.883420</td>\n",
       "      <td>0.02372</td>\n",
       "      <td>None</td>\n",
       "    </tr>\n",
       "    <tr>\n",
       "      <th>2015-07-21</th>\n",
       "      <td>279.96</td>\n",
       "      <td>281.27</td>\n",
       "      <td>276.85</td>\n",
       "      <td>277.32</td>\n",
       "      <td>4943.559434</td>\n",
       "      <td>0.02340</td>\n",
       "      <td>None</td>\n",
       "    </tr>\n",
       "    <tr>\n",
       "      <th>2015-07-22</th>\n",
       "      <td>277.33</td>\n",
       "      <td>278.54</td>\n",
       "      <td>275.01</td>\n",
       "      <td>277.89</td>\n",
       "      <td>4687.909383</td>\n",
       "      <td>0.02322</td>\n",
       "      <td>None</td>\n",
       "    </tr>\n",
       "    <tr>\n",
       "      <th>2015-07-23</th>\n",
       "      <td>277.96</td>\n",
       "      <td>279.75</td>\n",
       "      <td>276.28</td>\n",
       "      <td>277.39</td>\n",
       "      <td>5306.919575</td>\n",
       "      <td>0.02277</td>\n",
       "      <td>None</td>\n",
       "    </tr>\n",
       "    <tr>\n",
       "      <th>2015-07-24</th>\n",
       "      <td>277.23</td>\n",
       "      <td>291.52</td>\n",
       "      <td>276.43</td>\n",
       "      <td>289.12</td>\n",
       "      <td>7362.469083</td>\n",
       "      <td>0.02271</td>\n",
       "      <td>None</td>\n",
       "    </tr>\n",
       "    <tr>\n",
       "      <th>...</th>\n",
       "      <td>...</td>\n",
       "      <td>...</td>\n",
       "      <td>...</td>\n",
       "      <td>...</td>\n",
       "      <td>...</td>\n",
       "      <td>...</td>\n",
       "      <td>...</td>\n",
       "    </tr>\n",
       "    <tr>\n",
       "      <th>2025-04-15</th>\n",
       "      <td>84590.36</td>\n",
       "      <td>86491.40</td>\n",
       "      <td>83592.77</td>\n",
       "      <td>83629.78</td>\n",
       "      <td>6460.941442</td>\n",
       "      <td>0.04323</td>\n",
       "      <td>None</td>\n",
       "    </tr>\n",
       "    <tr>\n",
       "      <th>2025-04-16</th>\n",
       "      <td>83622.52</td>\n",
       "      <td>85526.40</td>\n",
       "      <td>83088.02</td>\n",
       "      <td>84028.72</td>\n",
       "      <td>8243.059013</td>\n",
       "      <td>0.04279</td>\n",
       "      <td>None</td>\n",
       "    </tr>\n",
       "    <tr>\n",
       "      <th>2025-04-17</th>\n",
       "      <td>84028.71</td>\n",
       "      <td>85494.94</td>\n",
       "      <td>83711.69</td>\n",
       "      <td>84961.97</td>\n",
       "      <td>5862.464055</td>\n",
       "      <td>0.04333</td>\n",
       "      <td>None</td>\n",
       "    </tr>\n",
       "    <tr>\n",
       "      <th>2025-04-18</th>\n",
       "      <td>84961.97</td>\n",
       "      <td>85150.94</td>\n",
       "      <td>84287.06</td>\n",
       "      <td>84466.47</td>\n",
       "      <td>1884.039112</td>\n",
       "      <td>0.04333</td>\n",
       "      <td>None</td>\n",
       "    </tr>\n",
       "    <tr>\n",
       "      <th>2025-04-19</th>\n",
       "      <td>84466.47</td>\n",
       "      <td>85442.05</td>\n",
       "      <td>84353.45</td>\n",
       "      <td>85237.08</td>\n",
       "      <td>773.423115</td>\n",
       "      <td>0.04333</td>\n",
       "      <td>None</td>\n",
       "    </tr>\n",
       "  </tbody>\n",
       "</table>\n",
       "<p>3562 rows × 7 columns</p>\n",
       "</div>"
      ],
      "text/plain": [
       "                Open      High       Low     Close       Volume  \\\n",
       "Date                                                              \n",
       "2015-07-20    277.98    280.00    277.37    280.00   782.883420   \n",
       "2015-07-21    279.96    281.27    276.85    277.32  4943.559434   \n",
       "2015-07-22    277.33    278.54    275.01    277.89  4687.909383   \n",
       "2015-07-23    277.96    279.75    276.28    277.39  5306.919575   \n",
       "2015-07-24    277.23    291.52    276.43    289.12  7362.469083   \n",
       "...              ...       ...       ...       ...          ...   \n",
       "2025-04-15  84590.36  86491.40  83592.77  83629.78  6460.941442   \n",
       "2025-04-16  83622.52  85526.40  83088.02  84028.72  8243.059013   \n",
       "2025-04-17  84028.71  85494.94  83711.69  84961.97  5862.464055   \n",
       "2025-04-18  84961.97  85150.94  84287.06  84466.47  1884.039112   \n",
       "2025-04-19  84466.47  85442.05  84353.45  85237.08   773.423115   \n",
       "\n",
       "            Risk Free Rate   FVG  \n",
       "Date                              \n",
       "2015-07-20         0.02372  None  \n",
       "2015-07-21         0.02340  None  \n",
       "2015-07-22         0.02322  None  \n",
       "2015-07-23         0.02277  None  \n",
       "2015-07-24         0.02271  None  \n",
       "...                    ...   ...  \n",
       "2025-04-15         0.04323  None  \n",
       "2025-04-16         0.04279  None  \n",
       "2025-04-17         0.04333  None  \n",
       "2025-04-18         0.04333  None  \n",
       "2025-04-19         0.04333  None  \n",
       "\n",
       "[3562 rows x 7 columns]"
      ]
     },
     "execution_count": 17,
     "metadata": {},
     "output_type": "execute_result"
    }
   ],
   "source": [
    "# need to play around with parameters\n",
    "btc['FVG'] = detect_fvg(btc, lookback_period=10, body_multiplier=1.2)\n",
    "print(len(btc[~btc['FVG'].isna()]))\n",
    "btc"
   ]
  },
  {
   "cell_type": "markdown",
   "metadata": {},
   "source": [
    "# Visualise FVG"
   ]
  },
  {
   "cell_type": "code",
   "execution_count": 18,
   "metadata": {},
   "outputs": [
    {
     "data": {
      "application/vnd.plotly.v1+json": {
       "config": {
        "plotlyServerURL": "https://plot.ly"
       },
       "data": [
        {
         "close": {
          "bdata": "FK5H4dIe90AfhetRUBb3QLgehevZEvdAMzMzM6cS90DD9Shcb5H3QOF6FK7jifhArkfhetxo+EAAAAAAsGr5QAAAAAAwf/lASOF6FLK1+EAUrkfhFvD4QI/C9Sj06vlAKVyPwjFP+UApXI/CZV/5QB+F61EkmflAXI/C9diR+UAAAAAAMAr5QIXrUbjm6vhAAAAAAKC6+EAAAAAANFT5QNejcD1qkvlAj8L1KLQA+UCamZmZ/ZD4QB+F61HI2PdAMzMzM0PF+EDNzMzMMOD3QHsUrkfll/dAuB6F60mT90B7FK5HkZH3QAAAAADEjfdA7FG4Hr2N90D2KFyPRsr3QHsUrkfhYfdArkfhemjk90A9CtejFJf3QK5H4XpQzvdApHA9Cs/T90BI4XoUfnf3QM3MzMxcYvdAZmZmZnZX90CuR+F6gJf3QDMzMzOzAvhArkfhetB590C4HoXrYZT3QOF6FK6fgPdA7FG4Hm1X9kBxPQrXe6D1QK5H4Xr8iPRApHA9ChOp9EDhehSum5T0QI/C9SgsAPVA4XoUrpcD90CamZmZEQn1QMP1KFwfTfVA4XoUrrse9kCamZmZHfT1QOF6FK5PLvVApHA9CusL9UCF61G4srPzQMP1KFwLLfNAj8L1KCg+9EAUrkfhtmz0QBSuR+EWy/NAcT0K18eA9EDD9Shc95f0QOxRuB4pKPRAZmZmZraC9ECPwvUorDD0QMP1KFzfNfVAhetRuHaN9EDD9Shc34X0QK5H4XrAePRApHA9Cs8E9UC4HoXrOV71QEjhehQ+WPVAj8L1KOA49UDhehSuF0v1QM3MzMzcmfRAexSuR40r9EDhehSuvxz0QOxRuB5lJvRAuB6F6yXL9EB7FK5HoSP0QHsUrkdlTvRA9ihcj0J59EAAAAAApGL0QAAAAAAsIvNAj8L1KEBS80DXo3A9up3yQAAAAAAsKvRACtejcAVs80BSuB6FR1v0QI/C9Shw0fRA7FG4HlFx9EApXI/C5ab0QK5H4XrcavRAUrgehcuD9EBSuB6FH770QFK4HoUnn/RAexSuR1HP9EA=",
          "dtype": "f8"
         },
         "high": {
          "bdata": "hetRuG5n90BmZmZmejD3QArXo3B9SfdAAAAAAMBp90A9CtejlMT3QDMzMzPHlvhAAAAAAACh+EAAAAAAIN/5QGZmZmZSnvlApHA9Cqf0+UCPwvUo4LL6QJqZmZmxMfpACtejcPX7+UC4HoXrbRf6QAAAAAAALPpAAAAAAOC0+UDNzMzMbMD5QMP1KFzHM/lAmpmZma1V+UDXo3A92pf5QB+F61FM//lAAAAAAKDm+UBmZmZm2hf5QArXo3A9xfhAmpmZmX0M+UDhehSuQ9v4QHE9CtfnOfhAZmZmZuI2+EA9CtejvHj4QM3MzMxwqfdArkfheuTD90DhehSu8wP4QAAAAABADPhA4XoUrn/090AAAAAAQPP3QClcj8KhJPhAmpmZmd3s90BSuB6Fo9z3QNejcD2qsfdAAAAAAKCd90AAAAAAAKf3QD0K16MIHfhAH4XrUdhL+EAfhetRaK33QBSuR+F+mvdA9ihcjzaQ90BxPQrXX5j2QBSuR+GazfVAuB6F6x099UCkcD0Kw8f0QMP1KFxvIPVASOF6FI4590ApXI/C+Qz3QB+F61EUufVAAAAAAIA39kA9CtejFKn2QAAAAAAASfZASOF6FPY09UAAAAAAAB31QPYoXI8ahPRAAAAAAABp9ECkcD0Kq530QM3MzMxslfRAKVyPwmnU9EAUrkfhJq30QJqZmZlFxvRAw/UoXGex9ECF61G42oP0QDMzMzNXQPVAuB6F601c9UBSuB6Fm7T0QAAAAABcovRAcT0K1w8H9UDXo3A9Sq71QArXo3CFoPVAmpmZmQGP9UA9CtejKFv1QGZmZmaiXPVASOF6FIKm9EDhehSuT2P0QM3MzMwMffRArkfheujj9EAAAAAAIJ31QDMzMzMXf/RAhetRuAqv9ECamZmZ5ZD0QHsUrkfZc/RAhetRuHrU80DhehSuH73zQJqZmZn1Z/RAFK5H4a4y9EAAAAAAsJT0QFK4HoVf+fRAcT0K188E9UBcj8L1oPP0QGZmZma2HfVAZmZmZmbh9ECkcD0Kb9/0QKRwPQrvyfRAzczMzCDc9EA=",
          "dtype": "f8"
         },
         "low": {
          "bdata": "AAAAABSD9kDNzMzMwOb2QM3MzMxk3vZA16NwPUq89UApXI/CdQb3QAAAAAAAifdAexSuR9m/90Bcj8L1HGb4QDMzMzOX9fhAAAAAAOBL+EAfhetRhEX4QAAAAAAwbfhAAAAAAMAr+UCPwvUoALX4QIXrUbj+FflAAAAAAIBq+UBxPQrXQwP5QK5H4Xow2/dAzczMzFx3+ECamZmZubn4QHE9CtebN/lAAAAAACDI+EAAAAAAoHn4QAAAAAAwe/dAj8L1KKBC9kCPwvUoHHn3QI/C9SgQevdAw/UoXK9b90DD9Shc71f3QHsUrkclXPdAhetRuKog90AzMzMzk0H3QOxRuB7xJvdAhetRuC739kAAAAAAQD/3QFyPwvXIgPdAj8L1KJC890AUrkfhmnP3QAAAAAAAPvdAAAAAAFDJ9kCPwvUogDH3QOxRuB4xivdAhetRuB4g90AzMzMzf2H3QPYoXI++QPdAAAAAAEBK9kAUrkfhwvT0QLgehevxC/RAKVyPwqEn9EBcj8L1fBXzQD0K16PIc/RAmpmZmbXA9ECPwvUo8MD0QAAAAABA4vNAUrgehZMT9UAAAAAA6G71QB+F61EEqPRAAAAAAADN9EAAAAAAAIjzQAAAAADQ5PJAAAAAALCw8kDD9Shcw6vzQAAAAAAggfNAhetRuDK480BxPQrXw2n0QKRwPQoXA/RA4XoUrg8f9EAAAAAAUM7zQK5H4Xp4JvRAAAAAAMxo9EAAAAAAwEn0QKRwPQq7bPRAhetRuMp19EBcj8L10OH0QFK4HoUfE/VAAAAAAKD19EC4HoXrTUT1QGZmZmbWZPRAcT0K14/s80BI4XoULujzQPYoXI8S1/NA7FG4HjUe9ECPwvUosBb0QDMzMzOb0fNAPQrXo7ju80ApXI/CqRr0QHE9Ctcv0PJApHA9Cksr8kCamZmZdZjyQI/C9SiQM/JAcT0K1zMj80CkcD0Kf0TzQI/C9SjUNPRAAAAAACBE9EAfhetRdGz0QB+F61GMaPRAH4XrUQBJ9ECkcD0K+2/0QFyPwvXwk/RAMzMzMxeY9EA=",
          "dtype": "f8"
         },
         "name": "Candles",
         "open": {
          "bdata": "pHA9CjeY9kDhehSu1x73QPYoXI+eFvdAcT0K17MS90CamZmZtRL3QFK4HoVvkfdAH4XrUYSJ+EDD9Shc12j4QAAAAACwavlAj8L1KDB/+UCuR+F6HLb4QIXrUbgW8PhAH4XrUfTq+UCamZmZuU75QClcj8JlX/lASOF6FCKa+UCF61G4npH5QK5H4XpUCvlAhetRuP7q+ECPwvUooLr4QAAAAAA0VPlASOF6FGqS+UDNzMzM4AD5QEjhehT+kPhArkfhesjY90BmZmZmQsX4QFyPwvUw4PdAuB6F67mX90BxPQrX85P3QBSuR+GOkfdAcT0K18ON90BSuB6FF473QPYoXI+6yvdAMzMzM69h90CuR+F6hOT3QD0K16MUl/dApHA9Cj/O90A9CtejyNP3QEjhehR+d/dAzczMzFxi90BSuB6Fz1f3QK5H4XqAl/dAMzMzM7MC+ECuR+F60Hn3QHE9CtcnlPdA4XoUrqOA90BI4XoUXlf2QIXrUbhyoPVAH4XrUfyI9EAAAAAAOKn0QHE9CteblPRA7FG4Hi0A9UBSuB6FlwP3QArXo3ARCfVAFK5H4f5M9UDhehSu+x72QB+F61Gw8/VAzczMzBQu9UDXo3A96gv1QMP1KFxDtPNAFK5H4UIt80Bcj8L1/D30QDMzMzO3bPRAAAAAAPjK80ApXI/CXYH0QDMzMzP3l/RAAAAAACgo9EDXo3A9toL0QK5H4Xq4MPRAUrgehd819UD2KFyPdo30QMP1KFzfhfRAXI/C9cB49EAzMzMzzwT1QArXo3DhXfVA7FG4Ho1Y9UApXI/CWVj1QOxRuB7hSvVAXI/C9dyZ9EBcj8L1ACz0QOF6FK6/HPRAXI/C9WQm9ECF61G47sr0QJqZmZmhI/RAFK5H4apO9ECuR+F6PHn0QEjhehQeY/RAZmZmZiIi80AfhetRQFLzQM3MzMwsnvJAZmZmZhIq9EAK16NwBWzzQNejcD06W/RAH4XrUXDR9EDsUbgeUXH0QClcj8LlpvRAH4XrUWhq9EDD9Shcy4P0QFK4HoUfvvRAUrgehSef9EA=",
          "dtype": "f8"
         },
         "type": "candlestick",
         "x": [
          "2025-01-10T00:00:00.000000000",
          "2025-01-11T00:00:00.000000000",
          "2025-01-12T00:00:00.000000000",
          "2025-01-13T00:00:00.000000000",
          "2025-01-14T00:00:00.000000000",
          "2025-01-15T00:00:00.000000000",
          "2025-01-16T00:00:00.000000000",
          "2025-01-17T00:00:00.000000000",
          "2025-01-18T00:00:00.000000000",
          "2025-01-19T00:00:00.000000000",
          "2025-01-20T00:00:00.000000000",
          "2025-01-21T00:00:00.000000000",
          "2025-01-22T00:00:00.000000000",
          "2025-01-23T00:00:00.000000000",
          "2025-01-24T00:00:00.000000000",
          "2025-01-25T00:00:00.000000000",
          "2025-01-26T00:00:00.000000000",
          "2025-01-27T00:00:00.000000000",
          "2025-01-28T00:00:00.000000000",
          "2025-01-29T00:00:00.000000000",
          "2025-01-30T00:00:00.000000000",
          "2025-01-31T00:00:00.000000000",
          "2025-02-01T00:00:00.000000000",
          "2025-02-02T00:00:00.000000000",
          "2025-02-03T00:00:00.000000000",
          "2025-02-04T00:00:00.000000000",
          "2025-02-05T00:00:00.000000000",
          "2025-02-06T00:00:00.000000000",
          "2025-02-07T00:00:00.000000000",
          "2025-02-08T00:00:00.000000000",
          "2025-02-09T00:00:00.000000000",
          "2025-02-10T00:00:00.000000000",
          "2025-02-11T00:00:00.000000000",
          "2025-02-12T00:00:00.000000000",
          "2025-02-13T00:00:00.000000000",
          "2025-02-14T00:00:00.000000000",
          "2025-02-15T00:00:00.000000000",
          "2025-02-16T00:00:00.000000000",
          "2025-02-17T00:00:00.000000000",
          "2025-02-18T00:00:00.000000000",
          "2025-02-19T00:00:00.000000000",
          "2025-02-20T00:00:00.000000000",
          "2025-02-21T00:00:00.000000000",
          "2025-02-22T00:00:00.000000000",
          "2025-02-23T00:00:00.000000000",
          "2025-02-24T00:00:00.000000000",
          "2025-02-25T00:00:00.000000000",
          "2025-02-26T00:00:00.000000000",
          "2025-02-27T00:00:00.000000000",
          "2025-02-28T00:00:00.000000000",
          "2025-03-01T00:00:00.000000000",
          "2025-03-02T00:00:00.000000000",
          "2025-03-03T00:00:00.000000000",
          "2025-03-04T00:00:00.000000000",
          "2025-03-05T00:00:00.000000000",
          "2025-03-06T00:00:00.000000000",
          "2025-03-07T00:00:00.000000000",
          "2025-03-08T00:00:00.000000000",
          "2025-03-09T00:00:00.000000000",
          "2025-03-10T00:00:00.000000000",
          "2025-03-11T00:00:00.000000000",
          "2025-03-12T00:00:00.000000000",
          "2025-03-13T00:00:00.000000000",
          "2025-03-14T00:00:00.000000000",
          "2025-03-15T00:00:00.000000000",
          "2025-03-16T00:00:00.000000000",
          "2025-03-17T00:00:00.000000000",
          "2025-03-18T00:00:00.000000000",
          "2025-03-19T00:00:00.000000000",
          "2025-03-20T00:00:00.000000000",
          "2025-03-21T00:00:00.000000000",
          "2025-03-22T00:00:00.000000000",
          "2025-03-23T00:00:00.000000000",
          "2025-03-24T00:00:00.000000000",
          "2025-03-25T00:00:00.000000000",
          "2025-03-26T00:00:00.000000000",
          "2025-03-27T00:00:00.000000000",
          "2025-03-28T00:00:00.000000000",
          "2025-03-29T00:00:00.000000000",
          "2025-03-30T00:00:00.000000000",
          "2025-03-31T00:00:00.000000000",
          "2025-04-01T00:00:00.000000000",
          "2025-04-02T00:00:00.000000000",
          "2025-04-03T00:00:00.000000000",
          "2025-04-04T00:00:00.000000000",
          "2025-04-05T00:00:00.000000000",
          "2025-04-06T00:00:00.000000000",
          "2025-04-07T00:00:00.000000000",
          "2025-04-08T00:00:00.000000000",
          "2025-04-09T00:00:00.000000000",
          "2025-04-10T00:00:00.000000000",
          "2025-04-11T00:00:00.000000000",
          "2025-04-12T00:00:00.000000000",
          "2025-04-13T00:00:00.000000000",
          "2025-04-14T00:00:00.000000000",
          "2025-04-15T00:00:00.000000000",
          "2025-04-16T00:00:00.000000000",
          "2025-04-17T00:00:00.000000000",
          "2025-04-18T00:00:00.000000000",
          "2025-04-19T00:00:00.000000000"
         ]
        }
       ],
       "layout": {
        "height": 800,
        "paper_bgcolor": "black",
        "plot_bgcolor": "black",
        "shapes": [
         {
          "fillcolor": "rgba(0,255,0,0.3)",
          "layer": "below",
          "line": {
           "width": 0
          },
          "opacity": 0.8,
          "type": "rect",
          "x0": "2025-01-13T00:00:00",
          "x1": "2025-03-06T00:00:00",
          "y0": 95900,
          "y1": 96400
         },
         {
          "fillcolor": "rgba(0,255,0,0.3)",
          "layer": "below",
          "line": {
           "width": 0
          },
          "opacity": 0.8,
          "type": "rect",
          "x0": "2025-01-16T00:00:00",
          "x1": "2025-03-09T00:00:00",
          "y0": 100880,
          "y1": 102233.45
         },
         {
          "fillcolor": "rgba(255,0,0,0.3)",
          "layer": "below",
          "line": {
           "width": 0
          },
          "opacity": 0.8,
          "type": "rect",
          "x0": "2025-01-25T00:00:00",
          "x1": "2025-03-18T00:00:00",
          "y0": 104104,
          "y1": 103228.46
         },
         {
          "fillcolor": "rgba(255,0,0,0.3)",
          "layer": "below",
          "line": {
           "width": 0
          },
          "opacity": 0.8,
          "type": "rect",
          "x0": "2025-01-30T00:00:00",
          "x1": "2025-03-23T00:00:00",
          "y0": 103289.74,
          "y1": 102781.65
         },
         {
          "fillcolor": "rgba(255,0,0,0.3)",
          "layer": "below",
          "line": {
           "width": 0
          },
          "opacity": 0.8,
          "type": "rect",
          "x0": "2025-01-31T00:00:00",
          "x1": "2025-03-24T00:00:00",
          "y0": 101506,
          "y1": 101459.84
         },
         {
          "fillcolor": "rgba(255,0,0,0.3)",
          "layer": "below",
          "line": {
           "width": 0
          },
          "opacity": 0.8,
          "type": "rect",
          "x0": "2025-02-15T00:00:00",
          "x1": "2025-04-08T00:00:00",
          "y0": 97225.01,
          "y1": 97050.64
         },
         {
          "fillcolor": "rgba(255,0,0,0.3)",
          "layer": "below",
          "line": {
           "width": 0
          },
          "opacity": 0.8,
          "type": "rect",
          "x0": "2025-02-23T00:00:00",
          "x1": "2025-04-16T00:00:00",
          "y0": 95243.91,
          "y1": 92549.99
         },
         {
          "fillcolor": "rgba(255,0,0,0.3)",
          "layer": "below",
          "line": {
           "width": 0
          },
          "opacity": 0.8,
          "type": "rect",
          "x0": "2025-02-24T00:00:00",
          "x1": "2025-04-17T00:00:00",
          "y0": 91300,
          "y1": 89305.68
         },
         {
          "fillcolor": "rgba(255,0,0,0.3)",
          "layer": "below",
          "line": {
           "width": 0
          },
          "opacity": 0.8,
          "type": "rect",
          "x0": "2025-03-08T00:00:00",
          "x1": "2025-04-29T00:00:00",
          "y0": 85200,
          "y1": 84033.66
         },
         {
          "fillcolor": "rgba(0,255,0,0.3)",
          "layer": "below",
          "line": {
           "width": 0
          },
          "opacity": 0.8,
          "type": "rect",
          "x0": "2025-03-22T00:00:00",
          "x1": "2025-05-13T00:00:00",
          "y0": 84517.75,
          "y1": 85533.06
         },
         {
          "fillcolor": "rgba(255,0,0,0.3)",
          "layer": "below",
          "line": {
           "width": 0
          },
          "opacity": 0.8,
          "type": "rect",
          "x0": "2025-03-27T00:00:00",
          "x1": "2025-05-18T00:00:00",
          "y0": 87108.87,
          "y1": 84584.13
         },
         {
          "fillcolor": "rgba(255,0,0,0.3)",
          "layer": "below",
          "line": {
           "width": 0
          },
          "opacity": 0.8,
          "type": "rect",
          "x0": "2025-03-28T00:00:00",
          "x1": "2025-05-19T00:00:00",
          "y0": 83533.4,
          "y1": 83508.98
         },
         {
          "fillcolor": "rgba(255,0,0,0.3)",
          "layer": "below",
          "line": {
           "width": 0
          },
          "opacity": 0.8,
          "type": "rect",
          "x0": "2025-04-05T00:00:00",
          "x1": "2025-05-27T00:00:00",
          "y0": 82346.61,
          "y1": 81223.67
         },
         {
          "fillcolor": "rgba(0,255,0,0.3)",
          "layer": "below",
          "line": {
           "width": 0
          },
          "opacity": 0.8,
          "type": "rect",
          "x0": "2025-04-10T00:00:00",
          "x1": "2025-06-01T00:00:00",
          "y0": 82730.93,
          "y1": 82765.26
         }
        ],
        "template": {
         "data": {
          "bar": [
           {
            "error_x": {
             "color": "#2a3f5f"
            },
            "error_y": {
             "color": "#2a3f5f"
            },
            "marker": {
             "line": {
              "color": "#E5ECF6",
              "width": 0.5
             },
             "pattern": {
              "fillmode": "overlay",
              "size": 10,
              "solidity": 0.2
             }
            },
            "type": "bar"
           }
          ],
          "barpolar": [
           {
            "marker": {
             "line": {
              "color": "#E5ECF6",
              "width": 0.5
             },
             "pattern": {
              "fillmode": "overlay",
              "size": 10,
              "solidity": 0.2
             }
            },
            "type": "barpolar"
           }
          ],
          "carpet": [
           {
            "aaxis": {
             "endlinecolor": "#2a3f5f",
             "gridcolor": "white",
             "linecolor": "white",
             "minorgridcolor": "white",
             "startlinecolor": "#2a3f5f"
            },
            "baxis": {
             "endlinecolor": "#2a3f5f",
             "gridcolor": "white",
             "linecolor": "white",
             "minorgridcolor": "white",
             "startlinecolor": "#2a3f5f"
            },
            "type": "carpet"
           }
          ],
          "choropleth": [
           {
            "colorbar": {
             "outlinewidth": 0,
             "ticks": ""
            },
            "type": "choropleth"
           }
          ],
          "contour": [
           {
            "colorbar": {
             "outlinewidth": 0,
             "ticks": ""
            },
            "colorscale": [
             [
              0,
              "#0d0887"
             ],
             [
              0.1111111111111111,
              "#46039f"
             ],
             [
              0.2222222222222222,
              "#7201a8"
             ],
             [
              0.3333333333333333,
              "#9c179e"
             ],
             [
              0.4444444444444444,
              "#bd3786"
             ],
             [
              0.5555555555555556,
              "#d8576b"
             ],
             [
              0.6666666666666666,
              "#ed7953"
             ],
             [
              0.7777777777777778,
              "#fb9f3a"
             ],
             [
              0.8888888888888888,
              "#fdca26"
             ],
             [
              1,
              "#f0f921"
             ]
            ],
            "type": "contour"
           }
          ],
          "contourcarpet": [
           {
            "colorbar": {
             "outlinewidth": 0,
             "ticks": ""
            },
            "type": "contourcarpet"
           }
          ],
          "heatmap": [
           {
            "colorbar": {
             "outlinewidth": 0,
             "ticks": ""
            },
            "colorscale": [
             [
              0,
              "#0d0887"
             ],
             [
              0.1111111111111111,
              "#46039f"
             ],
             [
              0.2222222222222222,
              "#7201a8"
             ],
             [
              0.3333333333333333,
              "#9c179e"
             ],
             [
              0.4444444444444444,
              "#bd3786"
             ],
             [
              0.5555555555555556,
              "#d8576b"
             ],
             [
              0.6666666666666666,
              "#ed7953"
             ],
             [
              0.7777777777777778,
              "#fb9f3a"
             ],
             [
              0.8888888888888888,
              "#fdca26"
             ],
             [
              1,
              "#f0f921"
             ]
            ],
            "type": "heatmap"
           }
          ],
          "histogram": [
           {
            "marker": {
             "pattern": {
              "fillmode": "overlay",
              "size": 10,
              "solidity": 0.2
             }
            },
            "type": "histogram"
           }
          ],
          "histogram2d": [
           {
            "colorbar": {
             "outlinewidth": 0,
             "ticks": ""
            },
            "colorscale": [
             [
              0,
              "#0d0887"
             ],
             [
              0.1111111111111111,
              "#46039f"
             ],
             [
              0.2222222222222222,
              "#7201a8"
             ],
             [
              0.3333333333333333,
              "#9c179e"
             ],
             [
              0.4444444444444444,
              "#bd3786"
             ],
             [
              0.5555555555555556,
              "#d8576b"
             ],
             [
              0.6666666666666666,
              "#ed7953"
             ],
             [
              0.7777777777777778,
              "#fb9f3a"
             ],
             [
              0.8888888888888888,
              "#fdca26"
             ],
             [
              1,
              "#f0f921"
             ]
            ],
            "type": "histogram2d"
           }
          ],
          "histogram2dcontour": [
           {
            "colorbar": {
             "outlinewidth": 0,
             "ticks": ""
            },
            "colorscale": [
             [
              0,
              "#0d0887"
             ],
             [
              0.1111111111111111,
              "#46039f"
             ],
             [
              0.2222222222222222,
              "#7201a8"
             ],
             [
              0.3333333333333333,
              "#9c179e"
             ],
             [
              0.4444444444444444,
              "#bd3786"
             ],
             [
              0.5555555555555556,
              "#d8576b"
             ],
             [
              0.6666666666666666,
              "#ed7953"
             ],
             [
              0.7777777777777778,
              "#fb9f3a"
             ],
             [
              0.8888888888888888,
              "#fdca26"
             ],
             [
              1,
              "#f0f921"
             ]
            ],
            "type": "histogram2dcontour"
           }
          ],
          "mesh3d": [
           {
            "colorbar": {
             "outlinewidth": 0,
             "ticks": ""
            },
            "type": "mesh3d"
           }
          ],
          "parcoords": [
           {
            "line": {
             "colorbar": {
              "outlinewidth": 0,
              "ticks": ""
             }
            },
            "type": "parcoords"
           }
          ],
          "pie": [
           {
            "automargin": true,
            "type": "pie"
           }
          ],
          "scatter": [
           {
            "fillpattern": {
             "fillmode": "overlay",
             "size": 10,
             "solidity": 0.2
            },
            "type": "scatter"
           }
          ],
          "scatter3d": [
           {
            "line": {
             "colorbar": {
              "outlinewidth": 0,
              "ticks": ""
             }
            },
            "marker": {
             "colorbar": {
              "outlinewidth": 0,
              "ticks": ""
             }
            },
            "type": "scatter3d"
           }
          ],
          "scattercarpet": [
           {
            "marker": {
             "colorbar": {
              "outlinewidth": 0,
              "ticks": ""
             }
            },
            "type": "scattercarpet"
           }
          ],
          "scattergeo": [
           {
            "marker": {
             "colorbar": {
              "outlinewidth": 0,
              "ticks": ""
             }
            },
            "type": "scattergeo"
           }
          ],
          "scattergl": [
           {
            "marker": {
             "colorbar": {
              "outlinewidth": 0,
              "ticks": ""
             }
            },
            "type": "scattergl"
           }
          ],
          "scattermap": [
           {
            "marker": {
             "colorbar": {
              "outlinewidth": 0,
              "ticks": ""
             }
            },
            "type": "scattermap"
           }
          ],
          "scattermapbox": [
           {
            "marker": {
             "colorbar": {
              "outlinewidth": 0,
              "ticks": ""
             }
            },
            "type": "scattermapbox"
           }
          ],
          "scatterpolar": [
           {
            "marker": {
             "colorbar": {
              "outlinewidth": 0,
              "ticks": ""
             }
            },
            "type": "scatterpolar"
           }
          ],
          "scatterpolargl": [
           {
            "marker": {
             "colorbar": {
              "outlinewidth": 0,
              "ticks": ""
             }
            },
            "type": "scatterpolargl"
           }
          ],
          "scatterternary": [
           {
            "marker": {
             "colorbar": {
              "outlinewidth": 0,
              "ticks": ""
             }
            },
            "type": "scatterternary"
           }
          ],
          "surface": [
           {
            "colorbar": {
             "outlinewidth": 0,
             "ticks": ""
            },
            "colorscale": [
             [
              0,
              "#0d0887"
             ],
             [
              0.1111111111111111,
              "#46039f"
             ],
             [
              0.2222222222222222,
              "#7201a8"
             ],
             [
              0.3333333333333333,
              "#9c179e"
             ],
             [
              0.4444444444444444,
              "#bd3786"
             ],
             [
              0.5555555555555556,
              "#d8576b"
             ],
             [
              0.6666666666666666,
              "#ed7953"
             ],
             [
              0.7777777777777778,
              "#fb9f3a"
             ],
             [
              0.8888888888888888,
              "#fdca26"
             ],
             [
              1,
              "#f0f921"
             ]
            ],
            "type": "surface"
           }
          ],
          "table": [
           {
            "cells": {
             "fill": {
              "color": "#EBF0F8"
             },
             "line": {
              "color": "white"
             }
            },
            "header": {
             "fill": {
              "color": "#C8D4E3"
             },
             "line": {
              "color": "white"
             }
            },
            "type": "table"
           }
          ]
         },
         "layout": {
          "annotationdefaults": {
           "arrowcolor": "#2a3f5f",
           "arrowhead": 0,
           "arrowwidth": 1
          },
          "autotypenumbers": "strict",
          "coloraxis": {
           "colorbar": {
            "outlinewidth": 0,
            "ticks": ""
           }
          },
          "colorscale": {
           "diverging": [
            [
             0,
             "#8e0152"
            ],
            [
             0.1,
             "#c51b7d"
            ],
            [
             0.2,
             "#de77ae"
            ],
            [
             0.3,
             "#f1b6da"
            ],
            [
             0.4,
             "#fde0ef"
            ],
            [
             0.5,
             "#f7f7f7"
            ],
            [
             0.6,
             "#e6f5d0"
            ],
            [
             0.7,
             "#b8e186"
            ],
            [
             0.8,
             "#7fbc41"
            ],
            [
             0.9,
             "#4d9221"
            ],
            [
             1,
             "#276419"
            ]
           ],
           "sequential": [
            [
             0,
             "#0d0887"
            ],
            [
             0.1111111111111111,
             "#46039f"
            ],
            [
             0.2222222222222222,
             "#7201a8"
            ],
            [
             0.3333333333333333,
             "#9c179e"
            ],
            [
             0.4444444444444444,
             "#bd3786"
            ],
            [
             0.5555555555555556,
             "#d8576b"
            ],
            [
             0.6666666666666666,
             "#ed7953"
            ],
            [
             0.7777777777777778,
             "#fb9f3a"
            ],
            [
             0.8888888888888888,
             "#fdca26"
            ],
            [
             1,
             "#f0f921"
            ]
           ],
           "sequentialminus": [
            [
             0,
             "#0d0887"
            ],
            [
             0.1111111111111111,
             "#46039f"
            ],
            [
             0.2222222222222222,
             "#7201a8"
            ],
            [
             0.3333333333333333,
             "#9c179e"
            ],
            [
             0.4444444444444444,
             "#bd3786"
            ],
            [
             0.5555555555555556,
             "#d8576b"
            ],
            [
             0.6666666666666666,
             "#ed7953"
            ],
            [
             0.7777777777777778,
             "#fb9f3a"
            ],
            [
             0.8888888888888888,
             "#fdca26"
            ],
            [
             1,
             "#f0f921"
            ]
           ]
          },
          "colorway": [
           "#636efa",
           "#EF553B",
           "#00cc96",
           "#ab63fa",
           "#FFA15A",
           "#19d3f3",
           "#FF6692",
           "#B6E880",
           "#FF97FF",
           "#FECB52"
          ],
          "font": {
           "color": "#2a3f5f"
          },
          "geo": {
           "bgcolor": "white",
           "lakecolor": "white",
           "landcolor": "#E5ECF6",
           "showlakes": true,
           "showland": true,
           "subunitcolor": "white"
          },
          "hoverlabel": {
           "align": "left"
          },
          "hovermode": "closest",
          "mapbox": {
           "style": "light"
          },
          "paper_bgcolor": "white",
          "plot_bgcolor": "#E5ECF6",
          "polar": {
           "angularaxis": {
            "gridcolor": "white",
            "linecolor": "white",
            "ticks": ""
           },
           "bgcolor": "#E5ECF6",
           "radialaxis": {
            "gridcolor": "white",
            "linecolor": "white",
            "ticks": ""
           }
          },
          "scene": {
           "xaxis": {
            "backgroundcolor": "#E5ECF6",
            "gridcolor": "white",
            "gridwidth": 2,
            "linecolor": "white",
            "showbackground": true,
            "ticks": "",
            "zerolinecolor": "white"
           },
           "yaxis": {
            "backgroundcolor": "#E5ECF6",
            "gridcolor": "white",
            "gridwidth": 2,
            "linecolor": "white",
            "showbackground": true,
            "ticks": "",
            "zerolinecolor": "white"
           },
           "zaxis": {
            "backgroundcolor": "#E5ECF6",
            "gridcolor": "white",
            "gridwidth": 2,
            "linecolor": "white",
            "showbackground": true,
            "ticks": "",
            "zerolinecolor": "white"
           }
          },
          "shapedefaults": {
           "line": {
            "color": "#2a3f5f"
           }
          },
          "ternary": {
           "aaxis": {
            "gridcolor": "white",
            "linecolor": "white",
            "ticks": ""
           },
           "baxis": {
            "gridcolor": "white",
            "linecolor": "white",
            "ticks": ""
           },
           "bgcolor": "#E5ECF6",
           "caxis": {
            "gridcolor": "white",
            "linecolor": "white",
            "ticks": ""
           }
          },
          "title": {
           "x": 0.05
          },
          "xaxis": {
           "automargin": true,
           "gridcolor": "white",
           "linecolor": "white",
           "ticks": "",
           "title": {
            "standoff": 15
           },
           "zerolinecolor": "white",
           "zerolinewidth": 2
          },
          "yaxis": {
           "automargin": true,
           "gridcolor": "white",
           "linecolor": "white",
           "ticks": "",
           "title": {
            "standoff": 15
           },
           "zerolinecolor": "white",
           "zerolinewidth": 2
          }
         }
        },
        "width": 1200,
        "xaxis": {
         "showgrid": false
        },
        "yaxis": {
         "showgrid": false
        }
       }
      }
     },
     "metadata": {},
     "output_type": "display_data"
    }
   ],
   "source": [
    "import plotly.graph_objects as go\n",
    "from datetime import datetime\n",
    "\n",
    "dfpl = btc[-100:]\n",
    "# Create the figure\n",
    "fig = go.Figure()\n",
    "\n",
    "# Add candlestick chart\n",
    "fig.add_trace(go.Candlestick(\n",
    "    x=dfpl.index,\n",
    "    open=dfpl[\"Open\"],\n",
    "    high=dfpl[\"High\"],\n",
    "    low=dfpl[\"Low\"],\n",
    "    close=dfpl[\"Close\"],\n",
    "    name=\"Candles\"\n",
    "))\n",
    "\n",
    "# Add FVG zones\n",
    "for _, row in dfpl.iterrows():\n",
    "    if isinstance(row[\"FVG\"], tuple):\n",
    "        fvg_type, start, end, index = row[\"FVG\"]\n",
    "        color = \"rgba(0,255,0,0.3)\" if fvg_type == \"bullish\" else \"rgba(255,0,0,0.3)\"\n",
    "        current_date = row.name\n",
    "        time_delta = (dfpl.index[1] - dfpl.index[0]) * 2\n",
    "        forward_delta = (dfpl.index[1] - dfpl.index[0]) * 50\n",
    "        fig.add_shape(\n",
    "            type=\"rect\",\n",
    "            x0=current_date - time_delta,\n",
    "            x1=current_date + forward_delta,\n",
    "            y0=start,\n",
    "            y1=end,\n",
    "            fillcolor=color,\n",
    "            opacity=0.8,\n",
    "            layer=\"below\",\n",
    "            line=dict(width=0),\n",
    "        )\n",
    "\n",
    "# Show the chart\n",
    "fig.update_layout(width=1200, height=800,\n",
    "                  xaxis=dict(showgrid=False),\n",
    "                  yaxis=dict(showgrid=False),\n",
    "                  plot_bgcolor='black',\n",
    "                  paper_bgcolor='black')\n",
    "fig.show()"
   ]
  },
  {
   "cell_type": "markdown",
   "metadata": {},
   "source": [
    "Interpretation:\n",
    "- Candlestick Chart: The main display shows Daily Bitcoin price movements with candlesticks - green candles represent price increases, while red candles show price decreases.\n",
    "- Price Range: The y-axis shows the Bitcoin price.\n",
    "- Colored Rectangles: Fair Value Gaps (FVGs)\n",
    "    - Green rectangles: Bullish FVGs (where price moved up quickly, creating a gap)\n",
    "    - Red rectangles: Bearish FVGs (where price moved down quickly, creating a gap)\n",
    "\n",
    "\n",
    "Intuition:\n",
    "- Green rectangles (Bullish FVGs): These indicate potential buying opportunities, especially if price returns to test this level from above AND the previous candle breaks above a key resistance level.\n",
    "- Red rectangles (Bearish FVGs): These indicate potential selling opportunities in, especially if price returns to test this level from below AND the previous candle breaks below a key support level.\n",
    "\n",
    "\n",
    "Note:\n",
    "- FVG on its own is not enough. We need something else to reinforce these claims"
   ]
  },
  {
   "cell_type": "markdown",
   "metadata": {},
   "source": [
    "# Key Levels"
   ]
  },
  {
   "cell_type": "code",
   "execution_count": 19,
   "metadata": {},
   "outputs": [
    {
     "name": "stderr",
     "output_type": "stream",
     "text": [
      "100%|██████████| 3497/3497 [00:07<00:00, 478.67it/s]\n"
     ]
    },
    {
     "data": {
      "text/html": [
       "<div>\n",
       "<style scoped>\n",
       "    .dataframe tbody tr th:only-of-type {\n",
       "        vertical-align: middle;\n",
       "    }\n",
       "\n",
       "    .dataframe tbody tr th {\n",
       "        vertical-align: top;\n",
       "    }\n",
       "\n",
       "    .dataframe thead th {\n",
       "        text-align: right;\n",
       "    }\n",
       "</style>\n",
       "<table border=\"1\" class=\"dataframe\">\n",
       "  <thead>\n",
       "    <tr style=\"text-align: right;\">\n",
       "      <th></th>\n",
       "      <th>Date</th>\n",
       "      <th>Open</th>\n",
       "      <th>High</th>\n",
       "      <th>Low</th>\n",
       "      <th>Close</th>\n",
       "      <th>Volume</th>\n",
       "      <th>Risk Free Rate</th>\n",
       "      <th>FVG</th>\n",
       "      <th>key_levels</th>\n",
       "    </tr>\n",
       "  </thead>\n",
       "  <tbody>\n",
       "    <tr>\n",
       "      <th>5</th>\n",
       "      <td>2015-07-25</td>\n",
       "      <td>289.12</td>\n",
       "      <td>291.67</td>\n",
       "      <td>286.82</td>\n",
       "      <td>289.70</td>\n",
       "      <td>4102.452960</td>\n",
       "      <td>0.02271</td>\n",
       "      <td>(bullish, 279.75, 286.82, 5)</td>\n",
       "      <td>None</td>\n",
       "    </tr>\n",
       "    <tr>\n",
       "      <th>10</th>\n",
       "      <td>2015-07-30</td>\n",
       "      <td>290.26</td>\n",
       "      <td>291.56</td>\n",
       "      <td>286.56</td>\n",
       "      <td>288.49</td>\n",
       "      <td>5138.981549</td>\n",
       "      <td>0.02268</td>\n",
       "      <td>(bearish, 293.65, 291.56, 10)</td>\n",
       "      <td>None</td>\n",
       "    </tr>\n",
       "    <tr>\n",
       "      <th>13</th>\n",
       "      <td>2015-08-02</td>\n",
       "      <td>281.53</td>\n",
       "      <td>282.62</td>\n",
       "      <td>277.33</td>\n",
       "      <td>282.62</td>\n",
       "      <td>3361.086689</td>\n",
       "      <td>0.02205</td>\n",
       "      <td>(bearish, 282.79, 282.62, 13)</td>\n",
       "      <td>None</td>\n",
       "    </tr>\n",
       "    <tr>\n",
       "      <th>20</th>\n",
       "      <td>2015-08-09</td>\n",
       "      <td>262.02</td>\n",
       "      <td>268.80</td>\n",
       "      <td>260.97</td>\n",
       "      <td>267.63</td>\n",
       "      <td>5046.976875</td>\n",
       "      <td>0.02175</td>\n",
       "      <td>(bearish, 277.05, 268.8, 20)</td>\n",
       "      <td>None</td>\n",
       "    </tr>\n",
       "    <tr>\n",
       "      <th>30</th>\n",
       "      <td>2015-08-19</td>\n",
       "      <td>221.99</td>\n",
       "      <td>238.99</td>\n",
       "      <td>214.91</td>\n",
       "      <td>227.34</td>\n",
       "      <td>13329.690336</td>\n",
       "      <td>0.02129</td>\n",
       "      <td>(bearish, 255.58, 238.99, 30)</td>\n",
       "      <td>None</td>\n",
       "    </tr>\n",
       "    <tr>\n",
       "      <th>...</th>\n",
       "      <td>...</td>\n",
       "      <td>...</td>\n",
       "      <td>...</td>\n",
       "      <td>...</td>\n",
       "      <td>...</td>\n",
       "      <td>...</td>\n",
       "      <td>...</td>\n",
       "      <td>...</td>\n",
       "      <td>...</td>\n",
       "    </tr>\n",
       "    <tr>\n",
       "      <th>3535</th>\n",
       "      <td>2025-03-24</td>\n",
       "      <td>86092.95</td>\n",
       "      <td>88804.64</td>\n",
       "      <td>85533.06</td>\n",
       "      <td>87523.62</td>\n",
       "      <td>13107.503916</td>\n",
       "      <td>0.04331</td>\n",
       "      <td>(bullish, 84517.75, 85533.06, 3535)</td>\n",
       "      <td>{'support': [(3486, 91178.01)], 'resistance': []}</td>\n",
       "    </tr>\n",
       "    <tr>\n",
       "      <th>3540</th>\n",
       "      <td>2025-03-29</td>\n",
       "      <td>84381.81</td>\n",
       "      <td>84584.13</td>\n",
       "      <td>81608.99</td>\n",
       "      <td>82616.83</td>\n",
       "      <td>3194.243037</td>\n",
       "      <td>0.04255</td>\n",
       "      <td>(bearish, 87108.87, 84584.13, 3540)</td>\n",
       "      <td>{'support': [(3522, 76555.0)], 'resistance': []}</td>\n",
       "    </tr>\n",
       "    <tr>\n",
       "      <th>3541</th>\n",
       "      <td>2025-03-30</td>\n",
       "      <td>82624.06</td>\n",
       "      <td>83508.98</td>\n",
       "      <td>81538.88</td>\n",
       "      <td>82379.98</td>\n",
       "      <td>2472.723022</td>\n",
       "      <td>0.04255</td>\n",
       "      <td>(bearish, 83533.4, 83508.98, 3541)</td>\n",
       "      <td>{'support': [(3522, 76555.0)], 'resistance': []}</td>\n",
       "    </tr>\n",
       "    <tr>\n",
       "      <th>3549</th>\n",
       "      <td>2025-04-07</td>\n",
       "      <td>78370.15</td>\n",
       "      <td>81223.67</td>\n",
       "      <td>74420.69</td>\n",
       "      <td>79140.01</td>\n",
       "      <td>26706.529308</td>\n",
       "      <td>0.04155</td>\n",
       "      <td>(bearish, 82346.61, 81223.67, 3549)</td>\n",
       "      <td>{'support': [(3522, 76555.0)], 'resistance': []}</td>\n",
       "    </tr>\n",
       "    <tr>\n",
       "      <th>3554</th>\n",
       "      <td>2025-04-12</td>\n",
       "      <td>83379.64</td>\n",
       "      <td>85909.97</td>\n",
       "      <td>82765.26</td>\n",
       "      <td>85271.01</td>\n",
       "      <td>3972.492821</td>\n",
       "      <td>0.04493</td>\n",
       "      <td>(bullish, 82730.93, 82765.26, 3554)</td>\n",
       "      <td>{'support': [(3522, 76555.0)], 'resistance': [...</td>\n",
       "    </tr>\n",
       "  </tbody>\n",
       "</table>\n",
       "<p>611 rows × 9 columns</p>\n",
       "</div>"
      ],
      "text/plain": [
       "           Date      Open      High       Low     Close        Volume  \\\n",
       "5    2015-07-25    289.12    291.67    286.82    289.70   4102.452960   \n",
       "10   2015-07-30    290.26    291.56    286.56    288.49   5138.981549   \n",
       "13   2015-08-02    281.53    282.62    277.33    282.62   3361.086689   \n",
       "20   2015-08-09    262.02    268.80    260.97    267.63   5046.976875   \n",
       "30   2015-08-19    221.99    238.99    214.91    227.34  13329.690336   \n",
       "...         ...       ...       ...       ...       ...           ...   \n",
       "3535 2025-03-24  86092.95  88804.64  85533.06  87523.62  13107.503916   \n",
       "3540 2025-03-29  84381.81  84584.13  81608.99  82616.83   3194.243037   \n",
       "3541 2025-03-30  82624.06  83508.98  81538.88  82379.98   2472.723022   \n",
       "3549 2025-04-07  78370.15  81223.67  74420.69  79140.01  26706.529308   \n",
       "3554 2025-04-12  83379.64  85909.97  82765.26  85271.01   3972.492821   \n",
       "\n",
       "      Risk Free Rate                                  FVG  \\\n",
       "5            0.02271         (bullish, 279.75, 286.82, 5)   \n",
       "10           0.02268        (bearish, 293.65, 291.56, 10)   \n",
       "13           0.02205        (bearish, 282.79, 282.62, 13)   \n",
       "20           0.02175         (bearish, 277.05, 268.8, 20)   \n",
       "30           0.02129        (bearish, 255.58, 238.99, 30)   \n",
       "...              ...                                  ...   \n",
       "3535         0.04331  (bullish, 84517.75, 85533.06, 3535)   \n",
       "3540         0.04255  (bearish, 87108.87, 84584.13, 3540)   \n",
       "3541         0.04255   (bearish, 83533.4, 83508.98, 3541)   \n",
       "3549         0.04155  (bearish, 82346.61, 81223.67, 3549)   \n",
       "3554         0.04493  (bullish, 82730.93, 82765.26, 3554)   \n",
       "\n",
       "                                             key_levels  \n",
       "5                                                  None  \n",
       "10                                                 None  \n",
       "13                                                 None  \n",
       "20                                                 None  \n",
       "30                                                 None  \n",
       "...                                                 ...  \n",
       "3535  {'support': [(3486, 91178.01)], 'resistance': []}  \n",
       "3540   {'support': [(3522, 76555.0)], 'resistance': []}  \n",
       "3541   {'support': [(3522, 76555.0)], 'resistance': []}  \n",
       "3549   {'support': [(3522, 76555.0)], 'resistance': []}  \n",
       "3554  {'support': [(3522, 76555.0)], 'resistance': [...  \n",
       "\n",
       "[611 rows x 9 columns]"
      ]
     },
     "execution_count": 19,
     "metadata": {},
     "output_type": "execute_result"
    }
   ],
   "source": [
    "def detect_key_levels(df, current_candle, backcandles=50, test_candles=10):\n",
    "    \"\"\"\n",
    "    Detects key support and resistance levels in a given backcandles window.\n",
    "    \n",
    "    A level is identified if a candle's high is the highest or its low is the lowest \n",
    "    compared to `test_candles` before and after it.\n",
    "\n",
    "    Parameters:\n",
    "        df (pd.DataFrame): DataFrame containing 'High' and 'Low' columns.\n",
    "        current_candle (int): The index of the current candle (latest available candle).\n",
    "        backcandles (int): Number of candles to look back.\n",
    "        test_candles (int): Number of candles before and after each candle to check.\n",
    "\n",
    "    Returns:\n",
    "        dict: A dictionary with detected 'support' and 'resistance' levels.\n",
    "    \"\"\"\n",
    "    key_levels = {\"support\": [], \"resistance\": []}\n",
    "\n",
    "    # Define the last candle that can be tested to avoid lookahead bias\n",
    "    last_testable_candle = current_candle - test_candles\n",
    "\n",
    "    # Ensure we have enough data\n",
    "    if last_testable_candle < backcandles + test_candles:\n",
    "        return key_levels  # Not enough historical data\n",
    "\n",
    "    # Iterate through the backcandles window\n",
    "    for i in range(current_candle - backcandles, last_testable_candle):\n",
    "        high = df['High'].iloc[i]\n",
    "        low = df['Low'].iloc[i]\n",
    "\n",
    "        # Get surrounding window of test_candles before and after\n",
    "        before = df.iloc[max(0, i - test_candles):i]\n",
    "        after = df.iloc[i + 1: min(len(df), i + test_candles + 1)]\n",
    "\n",
    "        # Check if current high is the highest among before & after candles\n",
    "        if high > before['High'].max() and high > after['High'].max():\n",
    "            key_levels[\"resistance\"].append((i, high))\n",
    "\n",
    "        # Check if current low is the lowest among before & after candles\n",
    "        if low < before['Low'].min() and low < after['Low'].min():\n",
    "            key_levels[\"support\"].append((i, low))\n",
    "\n",
    "    return key_levels\n",
    "\n",
    "def fill_key_levels(df, backcandles=50, test_candles=10):\n",
    "    \"\"\"\n",
    "    Adds a 'key_levels' column to the DataFrame where each row contains all\n",
    "    key support and resistance levels detected up to that candle (including\n",
    "    both the level value and the index of the candle that generated it).\n",
    "    \n",
    "    Parameters:\n",
    "        df (pd.DataFrame): DataFrame containing 'High' and 'Low' columns.\n",
    "        backcandles (int): Lookback window for detecting key levels.\n",
    "        test_candles (int): Number of candles before/after for validation.\n",
    "\n",
    "    Returns:\n",
    "        pd.DataFrame: Updated DataFrame with the new 'key_levels' column.\n",
    "    \"\"\"\n",
    "    df[\"key_levels\"] = None  # Initialize the column\n",
    "    \n",
    "    from tqdm import tqdm\n",
    "    for current_candle in tqdm(range(backcandles + test_candles, len(df))):\n",
    "        # Detect key levels for the current candle\n",
    "        key_levels = detect_key_levels(df, current_candle, backcandles, test_candles)\n",
    "\n",
    "        # Collect support and resistance levels (with their indices) up to current_candle\n",
    "        support_levels = [(idx, level) for (idx, level) in key_levels[\"support\"] \n",
    "                          if idx < current_candle]\n",
    "        resistance_levels = [(idx, level) for (idx, level) in key_levels[\"resistance\"] \n",
    "                             if idx < current_candle]\n",
    "\n",
    "        # Store the levels along with the originating candle index\n",
    "        if support_levels or resistance_levels:\n",
    "            df.at[current_candle, \"key_levels\"] = {\n",
    "                \"support\": support_levels,\n",
    "                \"resistance\": resistance_levels\n",
    "            }\n",
    "            \n",
    "    return df\n",
    "\n",
    "btc = fill_key_levels(btc.reset_index(), backcandles=50, test_candles=15)\n",
    "btc[~btc['FVG'].isna()]"
   ]
  },
  {
   "cell_type": "markdown",
   "metadata": {},
   "source": [
    "# Visualize Key Levels"
   ]
  },
  {
   "cell_type": "code",
   "execution_count": 20,
   "metadata": {},
   "outputs": [
    {
     "data": {
      "application/vnd.plotly.v1+json": {
       "config": {
        "plotlyServerURL": "https://plot.ly"
       },
       "data": [
        {
         "close": {
          "bdata": "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",
          "dtype": "f8"
         },
         "high": {
          "bdata": "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",
          "dtype": "f8"
         },
         "low": {
          "bdata": "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",
          "dtype": "f8"
         },
         "name": "Candles",
         "open": {
          "bdata": "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",
          "dtype": "f8"
         },
         "type": "candlestick",
         "x": {
          "bdata": "IQ0iDSMNJA0lDSYNJw0oDSkNKg0rDSwNLQ0uDS8NMA0xDTINMw00DTUNNg03DTgNOQ06DTsNPA09DT4NPw1ADUENQg1DDUQNRQ1GDUcNSA1JDUoNSw1MDU0NTg1PDVANUQ1SDVMNVA1VDVYNVw1YDVkNWg1bDVwNXQ1eDV8NYA1hDWINYw1kDWUNZg1nDWgNaQ1qDWsNbA1tDW4Nbw1wDXENcg1zDXQNdQ12DXcNeA15DXoNew18DX0Nfg1/DYANgQ2CDYMNhA2FDYYNhw2IDYkNig2LDYwNjQ2ODY8NkA2RDZINkw2UDZUNlg2XDZgNmQ2aDZsNnA2dDZ4Nnw2gDaENog2jDaQNpQ2mDacNqA2pDaoNqw2sDa0Nrg2vDbANsQ2yDbMNtA21DbYNtw24DbkNug27DbwNvQ2+Db8NwA3BDcINww3EDcUNxg3HDcgNyQ3KDcsNzA3NDc4Nzw3QDdEN0g3TDdQN1Q3WDdcN2A3ZDdoN2w3cDd0N3g3fDeAN4Q3iDeMN5A3lDeYN5w3oDekN",
          "dtype": "i2"
         }
        }
       ],
       "layout": {
        "height": 800,
        "paper_bgcolor": "black",
        "plot_bgcolor": "black",
        "shapes": [
         {
          "fillcolor": "rgba(255, 0, 0, 0.3)",
          "layer": "below",
          "line": {
           "width": 0
          },
          "opacity": 0.4,
          "type": "rect",
          "x0": 3361,
          "x1": 3411,
          "y0": 65433.29,
          "y1": 64106.75
         },
         {
          "fillcolor": "rgba(255, 0, 0, 0.3)",
          "layer": "below",
          "line": {
           "width": 0
          },
          "opacity": 0.4,
          "type": "rect",
          "x0": 3362,
          "x1": 3412,
          "y0": 62833.95,
          "y1": 62380.34
         },
         {
          "fillcolor": "rgba(0, 255, 0, 0.3)",
          "layer": "below",
          "line": {
           "width": 0
          },
          "opacity": 0.4,
          "type": "rect",
          "x0": 3365,
          "x1": 3415,
          "y0": 61474.92,
          "y1": 61686.34
         },
         {
          "fillcolor": "rgba(255, 0, 0, 0.3)",
          "layer": "below",
          "line": {
           "width": 0
          },
          "opacity": 0.4,
          "type": "rect",
          "x0": 3370,
          "x1": 3420,
          "y0": 61824.48,
          "y1": 61271.59
         },
         {
          "fillcolor": "rgba(0, 255, 0, 0.3)",
          "layer": "below",
          "line": {
           "width": 0
          },
          "opacity": 0.4,
          "type": "rect",
          "x0": 3372,
          "x1": 3422,
          "y0": 61271.59,
          "y1": 62464.15
         },
         {
          "fillcolor": "rgba(0, 255, 0, 0.3)",
          "layer": "below",
          "line": {
           "width": 0
          },
          "opacity": 0.4,
          "type": "rect",
          "x0": 3375,
          "x1": 3425,
          "y0": 63270.18,
          "y1": 64778.44
         },
         {
          "fillcolor": "rgba(255, 0, 0, 0.3)",
          "layer": "below",
          "line": {
           "width": 0
          },
          "opacity": 0.4,
          "type": "rect",
          "x0": 3382,
          "x1": 3432,
          "y0": 68083.18,
          "y1": 67800
         },
         {
          "fillcolor": "rgba(0, 255, 0, 0.3)",
          "layer": "below",
          "line": {
           "width": 0
          },
          "opacity": 0.4,
          "type": "rect",
          "x0": 3389,
          "x1": 3439,
          "y0": 68261.37,
          "y1": 69705.76
         },
         {
          "fillcolor": "rgba(0, 255, 0, 0.3)",
          "layer": "below",
          "line": {
           "width": 0
          },
          "opacity": 0.4,
          "type": "rect",
          "x0": 3390,
          "x1": 3440,
          "y0": 70235.98,
          "y1": 71400.01
         },
         {
          "fillcolor": "rgba(0, 255, 0, 0.3)",
          "layer": "below",
          "line": {
           "width": 0
          },
          "opacity": 0.4,
          "type": "rect",
          "x0": 3398,
          "x1": 3448,
          "y0": 70557.67,
          "y1": 74463.96
         },
         {
          "fillcolor": "rgba(0, 255, 0, 0.3)",
          "layer": "below",
          "line": {
           "width": 0
          },
          "opacity": 0.4,
          "type": "rect",
          "x0": 3402,
          "x1": 3452,
          "y0": 76952.67,
          "y1": 80277.34
         },
         {
          "fillcolor": "rgba(0, 255, 0, 0.3)",
          "layer": "below",
          "line": {
           "width": 0
          },
          "opacity": 0.4,
          "type": "rect",
          "x0": 3403,
          "x1": 3453,
          "y0": 81534.28,
          "y1": 85010
         },
         {
          "fillcolor": "rgba(0, 255, 0, 0.3)",
          "layer": "below",
          "line": {
           "width": 0
          },
          "opacity": 0.4,
          "type": "rect",
          "x0": 3413,
          "x1": 3463,
          "y0": 94989.99,
          "y1": 97209.52
         },
         {
          "fillcolor": "rgba(255, 0, 0, 0.3)",
          "layer": "below",
          "line": {
           "width": 0
          },
          "opacity": 0.4,
          "type": "rect",
          "x0": 3417,
          "x1": 3467,
          "y0": 95780.77,
          "y1": 95004.92
         },
         {
          "fillcolor": "rgba(255, 0, 0, 0.3)",
          "layer": "below",
          "line": {
           "width": 0
          },
          "opacity": 0.4,
          "type": "rect",
          "x0": 3431,
          "x1": 3481,
          "y0": 98729.66,
          "y1": 98338.17
         },
         {
          "fillcolor": "rgba(0, 255, 0, 0.3)",
          "layer": "below",
          "line": {
           "width": 0
          },
          "opacity": 0.4,
          "type": "rect",
          "x0": 3433,
          "x1": 3483,
          "y0": 98338.17,
          "y1": 99298.39
         },
         {
          "fillcolor": "rgba(0, 255, 0, 0.3)",
          "layer": "below",
          "line": {
           "width": 0
          },
          "opacity": 0.4,
          "type": "rect",
          "x0": 3437,
          "x1": 3487,
          "y0": 102650,
          "y1": 103289.21
         },
         {
          "fillcolor": "rgba(255, 0, 0, 0.3)",
          "layer": "below",
          "line": {
           "width": 0
          },
          "opacity": 0.4,
          "type": "rect",
          "x0": 3440,
          "x1": 3490,
          "y0": 105337.97,
          "y1": 102796.22
         },
         {
          "fillcolor": "rgba(255, 0, 0, 0.3)",
          "layer": "below",
          "line": {
           "width": 0
          },
          "opacity": 0.4,
          "type": "rect",
          "x0": 3441,
          "x1": 3491,
          "y0": 99939.82,
          "y1": 98132.47
         },
         {
          "fillcolor": "rgba(0, 255, 0, 0.3)",
          "layer": "below",
          "line": {
           "width": 0
          },
          "opacity": 0.4,
          "type": "rect",
          "x0": 3446,
          "x1": 3496,
          "y0": 96430.08,
          "y1": 97557.48
         },
         {
          "fillcolor": "rgba(255, 0, 0, 0.3)",
          "layer": "below",
          "line": {
           "width": 0
          },
          "opacity": 0.4,
          "type": "rect",
          "x0": 3448,
          "x1": 3498,
          "y0": 97557.48,
          "y1": 97340.47
         },
         {
          "fillcolor": "rgba(0, 255, 0, 0.3)",
          "layer": "below",
          "line": {
           "width": 0
          },
          "opacity": 0.4,
          "type": "rect",
          "x0": 3455,
          "x1": 3505,
          "y0": 94960.91,
          "y1": 96016.63
         },
         {
          "fillcolor": "rgba(255, 0, 0, 0.3)",
          "layer": "below",
          "line": {
           "width": 0
          },
          "opacity": 0.4,
          "type": "rect",
          "x0": 3460,
          "x1": 3510,
          "y0": 97900,
          "y1": 97254.35
         },
         {
          "fillcolor": "rgba(0, 255, 0, 0.3)",
          "layer": "below",
          "line": {
           "width": 0
          },
          "opacity": 0.4,
          "type": "rect",
          "x0": 3467,
          "x1": 3517,
          "y0": 95900,
          "y1": 96400
         },
         {
          "fillcolor": "rgba(0, 255, 0, 0.3)",
          "layer": "below",
          "line": {
           "width": 0
          },
          "opacity": 0.4,
          "type": "rect",
          "x0": 3470,
          "x1": 3520,
          "y0": 100880,
          "y1": 102233.45
         },
         {
          "fillcolor": "rgba(255, 0, 0, 0.3)",
          "layer": "below",
          "line": {
           "width": 0
          },
          "opacity": 0.4,
          "type": "rect",
          "x0": 3479,
          "x1": 3529,
          "y0": 104104,
          "y1": 103228.46
         },
         {
          "fillcolor": "rgba(255, 0, 0, 0.3)",
          "layer": "below",
          "line": {
           "width": 0
          },
          "opacity": 0.4,
          "type": "rect",
          "x0": 3484,
          "x1": 3534,
          "y0": 103289.74,
          "y1": 102781.65
         },
         {
          "fillcolor": "rgba(255, 0, 0, 0.3)",
          "layer": "below",
          "line": {
           "width": 0
          },
          "opacity": 0.4,
          "type": "rect",
          "x0": 3485,
          "x1": 3535,
          "y0": 101506,
          "y1": 101459.84
         },
         {
          "fillcolor": "rgba(255, 0, 0, 0.3)",
          "layer": "below",
          "line": {
           "width": 0
          },
          "opacity": 0.4,
          "type": "rect",
          "x0": 3500,
          "x1": 3550,
          "y0": 97225.01,
          "y1": 97050.64
         },
         {
          "fillcolor": "rgba(255, 0, 0, 0.3)",
          "layer": "below",
          "line": {
           "width": 0
          },
          "opacity": 0.4,
          "type": "rect",
          "x0": 3508,
          "x1": 3558,
          "y0": 95243.91,
          "y1": 92549.99
         },
         {
          "fillcolor": "rgba(255, 0, 0, 0.3)",
          "layer": "below",
          "line": {
           "width": 0
          },
          "opacity": 0.4,
          "type": "rect",
          "x0": 3509,
          "x1": 3559,
          "y0": 91300,
          "y1": 89305.68
         },
         {
          "fillcolor": "rgba(255, 0, 0, 0.3)",
          "layer": "below",
          "line": {
           "width": 0
          },
          "opacity": 0.4,
          "type": "rect",
          "x0": 3521,
          "x1": 3571,
          "y0": 85200,
          "y1": 84033.66
         },
         {
          "fillcolor": "rgba(0, 255, 0, 0.3)",
          "layer": "below",
          "line": {
           "width": 0
          },
          "opacity": 0.4,
          "type": "rect",
          "x0": 3535,
          "x1": 3585,
          "y0": 84517.75,
          "y1": 85533.06
         },
         {
          "fillcolor": "rgba(255, 0, 0, 0.3)",
          "layer": "below",
          "line": {
           "width": 0
          },
          "opacity": 0.4,
          "type": "rect",
          "x0": 3540,
          "x1": 3590,
          "y0": 87108.87,
          "y1": 84584.13
         },
         {
          "fillcolor": "rgba(255, 0, 0, 0.3)",
          "layer": "below",
          "line": {
           "width": 0
          },
          "opacity": 0.4,
          "type": "rect",
          "x0": 3541,
          "x1": 3591,
          "y0": 83533.4,
          "y1": 83508.98
         },
         {
          "fillcolor": "rgba(255, 0, 0, 0.3)",
          "layer": "below",
          "line": {
           "width": 0
          },
          "opacity": 0.4,
          "type": "rect",
          "x0": 3549,
          "x1": 3599,
          "y0": 82346.61,
          "y1": 81223.67
         },
         {
          "fillcolor": "rgba(0, 255, 0, 0.3)",
          "layer": "below",
          "line": {
           "width": 0
          },
          "opacity": 0.4,
          "type": "rect",
          "x0": 3554,
          "x1": 3604,
          "y0": 82730.93,
          "y1": 82765.26
         },
         {
          "layer": "below",
          "line": {
           "color": "blue",
           "width": 2
          },
          "type": "line",
          "x0": 3370,
          "x1": 3420,
          "y0": 58863.9,
          "y1": 58863.9
         },
         {
          "layer": "below",
          "line": {
           "color": "blue",
           "width": 2
          },
          "type": "line",
          "x0": 3370,
          "x1": 3420,
          "y0": 58863.9,
          "y1": 58863.9
         },
         {
          "layer": "below",
          "line": {
           "color": "blue",
           "width": 2
          },
          "type": "line",
          "x0": 3370,
          "x1": 3420,
          "y0": 58863.9,
          "y1": 58863.9
         },
         {
          "layer": "below",
          "line": {
           "color": "blue",
           "width": 2
          },
          "type": "line",
          "x0": 3370,
          "x1": 3420,
          "y0": 58863.9,
          "y1": 58863.9
         },
         {
          "layer": "below",
          "line": {
           "color": "blue",
           "width": 2
          },
          "type": "line",
          "x0": 3370,
          "x1": 3420,
          "y0": 58863.9,
          "y1": 58863.9
         },
         {
          "layer": "below",
          "line": {
           "color": "blue",
           "width": 2
          },
          "type": "line",
          "x0": 3370,
          "x1": 3420,
          "y0": 58863.9,
          "y1": 58863.9
         },
         {
          "layer": "below",
          "line": {
           "color": "blue",
           "width": 2
          },
          "type": "line",
          "x0": 3370,
          "x1": 3420,
          "y0": 58863.9,
          "y1": 58863.9
         },
         {
          "layer": "below",
          "line": {
           "color": "blue",
           "width": 2
          },
          "type": "line",
          "x0": 3370,
          "x1": 3420,
          "y0": 58863.9,
          "y1": 58863.9
         },
         {
          "layer": "below",
          "line": {
           "color": "blue",
           "width": 2
          },
          "type": "line",
          "x0": 3370,
          "x1": 3420,
          "y0": 58863.9,
          "y1": 58863.9
         },
         {
          "layer": "below",
          "line": {
           "color": "blue",
           "width": 2
          },
          "type": "line",
          "x0": 3370,
          "x1": 3420,
          "y0": 58863.9,
          "y1": 58863.9
         },
         {
          "layer": "below",
          "line": {
           "color": "blue",
           "width": 2
          },
          "type": "line",
          "x0": 3370,
          "x1": 3420,
          "y0": 58863.9,
          "y1": 58863.9
         },
         {
          "layer": "below",
          "line": {
           "color": "blue",
           "width": 2
          },
          "type": "line",
          "x0": 3370,
          "x1": 3420,
          "y0": 58863.9,
          "y1": 58863.9
         },
         {
          "layer": "below",
          "line": {
           "color": "blue",
           "width": 2
          },
          "type": "line",
          "x0": 3370,
          "x1": 3420,
          "y0": 58863.9,
          "y1": 58863.9
         },
         {
          "layer": "below",
          "line": {
           "color": "blue",
           "width": 2
          },
          "type": "line",
          "x0": 3370,
          "x1": 3420,
          "y0": 58863.9,
          "y1": 58863.9
         },
         {
          "layer": "below",
          "line": {
           "color": "blue",
           "width": 2
          },
          "type": "line",
          "x0": 3370,
          "x1": 3420,
          "y0": 58863.9,
          "y1": 58863.9
         },
         {
          "layer": "below",
          "line": {
           "color": "blue",
           "width": 2
          },
          "type": "line",
          "x0": 3370,
          "x1": 3420,
          "y0": 58863.9,
          "y1": 58863.9
         },
         {
          "layer": "below",
          "line": {
           "color": "blue",
           "width": 2
          },
          "type": "line",
          "x0": 3370,
          "x1": 3420,
          "y0": 58863.9,
          "y1": 58863.9
         },
         {
          "layer": "below",
          "line": {
           "color": "blue",
           "width": 2
          },
          "type": "line",
          "x0": 3370,
          "x1": 3420,
          "y0": 58863.9,
          "y1": 58863.9
         },
         {
          "layer": "below",
          "line": {
           "color": "blue",
           "width": 2
          },
          "type": "line",
          "x0": 3370,
          "x1": 3420,
          "y0": 58863.9,
          "y1": 58863.9
         },
         {
          "layer": "below",
          "line": {
           "color": "blue",
           "width": 2
          },
          "type": "line",
          "x0": 3370,
          "x1": 3420,
          "y0": 58863.9,
          "y1": 58863.9
         },
         {
          "layer": "below",
          "line": {
           "color": "blue",
           "width": 2
          },
          "type": "line",
          "x0": 3370,
          "x1": 3420,
          "y0": 58863.9,
          "y1": 58863.9
         },
         {
          "layer": "below",
          "line": {
           "color": "blue",
           "width": 2
          },
          "type": "line",
          "x0": 3370,
          "x1": 3420,
          "y0": 58863.9,
          "y1": 58863.9
         },
         {
          "layer": "below",
          "line": {
           "color": "blue",
           "width": 2
          },
          "type": "line",
          "x0": 3370,
          "x1": 3420,
          "y0": 58863.9,
          "y1": 58863.9
         },
         {
          "layer": "below",
          "line": {
           "color": "blue",
           "width": 2
          },
          "type": "line",
          "x0": 3370,
          "x1": 3420,
          "y0": 58863.9,
          "y1": 58863.9
         },
         {
          "layer": "below",
          "line": {
           "color": "blue",
           "width": 2
          },
          "type": "line",
          "x0": 3370,
          "x1": 3420,
          "y0": 58863.9,
          "y1": 58863.9
         },
         {
          "layer": "below",
          "line": {
           "color": "blue",
           "width": 2
          },
          "type": "line",
          "x0": 3370,
          "x1": 3420,
          "y0": 58863.9,
          "y1": 58863.9
         },
         {
          "layer": "below",
          "line": {
           "color": "blue",
           "width": 2
          },
          "type": "line",
          "x0": 3370,
          "x1": 3420,
          "y0": 58863.9,
          "y1": 58863.9
         },
         {
          "layer": "below",
          "line": {
           "color": "blue",
           "width": 2
          },
          "type": "line",
          "x0": 3370,
          "x1": 3420,
          "y0": 58863.9,
          "y1": 58863.9
         },
         {
          "layer": "below",
          "line": {
           "color": "blue",
           "width": 2
          },
          "type": "line",
          "x0": 3370,
          "x1": 3420,
          "y0": 58863.9,
          "y1": 58863.9
         },
         {
          "layer": "below",
          "line": {
           "color": "blue",
           "width": 2
          },
          "type": "line",
          "x0": 3370,
          "x1": 3420,
          "y0": 58863.9,
          "y1": 58863.9
         },
         {
          "layer": "below",
          "line": {
           "color": "blue",
           "width": 2
          },
          "type": "line",
          "x0": 3370,
          "x1": 3420,
          "y0": 58863.9,
          "y1": 58863.9
         },
         {
          "layer": "below",
          "line": {
           "color": "blue",
           "width": 2
          },
          "type": "line",
          "x0": 3370,
          "x1": 3420,
          "y0": 58863.9,
          "y1": 58863.9
         },
         {
          "layer": "below",
          "line": {
           "color": "blue",
           "width": 2
          },
          "type": "line",
          "x0": 3370,
          "x1": 3420,
          "y0": 58863.9,
          "y1": 58863.9
         },
         {
          "layer": "below",
          "line": {
           "color": "blue",
           "width": 2
          },
          "type": "line",
          "x0": 3370,
          "x1": 3420,
          "y0": 58863.9,
          "y1": 58863.9
         },
         {
          "layer": "below",
          "line": {
           "color": "blue",
           "width": 2
          },
          "type": "line",
          "x0": 3370,
          "x1": 3420,
          "y0": 58863.9,
          "y1": 58863.9
         },
         {
          "layer": "below",
          "line": {
           "color": "orange",
           "width": 2
          },
          "type": "line",
          "x0": 3438,
          "x1": 3488,
          "y0": 108388.88,
          "y1": 108388.88
         },
         {
          "layer": "below",
          "line": {
           "color": "orange",
           "width": 2
          },
          "type": "line",
          "x0": 3438,
          "x1": 3488,
          "y0": 108388.88,
          "y1": 108388.88
         },
         {
          "layer": "below",
          "line": {
           "color": "orange",
           "width": 2
          },
          "type": "line",
          "x0": 3438,
          "x1": 3488,
          "y0": 108388.88,
          "y1": 108388.88
         },
         {
          "layer": "below",
          "line": {
           "color": "orange",
           "width": 2
          },
          "type": "line",
          "x0": 3438,
          "x1": 3488,
          "y0": 108388.88,
          "y1": 108388.88
         },
         {
          "layer": "below",
          "line": {
           "color": "orange",
           "width": 2
          },
          "type": "line",
          "x0": 3438,
          "x1": 3488,
          "y0": 108388.88,
          "y1": 108388.88
         },
         {
          "layer": "below",
          "line": {
           "color": "orange",
           "width": 2
          },
          "type": "line",
          "x0": 3438,
          "x1": 3488,
          "y0": 108388.88,
          "y1": 108388.88
         },
         {
          "layer": "below",
          "line": {
           "color": "orange",
           "width": 2
          },
          "type": "line",
          "x0": 3438,
          "x1": 3488,
          "y0": 108388.88,
          "y1": 108388.88
         },
         {
          "layer": "below",
          "line": {
           "color": "orange",
           "width": 2
          },
          "type": "line",
          "x0": 3438,
          "x1": 3488,
          "y0": 108388.88,
          "y1": 108388.88
         },
         {
          "layer": "below",
          "line": {
           "color": "orange",
           "width": 2
          },
          "type": "line",
          "x0": 3438,
          "x1": 3488,
          "y0": 108388.88,
          "y1": 108388.88
         },
         {
          "layer": "below",
          "line": {
           "color": "orange",
           "width": 2
          },
          "type": "line",
          "x0": 3438,
          "x1": 3488,
          "y0": 108388.88,
          "y1": 108388.88
         },
         {
          "layer": "below",
          "line": {
           "color": "orange",
           "width": 2
          },
          "type": "line",
          "x0": 3438,
          "x1": 3488,
          "y0": 108388.88,
          "y1": 108388.88
         },
         {
          "layer": "below",
          "line": {
           "color": "orange",
           "width": 2
          },
          "type": "line",
          "x0": 3438,
          "x1": 3488,
          "y0": 108388.88,
          "y1": 108388.88
         },
         {
          "layer": "below",
          "line": {
           "color": "orange",
           "width": 2
          },
          "type": "line",
          "x0": 3438,
          "x1": 3488,
          "y0": 108388.88,
          "y1": 108388.88
         },
         {
          "layer": "below",
          "line": {
           "color": "orange",
           "width": 2
          },
          "type": "line",
          "x0": 3438,
          "x1": 3488,
          "y0": 108388.88,
          "y1": 108388.88
         },
         {
          "layer": "below",
          "line": {
           "color": "orange",
           "width": 2
          },
          "type": "line",
          "x0": 3438,
          "x1": 3488,
          "y0": 108388.88,
          "y1": 108388.88
         },
         {
          "layer": "below",
          "line": {
           "color": "orange",
           "width": 2
          },
          "type": "line",
          "x0": 3438,
          "x1": 3488,
          "y0": 108388.88,
          "y1": 108388.88
         },
         {
          "layer": "below",
          "line": {
           "color": "orange",
           "width": 2
          },
          "type": "line",
          "x0": 3438,
          "x1": 3488,
          "y0": 108388.88,
          "y1": 108388.88
         },
         {
          "layer": "below",
          "line": {
           "color": "orange",
           "width": 2
          },
          "type": "line",
          "x0": 3438,
          "x1": 3488,
          "y0": 108388.88,
          "y1": 108388.88
         },
         {
          "layer": "below",
          "line": {
           "color": "orange",
           "width": 2
          },
          "type": "line",
          "x0": 3438,
          "x1": 3488,
          "y0": 108388.88,
          "y1": 108388.88
         },
         {
          "layer": "below",
          "line": {
           "color": "orange",
           "width": 2
          },
          "type": "line",
          "x0": 3438,
          "x1": 3488,
          "y0": 108388.88,
          "y1": 108388.88
         },
         {
          "layer": "below",
          "line": {
           "color": "orange",
           "width": 2
          },
          "type": "line",
          "x0": 3438,
          "x1": 3488,
          "y0": 108388.88,
          "y1": 108388.88
         },
         {
          "layer": "below",
          "line": {
           "color": "orange",
           "width": 2
          },
          "type": "line",
          "x0": 3438,
          "x1": 3488,
          "y0": 108388.88,
          "y1": 108388.88
         },
         {
          "layer": "below",
          "line": {
           "color": "orange",
           "width": 2
          },
          "type": "line",
          "x0": 3438,
          "x1": 3488,
          "y0": 108388.88,
          "y1": 108388.88
         },
         {
          "layer": "below",
          "line": {
           "color": "orange",
           "width": 2
          },
          "type": "line",
          "x0": 3438,
          "x1": 3488,
          "y0": 108388.88,
          "y1": 108388.88
         },
         {
          "layer": "below",
          "line": {
           "color": "orange",
           "width": 2
          },
          "type": "line",
          "x0": 3438,
          "x1": 3488,
          "y0": 108388.88,
          "y1": 108388.88
         },
         {
          "layer": "below",
          "line": {
           "color": "orange",
           "width": 2
          },
          "type": "line",
          "x0": 3438,
          "x1": 3488,
          "y0": 108388.88,
          "y1": 108388.88
         },
         {
          "layer": "below",
          "line": {
           "color": "orange",
           "width": 2
          },
          "type": "line",
          "x0": 3438,
          "x1": 3488,
          "y0": 108388.88,
          "y1": 108388.88
         },
         {
          "layer": "below",
          "line": {
           "color": "blue",
           "width": 2
          },
          "type": "line",
          "x0": 3465,
          "x1": 3515,
          "y0": 89028.64,
          "y1": 89028.64
         },
         {
          "layer": "below",
          "line": {
           "color": "orange",
           "width": 2
          },
          "type": "line",
          "x0": 3438,
          "x1": 3488,
          "y0": 108388.88,
          "y1": 108388.88
         },
         {
          "layer": "below",
          "line": {
           "color": "blue",
           "width": 2
          },
          "type": "line",
          "x0": 3465,
          "x1": 3515,
          "y0": 89028.64,
          "y1": 89028.64
         },
         {
          "layer": "below",
          "line": {
           "color": "orange",
           "width": 2
          },
          "type": "line",
          "x0": 3438,
          "x1": 3488,
          "y0": 108388.88,
          "y1": 108388.88
         },
         {
          "layer": "below",
          "line": {
           "color": "blue",
           "width": 2
          },
          "type": "line",
          "x0": 3465,
          "x1": 3515,
          "y0": 89028.64,
          "y1": 89028.64
         },
         {
          "layer": "below",
          "line": {
           "color": "orange",
           "width": 2
          },
          "type": "line",
          "x0": 3438,
          "x1": 3488,
          "y0": 108388.88,
          "y1": 108388.88
         },
         {
          "layer": "below",
          "line": {
           "color": "blue",
           "width": 2
          },
          "type": "line",
          "x0": 3465,
          "x1": 3515,
          "y0": 89028.64,
          "y1": 89028.64
         },
         {
          "layer": "below",
          "line": {
           "color": "orange",
           "width": 2
          },
          "type": "line",
          "x0": 3438,
          "x1": 3488,
          "y0": 108388.88,
          "y1": 108388.88
         },
         {
          "layer": "below",
          "line": {
           "color": "blue",
           "width": 2
          },
          "type": "line",
          "x0": 3465,
          "x1": 3515,
          "y0": 89028.64,
          "y1": 89028.64
         },
         {
          "layer": "below",
          "line": {
           "color": "orange",
           "width": 2
          },
          "type": "line",
          "x0": 3438,
          "x1": 3488,
          "y0": 108388.88,
          "y1": 108388.88
         },
         {
          "layer": "below",
          "line": {
           "color": "blue",
           "width": 2
          },
          "type": "line",
          "x0": 3465,
          "x1": 3515,
          "y0": 89028.64,
          "y1": 89028.64
         },
         {
          "layer": "below",
          "line": {
           "color": "orange",
           "width": 2
          },
          "type": "line",
          "x0": 3438,
          "x1": 3488,
          "y0": 108388.88,
          "y1": 108388.88
         },
         {
          "layer": "below",
          "line": {
           "color": "blue",
           "width": 2
          },
          "type": "line",
          "x0": 3465,
          "x1": 3515,
          "y0": 89028.64,
          "y1": 89028.64
         },
         {
          "layer": "below",
          "line": {
           "color": "orange",
           "width": 2
          },
          "type": "line",
          "x0": 3438,
          "x1": 3488,
          "y0": 108388.88,
          "y1": 108388.88
         },
         {
          "layer": "below",
          "line": {
           "color": "blue",
           "width": 2
          },
          "type": "line",
          "x0": 3465,
          "x1": 3515,
          "y0": 89028.64,
          "y1": 89028.64
         },
         {
          "layer": "below",
          "line": {
           "color": "orange",
           "width": 2
          },
          "type": "line",
          "x0": 3438,
          "x1": 3488,
          "y0": 108388.88,
          "y1": 108388.88
         },
         {
          "layer": "below",
          "line": {
           "color": "orange",
           "width": 2
          },
          "type": "line",
          "x0": 3472,
          "x1": 3522,
          "y0": 109358.01,
          "y1": 109358.01
         },
         {
          "layer": "below",
          "line": {
           "color": "blue",
           "width": 2
          },
          "type": "line",
          "x0": 3465,
          "x1": 3515,
          "y0": 89028.64,
          "y1": 89028.64
         },
         {
          "layer": "below",
          "line": {
           "color": "orange",
           "width": 2
          },
          "type": "line",
          "x0": 3472,
          "x1": 3522,
          "y0": 109358.01,
          "y1": 109358.01
         },
         {
          "layer": "below",
          "line": {
           "color": "blue",
           "width": 2
          },
          "type": "line",
          "x0": 3465,
          "x1": 3515,
          "y0": 89028.64,
          "y1": 89028.64
         },
         {
          "layer": "below",
          "line": {
           "color": "orange",
           "width": 2
          },
          "type": "line",
          "x0": 3472,
          "x1": 3522,
          "y0": 109358.01,
          "y1": 109358.01
         },
         {
          "layer": "below",
          "line": {
           "color": "blue",
           "width": 2
          },
          "type": "line",
          "x0": 3465,
          "x1": 3515,
          "y0": 89028.64,
          "y1": 89028.64
         },
         {
          "layer": "below",
          "line": {
           "color": "orange",
           "width": 2
          },
          "type": "line",
          "x0": 3472,
          "x1": 3522,
          "y0": 109358.01,
          "y1": 109358.01
         },
         {
          "layer": "below",
          "line": {
           "color": "blue",
           "width": 2
          },
          "type": "line",
          "x0": 3465,
          "x1": 3515,
          "y0": 89028.64,
          "y1": 89028.64
         },
         {
          "layer": "below",
          "line": {
           "color": "orange",
           "width": 2
          },
          "type": "line",
          "x0": 3472,
          "x1": 3522,
          "y0": 109358.01,
          "y1": 109358.01
         },
         {
          "layer": "below",
          "line": {
           "color": "blue",
           "width": 2
          },
          "type": "line",
          "x0": 3465,
          "x1": 3515,
          "y0": 89028.64,
          "y1": 89028.64
         },
         {
          "layer": "below",
          "line": {
           "color": "orange",
           "width": 2
          },
          "type": "line",
          "x0": 3472,
          "x1": 3522,
          "y0": 109358.01,
          "y1": 109358.01
         },
         {
          "layer": "below",
          "line": {
           "color": "blue",
           "width": 2
          },
          "type": "line",
          "x0": 3465,
          "x1": 3515,
          "y0": 89028.64,
          "y1": 89028.64
         },
         {
          "layer": "below",
          "line": {
           "color": "orange",
           "width": 2
          },
          "type": "line",
          "x0": 3472,
          "x1": 3522,
          "y0": 109358.01,
          "y1": 109358.01
         },
         {
          "layer": "below",
          "line": {
           "color": "blue",
           "width": 2
          },
          "type": "line",
          "x0": 3465,
          "x1": 3515,
          "y0": 89028.64,
          "y1": 89028.64
         },
         {
          "layer": "below",
          "line": {
           "color": "orange",
           "width": 2
          },
          "type": "line",
          "x0": 3472,
          "x1": 3522,
          "y0": 109358.01,
          "y1": 109358.01
         },
         {
          "layer": "below",
          "line": {
           "color": "blue",
           "width": 2
          },
          "type": "line",
          "x0": 3465,
          "x1": 3515,
          "y0": 89028.64,
          "y1": 89028.64
         },
         {
          "layer": "below",
          "line": {
           "color": "orange",
           "width": 2
          },
          "type": "line",
          "x0": 3472,
          "x1": 3522,
          "y0": 109358.01,
          "y1": 109358.01
         },
         {
          "layer": "below",
          "line": {
           "color": "blue",
           "width": 2
          },
          "type": "line",
          "x0": 3465,
          "x1": 3515,
          "y0": 89028.64,
          "y1": 89028.64
         },
         {
          "layer": "below",
          "line": {
           "color": "orange",
           "width": 2
          },
          "type": "line",
          "x0": 3472,
          "x1": 3522,
          "y0": 109358.01,
          "y1": 109358.01
         },
         {
          "layer": "below",
          "line": {
           "color": "blue",
           "width": 2
          },
          "type": "line",
          "x0": 3465,
          "x1": 3515,
          "y0": 89028.64,
          "y1": 89028.64
         },
         {
          "layer": "below",
          "line": {
           "color": "orange",
           "width": 2
          },
          "type": "line",
          "x0": 3472,
          "x1": 3522,
          "y0": 109358.01,
          "y1": 109358.01
         },
         {
          "layer": "below",
          "line": {
           "color": "blue",
           "width": 2
          },
          "type": "line",
          "x0": 3465,
          "x1": 3515,
          "y0": 89028.64,
          "y1": 89028.64
         },
         {
          "layer": "below",
          "line": {
           "color": "orange",
           "width": 2
          },
          "type": "line",
          "x0": 3472,
          "x1": 3522,
          "y0": 109358.01,
          "y1": 109358.01
         },
         {
          "layer": "below",
          "line": {
           "color": "blue",
           "width": 2
          },
          "type": "line",
          "x0": 3465,
          "x1": 3515,
          "y0": 89028.64,
          "y1": 89028.64
         },
         {
          "layer": "below",
          "line": {
           "color": "orange",
           "width": 2
          },
          "type": "line",
          "x0": 3472,
          "x1": 3522,
          "y0": 109358.01,
          "y1": 109358.01
         },
         {
          "layer": "below",
          "line": {
           "color": "blue",
           "width": 2
          },
          "type": "line",
          "x0": 3465,
          "x1": 3515,
          "y0": 89028.64,
          "y1": 89028.64
         },
         {
          "layer": "below",
          "line": {
           "color": "orange",
           "width": 2
          },
          "type": "line",
          "x0": 3472,
          "x1": 3522,
          "y0": 109358.01,
          "y1": 109358.01
         },
         {
          "layer": "below",
          "line": {
           "color": "blue",
           "width": 2
          },
          "type": "line",
          "x0": 3465,
          "x1": 3515,
          "y0": 89028.64,
          "y1": 89028.64
         },
         {
          "layer": "below",
          "line": {
           "color": "blue",
           "width": 2
          },
          "type": "line",
          "x0": 3486,
          "x1": 3536,
          "y0": 91178.01,
          "y1": 91178.01
         },
         {
          "layer": "below",
          "line": {
           "color": "orange",
           "width": 2
          },
          "type": "line",
          "x0": 3472,
          "x1": 3522,
          "y0": 109358.01,
          "y1": 109358.01
         },
         {
          "layer": "below",
          "line": {
           "color": "blue",
           "width": 2
          },
          "type": "line",
          "x0": 3465,
          "x1": 3515,
          "y0": 89028.64,
          "y1": 89028.64
         },
         {
          "layer": "below",
          "line": {
           "color": "blue",
           "width": 2
          },
          "type": "line",
          "x0": 3486,
          "x1": 3536,
          "y0": 91178.01,
          "y1": 91178.01
         },
         {
          "layer": "below",
          "line": {
           "color": "orange",
           "width": 2
          },
          "type": "line",
          "x0": 3472,
          "x1": 3522,
          "y0": 109358.01,
          "y1": 109358.01
         },
         {
          "layer": "below",
          "line": {
           "color": "blue",
           "width": 2
          },
          "type": "line",
          "x0": 3465,
          "x1": 3515,
          "y0": 89028.64,
          "y1": 89028.64
         },
         {
          "layer": "below",
          "line": {
           "color": "blue",
           "width": 2
          },
          "type": "line",
          "x0": 3486,
          "x1": 3536,
          "y0": 91178.01,
          "y1": 91178.01
         },
         {
          "layer": "below",
          "line": {
           "color": "orange",
           "width": 2
          },
          "type": "line",
          "x0": 3472,
          "x1": 3522,
          "y0": 109358.01,
          "y1": 109358.01
         },
         {
          "layer": "below",
          "line": {
           "color": "blue",
           "width": 2
          },
          "type": "line",
          "x0": 3465,
          "x1": 3515,
          "y0": 89028.64,
          "y1": 89028.64
         },
         {
          "layer": "below",
          "line": {
           "color": "blue",
           "width": 2
          },
          "type": "line",
          "x0": 3486,
          "x1": 3536,
          "y0": 91178.01,
          "y1": 91178.01
         },
         {
          "layer": "below",
          "line": {
           "color": "orange",
           "width": 2
          },
          "type": "line",
          "x0": 3472,
          "x1": 3522,
          "y0": 109358.01,
          "y1": 109358.01
         },
         {
          "layer": "below",
          "line": {
           "color": "blue",
           "width": 2
          },
          "type": "line",
          "x0": 3465,
          "x1": 3515,
          "y0": 89028.64,
          "y1": 89028.64
         },
         {
          "layer": "below",
          "line": {
           "color": "blue",
           "width": 2
          },
          "type": "line",
          "x0": 3486,
          "x1": 3536,
          "y0": 91178.01,
          "y1": 91178.01
         },
         {
          "layer": "below",
          "line": {
           "color": "orange",
           "width": 2
          },
          "type": "line",
          "x0": 3472,
          "x1": 3522,
          "y0": 109358.01,
          "y1": 109358.01
         },
         {
          "layer": "below",
          "line": {
           "color": "blue",
           "width": 2
          },
          "type": "line",
          "x0": 3465,
          "x1": 3515,
          "y0": 89028.64,
          "y1": 89028.64
         },
         {
          "layer": "below",
          "line": {
           "color": "blue",
           "width": 2
          },
          "type": "line",
          "x0": 3486,
          "x1": 3536,
          "y0": 91178.01,
          "y1": 91178.01
         },
         {
          "layer": "below",
          "line": {
           "color": "orange",
           "width": 2
          },
          "type": "line",
          "x0": 3472,
          "x1": 3522,
          "y0": 109358.01,
          "y1": 109358.01
         },
         {
          "layer": "below",
          "line": {
           "color": "blue",
           "width": 2
          },
          "type": "line",
          "x0": 3465,
          "x1": 3515,
          "y0": 89028.64,
          "y1": 89028.64
         },
         {
          "layer": "below",
          "line": {
           "color": "blue",
           "width": 2
          },
          "type": "line",
          "x0": 3486,
          "x1": 3536,
          "y0": 91178.01,
          "y1": 91178.01
         },
         {
          "layer": "below",
          "line": {
           "color": "orange",
           "width": 2
          },
          "type": "line",
          "x0": 3472,
          "x1": 3522,
          "y0": 109358.01,
          "y1": 109358.01
         },
         {
          "layer": "below",
          "line": {
           "color": "blue",
           "width": 2
          },
          "type": "line",
          "x0": 3465,
          "x1": 3515,
          "y0": 89028.64,
          "y1": 89028.64
         },
         {
          "layer": "below",
          "line": {
           "color": "blue",
           "width": 2
          },
          "type": "line",
          "x0": 3486,
          "x1": 3536,
          "y0": 91178.01,
          "y1": 91178.01
         },
         {
          "layer": "below",
          "line": {
           "color": "orange",
           "width": 2
          },
          "type": "line",
          "x0": 3472,
          "x1": 3522,
          "y0": 109358.01,
          "y1": 109358.01
         },
         {
          "layer": "below",
          "line": {
           "color": "blue",
           "width": 2
          },
          "type": "line",
          "x0": 3465,
          "x1": 3515,
          "y0": 89028.64,
          "y1": 89028.64
         },
         {
          "layer": "below",
          "line": {
           "color": "blue",
           "width": 2
          },
          "type": "line",
          "x0": 3486,
          "x1": 3536,
          "y0": 91178.01,
          "y1": 91178.01
         },
         {
          "layer": "below",
          "line": {
           "color": "orange",
           "width": 2
          },
          "type": "line",
          "x0": 3472,
          "x1": 3522,
          "y0": 109358.01,
          "y1": 109358.01
         },
         {
          "layer": "below",
          "line": {
           "color": "blue",
           "width": 2
          },
          "type": "line",
          "x0": 3465,
          "x1": 3515,
          "y0": 89028.64,
          "y1": 89028.64
         },
         {
          "layer": "below",
          "line": {
           "color": "blue",
           "width": 2
          },
          "type": "line",
          "x0": 3486,
          "x1": 3536,
          "y0": 91178.01,
          "y1": 91178.01
         },
         {
          "layer": "below",
          "line": {
           "color": "orange",
           "width": 2
          },
          "type": "line",
          "x0": 3472,
          "x1": 3522,
          "y0": 109358.01,
          "y1": 109358.01
         },
         {
          "layer": "below",
          "line": {
           "color": "blue",
           "width": 2
          },
          "type": "line",
          "x0": 3465,
          "x1": 3515,
          "y0": 89028.64,
          "y1": 89028.64
         },
         {
          "layer": "below",
          "line": {
           "color": "blue",
           "width": 2
          },
          "type": "line",
          "x0": 3486,
          "x1": 3536,
          "y0": 91178.01,
          "y1": 91178.01
         },
         {
          "layer": "below",
          "line": {
           "color": "orange",
           "width": 2
          },
          "type": "line",
          "x0": 3472,
          "x1": 3522,
          "y0": 109358.01,
          "y1": 109358.01
         },
         {
          "layer": "below",
          "line": {
           "color": "blue",
           "width": 2
          },
          "type": "line",
          "x0": 3465,
          "x1": 3515,
          "y0": 89028.64,
          "y1": 89028.64
         },
         {
          "layer": "below",
          "line": {
           "color": "blue",
           "width": 2
          },
          "type": "line",
          "x0": 3486,
          "x1": 3536,
          "y0": 91178.01,
          "y1": 91178.01
         },
         {
          "layer": "below",
          "line": {
           "color": "orange",
           "width": 2
          },
          "type": "line",
          "x0": 3472,
          "x1": 3522,
          "y0": 109358.01,
          "y1": 109358.01
         },
         {
          "layer": "below",
          "line": {
           "color": "blue",
           "width": 2
          },
          "type": "line",
          "x0": 3465,
          "x1": 3515,
          "y0": 89028.64,
          "y1": 89028.64
         },
         {
          "layer": "below",
          "line": {
           "color": "blue",
           "width": 2
          },
          "type": "line",
          "x0": 3486,
          "x1": 3536,
          "y0": 91178.01,
          "y1": 91178.01
         },
         {
          "layer": "below",
          "line": {
           "color": "orange",
           "width": 2
          },
          "type": "line",
          "x0": 3472,
          "x1": 3522,
          "y0": 109358.01,
          "y1": 109358.01
         },
         {
          "layer": "below",
          "line": {
           "color": "blue",
           "width": 2
          },
          "type": "line",
          "x0": 3465,
          "x1": 3515,
          "y0": 89028.64,
          "y1": 89028.64
         },
         {
          "layer": "below",
          "line": {
           "color": "blue",
           "width": 2
          },
          "type": "line",
          "x0": 3486,
          "x1": 3536,
          "y0": 91178.01,
          "y1": 91178.01
         },
         {
          "layer": "below",
          "line": {
           "color": "orange",
           "width": 2
          },
          "type": "line",
          "x0": 3472,
          "x1": 3522,
          "y0": 109358.01,
          "y1": 109358.01
         },
         {
          "layer": "below",
          "line": {
           "color": "blue",
           "width": 2
          },
          "type": "line",
          "x0": 3486,
          "x1": 3536,
          "y0": 91178.01,
          "y1": 91178.01
         },
         {
          "layer": "below",
          "line": {
           "color": "orange",
           "width": 2
          },
          "type": "line",
          "x0": 3472,
          "x1": 3522,
          "y0": 109358.01,
          "y1": 109358.01
         },
         {
          "layer": "below",
          "line": {
           "color": "blue",
           "width": 2
          },
          "type": "line",
          "x0": 3486,
          "x1": 3536,
          "y0": 91178.01,
          "y1": 91178.01
         },
         {
          "layer": "below",
          "line": {
           "color": "orange",
           "width": 2
          },
          "type": "line",
          "x0": 3472,
          "x1": 3522,
          "y0": 109358.01,
          "y1": 109358.01
         },
         {
          "layer": "below",
          "line": {
           "color": "blue",
           "width": 2
          },
          "type": "line",
          "x0": 3486,
          "x1": 3536,
          "y0": 91178.01,
          "y1": 91178.01
         },
         {
          "layer": "below",
          "line": {
           "color": "orange",
           "width": 2
          },
          "type": "line",
          "x0": 3472,
          "x1": 3522,
          "y0": 109358.01,
          "y1": 109358.01
         },
         {
          "layer": "below",
          "line": {
           "color": "blue",
           "width": 2
          },
          "type": "line",
          "x0": 3486,
          "x1": 3536,
          "y0": 91178.01,
          "y1": 91178.01
         },
         {
          "layer": "below",
          "line": {
           "color": "orange",
           "width": 2
          },
          "type": "line",
          "x0": 3472,
          "x1": 3522,
          "y0": 109358.01,
          "y1": 109358.01
         },
         {
          "layer": "below",
          "line": {
           "color": "blue",
           "width": 2
          },
          "type": "line",
          "x0": 3486,
          "x1": 3536,
          "y0": 91178.01,
          "y1": 91178.01
         },
         {
          "layer": "below",
          "line": {
           "color": "orange",
           "width": 2
          },
          "type": "line",
          "x0": 3472,
          "x1": 3522,
          "y0": 109358.01,
          "y1": 109358.01
         },
         {
          "layer": "below",
          "line": {
           "color": "blue",
           "width": 2
          },
          "type": "line",
          "x0": 3486,
          "x1": 3536,
          "y0": 91178.01,
          "y1": 91178.01
         },
         {
          "layer": "below",
          "line": {
           "color": "orange",
           "width": 2
          },
          "type": "line",
          "x0": 3472,
          "x1": 3522,
          "y0": 109358.01,
          "y1": 109358.01
         },
         {
          "layer": "below",
          "line": {
           "color": "blue",
           "width": 2
          },
          "type": "line",
          "x0": 3486,
          "x1": 3536,
          "y0": 91178.01,
          "y1": 91178.01
         },
         {
          "layer": "below",
          "line": {
           "color": "orange",
           "width": 2
          },
          "type": "line",
          "x0": 3472,
          "x1": 3522,
          "y0": 109358.01,
          "y1": 109358.01
         },
         {
          "layer": "below",
          "line": {
           "color": "blue",
           "width": 2
          },
          "type": "line",
          "x0": 3486,
          "x1": 3536,
          "y0": 91178.01,
          "y1": 91178.01
         },
         {
          "layer": "below",
          "line": {
           "color": "blue",
           "width": 2
          },
          "type": "line",
          "x0": 3486,
          "x1": 3536,
          "y0": 91178.01,
          "y1": 91178.01
         },
         {
          "layer": "below",
          "line": {
           "color": "blue",
           "width": 2
          },
          "type": "line",
          "x0": 3486,
          "x1": 3536,
          "y0": 91178.01,
          "y1": 91178.01
         },
         {
          "layer": "below",
          "line": {
           "color": "blue",
           "width": 2
          },
          "type": "line",
          "x0": 3486,
          "x1": 3536,
          "y0": 91178.01,
          "y1": 91178.01
         },
         {
          "layer": "below",
          "line": {
           "color": "blue",
           "width": 2
          },
          "type": "line",
          "x0": 3486,
          "x1": 3536,
          "y0": 91178.01,
          "y1": 91178.01
         },
         {
          "layer": "below",
          "line": {
           "color": "blue",
           "width": 2
          },
          "type": "line",
          "x0": 3486,
          "x1": 3536,
          "y0": 91178.01,
          "y1": 91178.01
         },
         {
          "layer": "below",
          "line": {
           "color": "blue",
           "width": 2
          },
          "type": "line",
          "x0": 3486,
          "x1": 3536,
          "y0": 91178.01,
          "y1": 91178.01
         },
         {
          "layer": "below",
          "line": {
           "color": "blue",
           "width": 2
          },
          "type": "line",
          "x0": 3486,
          "x1": 3536,
          "y0": 91178.01,
          "y1": 91178.01
         },
         {
          "layer": "below",
          "line": {
           "color": "blue",
           "width": 2
          },
          "type": "line",
          "x0": 3486,
          "x1": 3536,
          "y0": 91178.01,
          "y1": 91178.01
         },
         {
          "layer": "below",
          "line": {
           "color": "blue",
           "width": 2
          },
          "type": "line",
          "x0": 3486,
          "x1": 3536,
          "y0": 91178.01,
          "y1": 91178.01
         },
         {
          "layer": "below",
          "line": {
           "color": "blue",
           "width": 2
          },
          "type": "line",
          "x0": 3486,
          "x1": 3536,
          "y0": 91178.01,
          "y1": 91178.01
         },
         {
          "layer": "below",
          "line": {
           "color": "blue",
           "width": 2
          },
          "type": "line",
          "x0": 3486,
          "x1": 3536,
          "y0": 91178.01,
          "y1": 91178.01
         },
         {
          "layer": "below",
          "line": {
           "color": "blue",
           "width": 2
          },
          "type": "line",
          "x0": 3486,
          "x1": 3536,
          "y0": 91178.01,
          "y1": 91178.01
         },
         {
          "layer": "below",
          "line": {
           "color": "blue",
           "width": 2
          },
          "type": "line",
          "x0": 3486,
          "x1": 3536,
          "y0": 91178.01,
          "y1": 91178.01
         },
         {
          "layer": "below",
          "line": {
           "color": "blue",
           "width": 2
          },
          "type": "line",
          "x0": 3522,
          "x1": 3572,
          "y0": 76555,
          "y1": 76555
         },
         {
          "layer": "below",
          "line": {
           "color": "blue",
           "width": 2
          },
          "type": "line",
          "x0": 3522,
          "x1": 3572,
          "y0": 76555,
          "y1": 76555
         },
         {
          "layer": "below",
          "line": {
           "color": "blue",
           "width": 2
          },
          "type": "line",
          "x0": 3522,
          "x1": 3572,
          "y0": 76555,
          "y1": 76555
         },
         {
          "layer": "below",
          "line": {
           "color": "blue",
           "width": 2
          },
          "type": "line",
          "x0": 3522,
          "x1": 3572,
          "y0": 76555,
          "y1": 76555
         },
         {
          "layer": "below",
          "line": {
           "color": "blue",
           "width": 2
          },
          "type": "line",
          "x0": 3522,
          "x1": 3572,
          "y0": 76555,
          "y1": 76555
         },
         {
          "layer": "below",
          "line": {
           "color": "blue",
           "width": 2
          },
          "type": "line",
          "x0": 3522,
          "x1": 3572,
          "y0": 76555,
          "y1": 76555
         },
         {
          "layer": "below",
          "line": {
           "color": "blue",
           "width": 2
          },
          "type": "line",
          "x0": 3522,
          "x1": 3572,
          "y0": 76555,
          "y1": 76555
         },
         {
          "layer": "below",
          "line": {
           "color": "blue",
           "width": 2
          },
          "type": "line",
          "x0": 3522,
          "x1": 3572,
          "y0": 76555,
          "y1": 76555
         },
         {
          "layer": "below",
          "line": {
           "color": "blue",
           "width": 2
          },
          "type": "line",
          "x0": 3522,
          "x1": 3572,
          "y0": 76555,
          "y1": 76555
         },
         {
          "layer": "below",
          "line": {
           "color": "blue",
           "width": 2
          },
          "type": "line",
          "x0": 3522,
          "x1": 3572,
          "y0": 76555,
          "y1": 76555
         },
         {
          "layer": "below",
          "line": {
           "color": "blue",
           "width": 2
          },
          "type": "line",
          "x0": 3522,
          "x1": 3572,
          "y0": 76555,
          "y1": 76555
         },
         {
          "layer": "below",
          "line": {
           "color": "blue",
           "width": 2
          },
          "type": "line",
          "x0": 3522,
          "x1": 3572,
          "y0": 76555,
          "y1": 76555
         },
         {
          "layer": "below",
          "line": {
           "color": "blue",
           "width": 2
          },
          "type": "line",
          "x0": 3522,
          "x1": 3572,
          "y0": 76555,
          "y1": 76555
         },
         {
          "layer": "below",
          "line": {
           "color": "blue",
           "width": 2
          },
          "type": "line",
          "x0": 3522,
          "x1": 3572,
          "y0": 76555,
          "y1": 76555
         },
         {
          "layer": "below",
          "line": {
           "color": "orange",
           "width": 2
          },
          "type": "line",
          "x0": 3535,
          "x1": 3585,
          "y0": 88804.64,
          "y1": 88804.64
         },
         {
          "layer": "below",
          "line": {
           "color": "blue",
           "width": 2
          },
          "type": "line",
          "x0": 3522,
          "x1": 3572,
          "y0": 76555,
          "y1": 76555
         },
         {
          "layer": "below",
          "line": {
           "color": "orange",
           "width": 2
          },
          "type": "line",
          "x0": 3535,
          "x1": 3585,
          "y0": 88804.64,
          "y1": 88804.64
         },
         {
          "layer": "below",
          "line": {
           "color": "blue",
           "width": 2
          },
          "type": "line",
          "x0": 3522,
          "x1": 3572,
          "y0": 76555,
          "y1": 76555
         },
         {
          "layer": "below",
          "line": {
           "color": "orange",
           "width": 2
          },
          "type": "line",
          "x0": 3535,
          "x1": 3585,
          "y0": 88804.64,
          "y1": 88804.64
         },
         {
          "layer": "below",
          "line": {
           "color": "blue",
           "width": 2
          },
          "type": "line",
          "x0": 3522,
          "x1": 3572,
          "y0": 76555,
          "y1": 76555
         },
         {
          "layer": "below",
          "line": {
           "color": "orange",
           "width": 2
          },
          "type": "line",
          "x0": 3535,
          "x1": 3585,
          "y0": 88804.64,
          "y1": 88804.64
         },
         {
          "layer": "below",
          "line": {
           "color": "blue",
           "width": 2
          },
          "type": "line",
          "x0": 3522,
          "x1": 3572,
          "y0": 76555,
          "y1": 76555
         },
         {
          "layer": "below",
          "line": {
           "color": "orange",
           "width": 2
          },
          "type": "line",
          "x0": 3535,
          "x1": 3585,
          "y0": 88804.64,
          "y1": 88804.64
         },
         {
          "layer": "below",
          "line": {
           "color": "blue",
           "width": 2
          },
          "type": "line",
          "x0": 3522,
          "x1": 3572,
          "y0": 76555,
          "y1": 76555
         },
         {
          "layer": "below",
          "line": {
           "color": "orange",
           "width": 2
          },
          "type": "line",
          "x0": 3535,
          "x1": 3585,
          "y0": 88804.64,
          "y1": 88804.64
         },
         {
          "layer": "below",
          "line": {
           "color": "blue",
           "width": 2
          },
          "type": "line",
          "x0": 3522,
          "x1": 3572,
          "y0": 76555,
          "y1": 76555
         },
         {
          "layer": "below",
          "line": {
           "color": "orange",
           "width": 2
          },
          "type": "line",
          "x0": 3535,
          "x1": 3585,
          "y0": 88804.64,
          "y1": 88804.64
         },
         {
          "layer": "below",
          "line": {
           "color": "blue",
           "width": 2
          },
          "type": "line",
          "x0": 3522,
          "x1": 3572,
          "y0": 76555,
          "y1": 76555
         },
         {
          "layer": "below",
          "line": {
           "color": "orange",
           "width": 2
          },
          "type": "line",
          "x0": 3535,
          "x1": 3585,
          "y0": 88804.64,
          "y1": 88804.64
         },
         {
          "layer": "below",
          "line": {
           "color": "blue",
           "width": 2
          },
          "type": "line",
          "x0": 3522,
          "x1": 3572,
          "y0": 76555,
          "y1": 76555
         },
         {
          "layer": "below",
          "line": {
           "color": "orange",
           "width": 2
          },
          "type": "line",
          "x0": 3535,
          "x1": 3585,
          "y0": 88804.64,
          "y1": 88804.64
         },
         {
          "layer": "below",
          "line": {
           "color": "blue",
           "width": 2
          },
          "type": "line",
          "x0": 3522,
          "x1": 3572,
          "y0": 76555,
          "y1": 76555
         },
         {
          "layer": "below",
          "line": {
           "color": "orange",
           "width": 2
          },
          "type": "line",
          "x0": 3535,
          "x1": 3585,
          "y0": 88804.64,
          "y1": 88804.64
         },
         {
          "layer": "below",
          "line": {
           "color": "blue",
           "width": 2
          },
          "type": "line",
          "x0": 3522,
          "x1": 3572,
          "y0": 76555,
          "y1": 76555
         },
         {
          "layer": "below",
          "line": {
           "color": "orange",
           "width": 2
          },
          "type": "line",
          "x0": 3535,
          "x1": 3585,
          "y0": 88804.64,
          "y1": 88804.64
         }
        ],
        "template": {
         "data": {
          "bar": [
           {
            "error_x": {
             "color": "#2a3f5f"
            },
            "error_y": {
             "color": "#2a3f5f"
            },
            "marker": {
             "line": {
              "color": "#E5ECF6",
              "width": 0.5
             },
             "pattern": {
              "fillmode": "overlay",
              "size": 10,
              "solidity": 0.2
             }
            },
            "type": "bar"
           }
          ],
          "barpolar": [
           {
            "marker": {
             "line": {
              "color": "#E5ECF6",
              "width": 0.5
             },
             "pattern": {
              "fillmode": "overlay",
              "size": 10,
              "solidity": 0.2
             }
            },
            "type": "barpolar"
           }
          ],
          "carpet": [
           {
            "aaxis": {
             "endlinecolor": "#2a3f5f",
             "gridcolor": "white",
             "linecolor": "white",
             "minorgridcolor": "white",
             "startlinecolor": "#2a3f5f"
            },
            "baxis": {
             "endlinecolor": "#2a3f5f",
             "gridcolor": "white",
             "linecolor": "white",
             "minorgridcolor": "white",
             "startlinecolor": "#2a3f5f"
            },
            "type": "carpet"
           }
          ],
          "choropleth": [
           {
            "colorbar": {
             "outlinewidth": 0,
             "ticks": ""
            },
            "type": "choropleth"
           }
          ],
          "contour": [
           {
            "colorbar": {
             "outlinewidth": 0,
             "ticks": ""
            },
            "colorscale": [
             [
              0,
              "#0d0887"
             ],
             [
              0.1111111111111111,
              "#46039f"
             ],
             [
              0.2222222222222222,
              "#7201a8"
             ],
             [
              0.3333333333333333,
              "#9c179e"
             ],
             [
              0.4444444444444444,
              "#bd3786"
             ],
             [
              0.5555555555555556,
              "#d8576b"
             ],
             [
              0.6666666666666666,
              "#ed7953"
             ],
             [
              0.7777777777777778,
              "#fb9f3a"
             ],
             [
              0.8888888888888888,
              "#fdca26"
             ],
             [
              1,
              "#f0f921"
             ]
            ],
            "type": "contour"
           }
          ],
          "contourcarpet": [
           {
            "colorbar": {
             "outlinewidth": 0,
             "ticks": ""
            },
            "type": "contourcarpet"
           }
          ],
          "heatmap": [
           {
            "colorbar": {
             "outlinewidth": 0,
             "ticks": ""
            },
            "colorscale": [
             [
              0,
              "#0d0887"
             ],
             [
              0.1111111111111111,
              "#46039f"
             ],
             [
              0.2222222222222222,
              "#7201a8"
             ],
             [
              0.3333333333333333,
              "#9c179e"
             ],
             [
              0.4444444444444444,
              "#bd3786"
             ],
             [
              0.5555555555555556,
              "#d8576b"
             ],
             [
              0.6666666666666666,
              "#ed7953"
             ],
             [
              0.7777777777777778,
              "#fb9f3a"
             ],
             [
              0.8888888888888888,
              "#fdca26"
             ],
             [
              1,
              "#f0f921"
             ]
            ],
            "type": "heatmap"
           }
          ],
          "histogram": [
           {
            "marker": {
             "pattern": {
              "fillmode": "overlay",
              "size": 10,
              "solidity": 0.2
             }
            },
            "type": "histogram"
           }
          ],
          "histogram2d": [
           {
            "colorbar": {
             "outlinewidth": 0,
             "ticks": ""
            },
            "colorscale": [
             [
              0,
              "#0d0887"
             ],
             [
              0.1111111111111111,
              "#46039f"
             ],
             [
              0.2222222222222222,
              "#7201a8"
             ],
             [
              0.3333333333333333,
              "#9c179e"
             ],
             [
              0.4444444444444444,
              "#bd3786"
             ],
             [
              0.5555555555555556,
              "#d8576b"
             ],
             [
              0.6666666666666666,
              "#ed7953"
             ],
             [
              0.7777777777777778,
              "#fb9f3a"
             ],
             [
              0.8888888888888888,
              "#fdca26"
             ],
             [
              1,
              "#f0f921"
             ]
            ],
            "type": "histogram2d"
           }
          ],
          "histogram2dcontour": [
           {
            "colorbar": {
             "outlinewidth": 0,
             "ticks": ""
            },
            "colorscale": [
             [
              0,
              "#0d0887"
             ],
             [
              0.1111111111111111,
              "#46039f"
             ],
             [
              0.2222222222222222,
              "#7201a8"
             ],
             [
              0.3333333333333333,
              "#9c179e"
             ],
             [
              0.4444444444444444,
              "#bd3786"
             ],
             [
              0.5555555555555556,
              "#d8576b"
             ],
             [
              0.6666666666666666,
              "#ed7953"
             ],
             [
              0.7777777777777778,
              "#fb9f3a"
             ],
             [
              0.8888888888888888,
              "#fdca26"
             ],
             [
              1,
              "#f0f921"
             ]
            ],
            "type": "histogram2dcontour"
           }
          ],
          "mesh3d": [
           {
            "colorbar": {
             "outlinewidth": 0,
             "ticks": ""
            },
            "type": "mesh3d"
           }
          ],
          "parcoords": [
           {
            "line": {
             "colorbar": {
              "outlinewidth": 0,
              "ticks": ""
             }
            },
            "type": "parcoords"
           }
          ],
          "pie": [
           {
            "automargin": true,
            "type": "pie"
           }
          ],
          "scatter": [
           {
            "fillpattern": {
             "fillmode": "overlay",
             "size": 10,
             "solidity": 0.2
            },
            "type": "scatter"
           }
          ],
          "scatter3d": [
           {
            "line": {
             "colorbar": {
              "outlinewidth": 0,
              "ticks": ""
             }
            },
            "marker": {
             "colorbar": {
              "outlinewidth": 0,
              "ticks": ""
             }
            },
            "type": "scatter3d"
           }
          ],
          "scattercarpet": [
           {
            "marker": {
             "colorbar": {
              "outlinewidth": 0,
              "ticks": ""
             }
            },
            "type": "scattercarpet"
           }
          ],
          "scattergeo": [
           {
            "marker": {
             "colorbar": {
              "outlinewidth": 0,
              "ticks": ""
             }
            },
            "type": "scattergeo"
           }
          ],
          "scattergl": [
           {
            "marker": {
             "colorbar": {
              "outlinewidth": 0,
              "ticks": ""
             }
            },
            "type": "scattergl"
           }
          ],
          "scattermap": [
           {
            "marker": {
             "colorbar": {
              "outlinewidth": 0,
              "ticks": ""
             }
            },
            "type": "scattermap"
           }
          ],
          "scattermapbox": [
           {
            "marker": {
             "colorbar": {
              "outlinewidth": 0,
              "ticks": ""
             }
            },
            "type": "scattermapbox"
           }
          ],
          "scatterpolar": [
           {
            "marker": {
             "colorbar": {
              "outlinewidth": 0,
              "ticks": ""
             }
            },
            "type": "scatterpolar"
           }
          ],
          "scatterpolargl": [
           {
            "marker": {
             "colorbar": {
              "outlinewidth": 0,
              "ticks": ""
             }
            },
            "type": "scatterpolargl"
           }
          ],
          "scatterternary": [
           {
            "marker": {
             "colorbar": {
              "outlinewidth": 0,
              "ticks": ""
             }
            },
            "type": "scatterternary"
           }
          ],
          "surface": [
           {
            "colorbar": {
             "outlinewidth": 0,
             "ticks": ""
            },
            "colorscale": [
             [
              0,
              "#0d0887"
             ],
             [
              0.1111111111111111,
              "#46039f"
             ],
             [
              0.2222222222222222,
              "#7201a8"
             ],
             [
              0.3333333333333333,
              "#9c179e"
             ],
             [
              0.4444444444444444,
              "#bd3786"
             ],
             [
              0.5555555555555556,
              "#d8576b"
             ],
             [
              0.6666666666666666,
              "#ed7953"
             ],
             [
              0.7777777777777778,
              "#fb9f3a"
             ],
             [
              0.8888888888888888,
              "#fdca26"
             ],
             [
              1,
              "#f0f921"
             ]
            ],
            "type": "surface"
           }
          ],
          "table": [
           {
            "cells": {
             "fill": {
              "color": "#EBF0F8"
             },
             "line": {
              "color": "white"
             }
            },
            "header": {
             "fill": {
              "color": "#C8D4E3"
             },
             "line": {
              "color": "white"
             }
            },
            "type": "table"
           }
          ]
         },
         "layout": {
          "annotationdefaults": {
           "arrowcolor": "#2a3f5f",
           "arrowhead": 0,
           "arrowwidth": 1
          },
          "autotypenumbers": "strict",
          "coloraxis": {
           "colorbar": {
            "outlinewidth": 0,
            "ticks": ""
           }
          },
          "colorscale": {
           "diverging": [
            [
             0,
             "#8e0152"
            ],
            [
             0.1,
             "#c51b7d"
            ],
            [
             0.2,
             "#de77ae"
            ],
            [
             0.3,
             "#f1b6da"
            ],
            [
             0.4,
             "#fde0ef"
            ],
            [
             0.5,
             "#f7f7f7"
            ],
            [
             0.6,
             "#e6f5d0"
            ],
            [
             0.7,
             "#b8e186"
            ],
            [
             0.8,
             "#7fbc41"
            ],
            [
             0.9,
             "#4d9221"
            ],
            [
             1,
             "#276419"
            ]
           ],
           "sequential": [
            [
             0,
             "#0d0887"
            ],
            [
             0.1111111111111111,
             "#46039f"
            ],
            [
             0.2222222222222222,
             "#7201a8"
            ],
            [
             0.3333333333333333,
             "#9c179e"
            ],
            [
             0.4444444444444444,
             "#bd3786"
            ],
            [
             0.5555555555555556,
             "#d8576b"
            ],
            [
             0.6666666666666666,
             "#ed7953"
            ],
            [
             0.7777777777777778,
             "#fb9f3a"
            ],
            [
             0.8888888888888888,
             "#fdca26"
            ],
            [
             1,
             "#f0f921"
            ]
           ],
           "sequentialminus": [
            [
             0,
             "#0d0887"
            ],
            [
             0.1111111111111111,
             "#46039f"
            ],
            [
             0.2222222222222222,
             "#7201a8"
            ],
            [
             0.3333333333333333,
             "#9c179e"
            ],
            [
             0.4444444444444444,
             "#bd3786"
            ],
            [
             0.5555555555555556,
             "#d8576b"
            ],
            [
             0.6666666666666666,
             "#ed7953"
            ],
            [
             0.7777777777777778,
             "#fb9f3a"
            ],
            [
             0.8888888888888888,
             "#fdca26"
            ],
            [
             1,
             "#f0f921"
            ]
           ]
          },
          "colorway": [
           "#636efa",
           "#EF553B",
           "#00cc96",
           "#ab63fa",
           "#FFA15A",
           "#19d3f3",
           "#FF6692",
           "#B6E880",
           "#FF97FF",
           "#FECB52"
          ],
          "font": {
           "color": "#2a3f5f"
          },
          "geo": {
           "bgcolor": "white",
           "lakecolor": "white",
           "landcolor": "#E5ECF6",
           "showlakes": true,
           "showland": true,
           "subunitcolor": "white"
          },
          "hoverlabel": {
           "align": "left"
          },
          "hovermode": "closest",
          "mapbox": {
           "style": "light"
          },
          "paper_bgcolor": "white",
          "plot_bgcolor": "#E5ECF6",
          "polar": {
           "angularaxis": {
            "gridcolor": "white",
            "linecolor": "white",
            "ticks": ""
           },
           "bgcolor": "#E5ECF6",
           "radialaxis": {
            "gridcolor": "white",
            "linecolor": "white",
            "ticks": ""
           }
          },
          "scene": {
           "xaxis": {
            "backgroundcolor": "#E5ECF6",
            "gridcolor": "white",
            "gridwidth": 2,
            "linecolor": "white",
            "showbackground": true,
            "ticks": "",
            "zerolinecolor": "white"
           },
           "yaxis": {
            "backgroundcolor": "#E5ECF6",
            "gridcolor": "white",
            "gridwidth": 2,
            "linecolor": "white",
            "showbackground": true,
            "ticks": "",
            "zerolinecolor": "white"
           },
           "zaxis": {
            "backgroundcolor": "#E5ECF6",
            "gridcolor": "white",
            "gridwidth": 2,
            "linecolor": "white",
            "showbackground": true,
            "ticks": "",
            "zerolinecolor": "white"
           }
          },
          "shapedefaults": {
           "line": {
            "color": "#2a3f5f"
           }
          },
          "ternary": {
           "aaxis": {
            "gridcolor": "white",
            "linecolor": "white",
            "ticks": ""
           },
           "baxis": {
            "gridcolor": "white",
            "linecolor": "white",
            "ticks": ""
           },
           "bgcolor": "#E5ECF6",
           "caxis": {
            "gridcolor": "white",
            "linecolor": "white",
            "ticks": ""
           }
          },
          "title": {
           "x": 0.05
          },
          "xaxis": {
           "automargin": true,
           "gridcolor": "white",
           "linecolor": "white",
           "ticks": "",
           "title": {
            "standoff": 15
           },
           "zerolinecolor": "white",
           "zerolinewidth": 2
          },
          "yaxis": {
           "automargin": true,
           "gridcolor": "white",
           "linecolor": "white",
           "ticks": "",
           "title": {
            "standoff": 15
           },
           "zerolinecolor": "white",
           "zerolinewidth": 2
          }
         }
        },
        "width": 1200,
        "xaxis": {
         "showgrid": false
        },
        "yaxis": {
         "showgrid": false
        }
       }
      }
     },
     "metadata": {},
     "output_type": "display_data"
    }
   ],
   "source": [
    "\n",
    "def plot_fvg_and_key_levels(df, start_idx, end_idx, extension=30):\n",
    "    \"\"\"\n",
    "    Plots candlesticks, FVG zones, and key levels (support/resistance) for a\n",
    "    subset of a DataFrame from `start_idx` to `end_idx`.\n",
    "    \n",
    "    The FVG column is expected to have tuples of the form:\n",
    "        (fvg_type, start_price, end_price, trigger_index)\n",
    "\n",
    "    The key_levels column is expected to have dictionaries of the form:\n",
    "        {\n",
    "          \"support\": [(idx, price), (idx, price), ...],\n",
    "          \"resistance\": [(idx, price), (idx, price), ...]\n",
    "        }\n",
    "\n",
    "    Parameters:\n",
    "    -----------\n",
    "    df : pd.DataFrame\n",
    "        Must contain: \"Open\", \"High\", \"Low\", \"Close\", \"FVG\", \"key_levels\".\n",
    "    start_idx : int\n",
    "        Starting row index for plotting.\n",
    "    end_idx : int\n",
    "        Ending row index for plotting.\n",
    "    extension : int\n",
    "        How far (in x-axis units/index steps) to extend the FVG rectangles\n",
    "        and key-level lines.\n",
    "    \n",
    "    Returns:\n",
    "    --------\n",
    "    fig : plotly.graph_objects.Figure\n",
    "        A Plotly Figure with the candlesticks, FVG, and key-level lines.\n",
    "    \"\"\"\n",
    "    \n",
    "    # Slice the DataFrame to the desired plotting range\n",
    "    dfpl = df.loc[start_idx:end_idx]\n",
    "\n",
    "    # Create the figure\n",
    "    fig = go.Figure()\n",
    "\n",
    "    # -- 1) Add Candlestick Chart --\n",
    "    fig.add_trace(go.Candlestick(\n",
    "        x=dfpl.index,\n",
    "        open=dfpl[\"Open\"],\n",
    "        high=dfpl[\"High\"],\n",
    "        low=dfpl[\"Low\"],\n",
    "        close=dfpl[\"Close\"],\n",
    "        name=\"Candles\"\n",
    "    ))\n",
    "\n",
    "    # -- 2) Add FVG Zones --\n",
    "    for i, row in dfpl.iterrows():\n",
    "        # Check if \"FVG\" is a valid tuple: (fvg_type, start_price, end_price, trigger_index)\n",
    "        if isinstance(row.get(\"FVG\"), tuple):\n",
    "            fvg_type, start_price, end_price, trigger_idx = row[\"FVG\"]\n",
    "\n",
    "            # Choose a fill color based on bullish vs. bearish\n",
    "            if fvg_type == \"bullish\":\n",
    "                color = \"rgba(0, 255, 0, 0.3)\"   # greenish\n",
    "            else:\n",
    "                color = \"rgba(255, 0, 0, 0.3)\"   # reddish\n",
    "\n",
    "            fig.add_shape(\n",
    "                type=\"rect\",\n",
    "                x0=trigger_idx, \n",
    "                x1=trigger_idx + extension,\n",
    "                y0=start_price,\n",
    "                y1=end_price,\n",
    "                fillcolor=color,\n",
    "                opacity=0.4,\n",
    "                layer=\"below\",\n",
    "                line=dict(width=0),\n",
    "            )\n",
    "\n",
    "    # -- 3) Add Key Levels as Horizontal Lines --\n",
    "    for i, row in dfpl.iterrows():\n",
    "        key_levels = row.get(\"key_levels\", None)\n",
    "        if key_levels:\n",
    "            # key_levels is a dict: {\"support\": [(idx, val), ...], \"resistance\": [(idx, val), ...]}\n",
    "            support_levels = key_levels.get(\"support\", [])\n",
    "            resistance_levels = key_levels.get(\"resistance\", [])\n",
    "\n",
    "            # Plot support levels\n",
    "            for (gen_idx, s_price) in support_levels:\n",
    "                # We only draw the line if gen_idx is in (start_idx, end_idx)\n",
    "                # You can decide to relax/omit this check if you want lines from outside the window.\n",
    "                if start_idx <= gen_idx <= end_idx:\n",
    "                    fig.add_shape(\n",
    "                        type=\"line\",\n",
    "                        x0=gen_idx,\n",
    "                        x1=gen_idx + extension,\n",
    "                        y0=s_price,\n",
    "                        y1=s_price,\n",
    "                        line=dict(color=\"blue\", width=2),\n",
    "                        layer=\"below\"\n",
    "                    )\n",
    "\n",
    "            # Plot resistance levels\n",
    "            for (gen_idx, r_price) in resistance_levels:\n",
    "                if start_idx <= gen_idx <= end_idx:\n",
    "                    fig.add_shape(\n",
    "                        type=\"line\",\n",
    "                        x0=gen_idx,\n",
    "                        x1=gen_idx + extension,\n",
    "                        y0=r_price,\n",
    "                        y1=r_price,\n",
    "                        line=dict(color=\"orange\", width=2),\n",
    "                        layer=\"below\"\n",
    "                    )\n",
    "\n",
    "    # -- 4) Figure Aesthetics --\n",
    "    fig.update_layout(\n",
    "        width=1200,\n",
    "        height=800,\n",
    "        xaxis=dict(showgrid=False),\n",
    "        yaxis=dict(showgrid=False),\n",
    "        plot_bgcolor='black',\n",
    "        paper_bgcolor='black'\n",
    "    )\n",
    "    return fig\n",
    "\n",
    "fig = plot_fvg_and_key_levels(btc, start_idx=len(btc)-201, end_idx=len(btc)-1, extension=50)\n",
    "fig.show()"
   ]
  },
  {
   "cell_type": "markdown",
   "metadata": {},
   "source": [
    "# Detect the Signal"
   ]
  },
  {
   "cell_type": "code",
   "execution_count": 25,
   "metadata": {},
   "outputs": [
    {
     "data": {
      "text/html": [
       "<div>\n",
       "<style scoped>\n",
       "    .dataframe tbody tr th:only-of-type {\n",
       "        vertical-align: middle;\n",
       "    }\n",
       "\n",
       "    .dataframe tbody tr th {\n",
       "        vertical-align: top;\n",
       "    }\n",
       "\n",
       "    .dataframe thead th {\n",
       "        text-align: right;\n",
       "    }\n",
       "</style>\n",
       "<table border=\"1\" class=\"dataframe\">\n",
       "  <thead>\n",
       "    <tr style=\"text-align: right;\">\n",
       "      <th></th>\n",
       "      <th>Date</th>\n",
       "      <th>Open</th>\n",
       "      <th>High</th>\n",
       "      <th>Low</th>\n",
       "      <th>Close</th>\n",
       "      <th>Volume</th>\n",
       "      <th>Risk Free Rate</th>\n",
       "      <th>FVG</th>\n",
       "      <th>key_levels</th>\n",
       "      <th>break_signal</th>\n",
       "      <th>pointpos</th>\n",
       "      <th>buy_pct</th>\n",
       "      <th>sell_pct</th>\n",
       "    </tr>\n",
       "  </thead>\n",
       "  <tbody>\n",
       "    <tr>\n",
       "      <th>86</th>\n",
       "      <td>2015-10-14</td>\n",
       "      <td>250.98</td>\n",
       "      <td>255.00</td>\n",
       "      <td>250.25</td>\n",
       "      <td>253.27</td>\n",
       "      <td>7587.526674</td>\n",
       "      <td>0.01981</td>\n",
       "      <td>(bullish, 249.14, 250.25, 86)</td>\n",
       "      <td>{'support': [(36, 198.02), (64, 224.45)], 'res...</td>\n",
       "      <td>1</td>\n",
       "      <td>255.0001</td>\n",
       "      <td>0.0</td>\n",
       "      <td>0.201782</td>\n",
       "    </tr>\n",
       "    <tr>\n",
       "      <th>271</th>\n",
       "      <td>2016-04-16</td>\n",
       "      <td>430.82</td>\n",
       "      <td>434.89</td>\n",
       "      <td>429.89</td>\n",
       "      <td>433.39</td>\n",
       "      <td>4133.985987</td>\n",
       "      <td>0.01752</td>\n",
       "      <td>(bullish, 428.0, 429.89, 271)</td>\n",
       "      <td>{'support': [(229, 381.09)], 'resistance': [(2...</td>\n",
       "      <td>1</td>\n",
       "      <td>434.8901</td>\n",
       "      <td>0.0</td>\n",
       "      <td>0.201766</td>\n",
       "    </tr>\n",
       "    <tr>\n",
       "      <th>314</th>\n",
       "      <td>2016-05-29</td>\n",
       "      <td>523.35</td>\n",
       "      <td>549.99</td>\n",
       "      <td>491.01</td>\n",
       "      <td>525.22</td>\n",
       "      <td>9957.527243</td>\n",
       "      <td>0.01851</td>\n",
       "      <td>(bullish, 476.75, 491.01, 314)</td>\n",
       "      <td>{'support': [], 'resistance': [(280, 472.38)]}</td>\n",
       "      <td>1</td>\n",
       "      <td>549.9901</td>\n",
       "      <td>0.0</td>\n",
       "      <td>0.211964</td>\n",
       "    </tr>\n",
       "    <tr>\n",
       "      <th>379</th>\n",
       "      <td>2016-08-02</td>\n",
       "      <td>604.87</td>\n",
       "      <td>613.38</td>\n",
       "      <td>483.00</td>\n",
       "      <td>537.47</td>\n",
       "      <td>14839.346160</td>\n",
       "      <td>0.01537</td>\n",
       "      <td>(bearish, 621.37, 613.38, 379)</td>\n",
       "      <td>{'support': [(339, 544.13), (355, 608.0)], 're...</td>\n",
       "      <td>-1</td>\n",
       "      <td>NaN</td>\n",
       "      <td>0.0</td>\n",
       "      <td>0.000000</td>\n",
       "    </tr>\n",
       "    <tr>\n",
       "      <th>380</th>\n",
       "      <td>2016-08-03</td>\n",
       "      <td>538.80</td>\n",
       "      <td>576.00</td>\n",
       "      <td>519.30</td>\n",
       "      <td>573.36</td>\n",
       "      <td>20292.859717</td>\n",
       "      <td>0.01542</td>\n",
       "      <td>(bearish, 599.0, 576.0, 380)</td>\n",
       "      <td>{'support': [(339, 544.13), (355, 608.0)], 're...</td>\n",
       "      <td>-1</td>\n",
       "      <td>NaN</td>\n",
       "      <td>0.0</td>\n",
       "      <td>0.000000</td>\n",
       "    </tr>\n",
       "    <tr>\n",
       "      <th>450</th>\n",
       "      <td>2016-10-12</td>\n",
       "      <td>642.30</td>\n",
       "      <td>643.58</td>\n",
       "      <td>631.91</td>\n",
       "      <td>635.79</td>\n",
       "      <td>4334.738703</td>\n",
       "      <td>0.01778</td>\n",
       "      <td>(bullish, 619.2, 631.91, 450)</td>\n",
       "      <td>{'support': [(409, 568.12)], 'resistance': [(4...</td>\n",
       "      <td>1</td>\n",
       "      <td>643.5801</td>\n",
       "      <td>0.0</td>\n",
       "      <td>0.208211</td>\n",
       "    </tr>\n",
       "    <tr>\n",
       "      <th>461</th>\n",
       "      <td>2016-10-23</td>\n",
       "      <td>653.03</td>\n",
       "      <td>655.80</td>\n",
       "      <td>645.33</td>\n",
       "      <td>651.04</td>\n",
       "      <td>3075.739567</td>\n",
       "      <td>0.01740</td>\n",
       "      <td>(bullish, 633.41, 645.33, 461)</td>\n",
       "      <td>{'support': [], 'resistance': [(416, 631.3)]}</td>\n",
       "      <td>1</td>\n",
       "      <td>655.8001</td>\n",
       "      <td>0.0</td>\n",
       "      <td>0.207528</td>\n",
       "    </tr>\n",
       "    <tr>\n",
       "      <th>727</th>\n",
       "      <td>2017-07-16</td>\n",
       "      <td>1964.33</td>\n",
       "      <td>2043.94</td>\n",
       "      <td>1758.20</td>\n",
       "      <td>1911.78</td>\n",
       "      <td>21740.892740</td>\n",
       "      <td>0.02319</td>\n",
       "      <td>(bearish, 2150.0, 2043.94, 727)</td>\n",
       "      <td>{'support': [(696, 2050.0)], 'resistance': [(6...</td>\n",
       "      <td>-1</td>\n",
       "      <td>NaN</td>\n",
       "      <td>0.0</td>\n",
       "      <td>0.000000</td>\n",
       "    </tr>\n",
       "    <tr>\n",
       "      <th>748</th>\n",
       "      <td>2017-08-06</td>\n",
       "      <td>3243.50</td>\n",
       "      <td>3278.42</td>\n",
       "      <td>3150.00</td>\n",
       "      <td>3222.22</td>\n",
       "      <td>8666.200782</td>\n",
       "      <td>0.02267</td>\n",
       "      <td>(bullish, 2877.79, 3150.0, 748)</td>\n",
       "      <td>{'support': [(727, 1758.2)], 'resistance': [(7...</td>\n",
       "      <td>1</td>\n",
       "      <td>3278.4201</td>\n",
       "      <td>0.0</td>\n",
       "      <td>0.237836</td>\n",
       "    </tr>\n",
       "    <tr>\n",
       "      <th>816</th>\n",
       "      <td>2017-10-13</td>\n",
       "      <td>5440.00</td>\n",
       "      <td>5867.00</td>\n",
       "      <td>5390.00</td>\n",
       "      <td>5624.80</td>\n",
       "      <td>26597.975259</td>\n",
       "      <td>0.02280</td>\n",
       "      <td>(bullish, 4869.97, 5390.0, 816)</td>\n",
       "      <td>{'support': [(788, 2975.01)], 'resistance': [(...</td>\n",
       "      <td>1</td>\n",
       "      <td>5867.0001</td>\n",
       "      <td>0.0</td>\n",
       "      <td>0.242713</td>\n",
       "    </tr>\n",
       "    <tr>\n",
       "      <th>926</th>\n",
       "      <td>2018-01-31</td>\n",
       "      <td>9995.00</td>\n",
       "      <td>10299.95</td>\n",
       "      <td>9601.02</td>\n",
       "      <td>10099.99</td>\n",
       "      <td>19533.738097</td>\n",
       "      <td>0.02720</td>\n",
       "      <td>(bearish, 10840.0, 10299.95, 926)</td>\n",
       "      <td>{'support': [(886, 10400.0)], 'resistance': [(...</td>\n",
       "      <td>-1</td>\n",
       "      <td>NaN</td>\n",
       "      <td>0.0</td>\n",
       "      <td>0.000000</td>\n",
       "    </tr>\n",
       "    <tr>\n",
       "      <th>1214</th>\n",
       "      <td>2018-11-15</td>\n",
       "      <td>5605.01</td>\n",
       "      <td>5645.00</td>\n",
       "      <td>5188.00</td>\n",
       "      <td>5579.52</td>\n",
       "      <td>21893.755916</td>\n",
       "      <td>0.03118</td>\n",
       "      <td>(bearish, 6252.5, 5645.0, 1214)</td>\n",
       "      <td>{'support': [(1179, 6033.34)], 'resistance': [...</td>\n",
       "      <td>-1</td>\n",
       "      <td>NaN</td>\n",
       "      <td>0.0</td>\n",
       "      <td>0.000000</td>\n",
       "    </tr>\n",
       "    <tr>\n",
       "      <th>1353</th>\n",
       "      <td>2019-04-03</td>\n",
       "      <td>4901.92</td>\n",
       "      <td>5345.00</td>\n",
       "      <td>4787.11</td>\n",
       "      <td>4975.97</td>\n",
       "      <td>39435.726506</td>\n",
       "      <td>0.02517</td>\n",
       "      <td>(bullish, 4149.5, 4787.11, 1353)</td>\n",
       "      <td>{'support': [], 'resistance': [(1315, 4188.79)]}</td>\n",
       "      <td>1</td>\n",
       "      <td>5345.0001</td>\n",
       "      <td>0.0</td>\n",
       "      <td>0.261464</td>\n",
       "    </tr>\n",
       "    <tr>\n",
       "      <th>1528</th>\n",
       "      <td>2019-09-25</td>\n",
       "      <td>8530.01</td>\n",
       "      <td>8743.86</td>\n",
       "      <td>8222.01</td>\n",
       "      <td>8438.35</td>\n",
       "      <td>23524.432630</td>\n",
       "      <td>0.01732</td>\n",
       "      <td>(bearish, 9609.37, 8743.86, 1528)</td>\n",
       "      <td>{'support': [(1501, 9321.73)], 'resistance': [...</td>\n",
       "      <td>-1</td>\n",
       "      <td>NaN</td>\n",
       "      <td>0.0</td>\n",
       "      <td>0.000000</td>\n",
       "    </tr>\n",
       "    <tr>\n",
       "      <th>1557</th>\n",
       "      <td>2019-10-24</td>\n",
       "      <td>7475.54</td>\n",
       "      <td>7509.99</td>\n",
       "      <td>7359.48</td>\n",
       "      <td>7430.87</td>\n",
       "      <td>7972.640830</td>\n",
       "      <td>0.01766</td>\n",
       "      <td>(bearish, 7998.9, 7509.99, 1557)</td>\n",
       "      <td>{'support': [(1533, 7701.0)], 'resistance': [(...</td>\n",
       "      <td>-1</td>\n",
       "      <td>NaN</td>\n",
       "      <td>0.0</td>\n",
       "      <td>0.000000</td>\n",
       "    </tr>\n",
       "    <tr>\n",
       "      <th>1587</th>\n",
       "      <td>2019-11-23</td>\n",
       "      <td>7283.19</td>\n",
       "      <td>7361.41</td>\n",
       "      <td>7102.21</td>\n",
       "      <td>7329.29</td>\n",
       "      <td>7728.423990</td>\n",
       "      <td>0.01774</td>\n",
       "      <td>(bearish, 7374.5, 7361.41, 1587)</td>\n",
       "      <td>{'support': [(1556, 7296.44)], 'resistance': [...</td>\n",
       "      <td>-1</td>\n",
       "      <td>NaN</td>\n",
       "      <td>0.0</td>\n",
       "      <td>0.000000</td>\n",
       "    </tr>\n",
       "    <tr>\n",
       "      <th>1740</th>\n",
       "      <td>2020-04-24</td>\n",
       "      <td>7491.50</td>\n",
       "      <td>7612.24</td>\n",
       "      <td>7390.00</td>\n",
       "      <td>7514.64</td>\n",
       "      <td>13764.566954</td>\n",
       "      <td>0.00596</td>\n",
       "      <td>(bullish, 7167.37, 7390.0, 1740)</td>\n",
       "      <td>{'support': [(1698, 3858.0)], 'resistance': [(...</td>\n",
       "      <td>1</td>\n",
       "      <td>7612.2401</td>\n",
       "      <td>0.0</td>\n",
       "      <td>0.212425</td>\n",
       "    </tr>\n",
       "    <tr>\n",
       "      <th>1910</th>\n",
       "      <td>2020-10-11</td>\n",
       "      <td>11299.52</td>\n",
       "      <td>11444.25</td>\n",
       "      <td>11276.28</td>\n",
       "      <td>11374.01</td>\n",
       "      <td>5163.464757</td>\n",
       "      <td>0.00775</td>\n",
       "      <td>(bullish, 11111.11, 11276.28, 1910)</td>\n",
       "      <td>{'support': [(1874, 9813.0)], 'resistance': [(...</td>\n",
       "      <td>1</td>\n",
       "      <td>11444.2501</td>\n",
       "      <td>0.0</td>\n",
       "      <td>0.205946</td>\n",
       "    </tr>\n",
       "    <tr>\n",
       "      <th>2031</th>\n",
       "      <td>2021-02-09</td>\n",
       "      <td>46453.66</td>\n",
       "      <td>48200.00</td>\n",
       "      <td>45020.00</td>\n",
       "      <td>46514.73</td>\n",
       "      <td>36418.793651</td>\n",
       "      <td>0.01157</td>\n",
       "      <td>(bullish, 39737.83, 45020.0, 2031)</td>\n",
       "      <td>{'support': [(2013, 28732.0)], 'resistance': [...</td>\n",
       "      <td>1</td>\n",
       "      <td>48200.0001</td>\n",
       "      <td>0.0</td>\n",
       "      <td>0.253170</td>\n",
       "    </tr>\n",
       "    <tr>\n",
       "      <th>2064</th>\n",
       "      <td>2021-03-14</td>\n",
       "      <td>61181.38</td>\n",
       "      <td>61680.00</td>\n",
       "      <td>58950.00</td>\n",
       "      <td>58972.70</td>\n",
       "      <td>13581.967591</td>\n",
       "      <td>0.01635</td>\n",
       "      <td>(bullish, 58065.92, 58950.0, 2064)</td>\n",
       "      <td>{'support': [], 'resistance': [(2043, 58367.0)]}</td>\n",
       "      <td>1</td>\n",
       "      <td>61680.0001</td>\n",
       "      <td>0.0</td>\n",
       "      <td>0.206090</td>\n",
       "    </tr>\n",
       "    <tr>\n",
       "      <th>2092</th>\n",
       "      <td>2021-04-11</td>\n",
       "      <td>59778.59</td>\n",
       "      <td>60658.89</td>\n",
       "      <td>59177.06</td>\n",
       "      <td>59985.26</td>\n",
       "      <td>7278.965167</td>\n",
       "      <td>0.01666</td>\n",
       "      <td>(bullish, 58869.69, 59177.06, 2092)</td>\n",
       "      <td>{'support': [(2050, 43016.0), (2075, 50305.0)]...</td>\n",
       "      <td>1</td>\n",
       "      <td>60658.8901</td>\n",
       "      <td>0.0</td>\n",
       "      <td>0.202088</td>\n",
       "    </tr>\n",
       "    <tr>\n",
       "      <th>2095</th>\n",
       "      <td>2021-04-14</td>\n",
       "      <td>63588.22</td>\n",
       "      <td>64899.00</td>\n",
       "      <td>61277.91</td>\n",
       "      <td>62971.80</td>\n",
       "      <td>22570.841134</td>\n",
       "      <td>0.01638</td>\n",
       "      <td>(bullish, 61199.0, 61277.91, 2095)</td>\n",
       "      <td>{'support': [(2050, 43016.0), (2075, 50305.0)]...</td>\n",
       "      <td>1</td>\n",
       "      <td>64899.0001</td>\n",
       "      <td>0.0</td>\n",
       "      <td>0.200516</td>\n",
       "    </tr>\n",
       "    <tr>\n",
       "      <th>2124</th>\n",
       "      <td>2021-05-13</td>\n",
       "      <td>49498.76</td>\n",
       "      <td>52500.00</td>\n",
       "      <td>46000.00</td>\n",
       "      <td>49690.11</td>\n",
       "      <td>42250.087408</td>\n",
       "      <td>0.01668</td>\n",
       "      <td>(bearish, 54511.48, 52500.0, 2124)</td>\n",
       "      <td>{'support': [(2075, 50305.0), (2106, 47044.01)...</td>\n",
       "      <td>-1</td>\n",
       "      <td>NaN</td>\n",
       "      <td>0.0</td>\n",
       "      <td>0.000000</td>\n",
       "    </tr>\n",
       "    <tr>\n",
       "      <th>2203</th>\n",
       "      <td>2021-07-31</td>\n",
       "      <td>42233.66</td>\n",
       "      <td>42414.61</td>\n",
       "      <td>41064.11</td>\n",
       "      <td>41495.01</td>\n",
       "      <td>9351.942886</td>\n",
       "      <td>0.01239</td>\n",
       "      <td>(bullish, 40644.85, 41064.11, 2203)</td>\n",
       "      <td>{'support': [(2164, 28800.0)], 'resistance': [...</td>\n",
       "      <td>1</td>\n",
       "      <td>42414.6101</td>\n",
       "      <td>0.0</td>\n",
       "      <td>0.204126</td>\n",
       "    </tr>\n",
       "    <tr>\n",
       "      <th>2271</th>\n",
       "      <td>2021-10-07</td>\n",
       "      <td>55346.95</td>\n",
       "      <td>55356.85</td>\n",
       "      <td>53379.00</td>\n",
       "      <td>53797.82</td>\n",
       "      <td>15820.834176</td>\n",
       "      <td>0.01571</td>\n",
       "      <td>(bullish, 51906.23, 53379.0, 2271)</td>\n",
       "      <td>{'support': [(2255, 39600.0)], 'resistance': [...</td>\n",
       "      <td>1</td>\n",
       "      <td>55356.8501</td>\n",
       "      <td>0.0</td>\n",
       "      <td>0.211349</td>\n",
       "    </tr>\n",
       "    <tr>\n",
       "      <th>2304</th>\n",
       "      <td>2021-11-09</td>\n",
       "      <td>67554.13</td>\n",
       "      <td>68568.85</td>\n",
       "      <td>66261.79</td>\n",
       "      <td>66944.66</td>\n",
       "      <td>14996.625088</td>\n",
       "      <td>0.01432</td>\n",
       "      <td>(bullish, 63327.96, 66261.79, 2304)</td>\n",
       "      <td>{'support': [(2255, 39600.0)], 'resistance': [...</td>\n",
       "      <td>1</td>\n",
       "      <td>68568.8501</td>\n",
       "      <td>0.0</td>\n",
       "      <td>0.218531</td>\n",
       "    </tr>\n",
       "    <tr>\n",
       "      <th>2364</th>\n",
       "      <td>2022-01-08</td>\n",
       "      <td>41564.57</td>\n",
       "      <td>42318.97</td>\n",
       "      <td>40505.30</td>\n",
       "      <td>41684.84</td>\n",
       "      <td>15454.113151</td>\n",
       "      <td>0.01771</td>\n",
       "      <td>(bearish, 42432.99, 42318.97, 2364)</td>\n",
       "      <td>{'support': [(2329, 42333.0)], 'resistance': []}</td>\n",
       "      <td>-1</td>\n",
       "      <td>NaN</td>\n",
       "      <td>0.0</td>\n",
       "      <td>0.000000</td>\n",
       "    </tr>\n",
       "    <tr>\n",
       "      <th>2443</th>\n",
       "      <td>2022-03-28</td>\n",
       "      <td>46850.01</td>\n",
       "      <td>48240.00</td>\n",
       "      <td>46662.28</td>\n",
       "      <td>47144.92</td>\n",
       "      <td>18787.663187</td>\n",
       "      <td>0.02477</td>\n",
       "      <td>(bullish, 44820.58, 46662.28, 2443)</td>\n",
       "      <td>{'support': [(2411, 34322.0)], 'resistance': [...</td>\n",
       "      <td>1</td>\n",
       "      <td>48240.0001</td>\n",
       "      <td>0.0</td>\n",
       "      <td>0.216436</td>\n",
       "    </tr>\n",
       "    <tr>\n",
       "      <th>2521</th>\n",
       "      <td>2022-06-14</td>\n",
       "      <td>22460.97</td>\n",
       "      <td>23299.22</td>\n",
       "      <td>20816.40</td>\n",
       "      <td>22120.25</td>\n",
       "      <td>47382.801355</td>\n",
       "      <td>0.03483</td>\n",
       "      <td>(bearish, 26532.95, 23299.22, 2521)</td>\n",
       "      <td>{'support': [(2488, 25338.53)], 'resistance': []}</td>\n",
       "      <td>-1</td>\n",
       "      <td>NaN</td>\n",
       "      <td>0.0</td>\n",
       "      <td>0.000000</td>\n",
       "    </tr>\n",
       "    <tr>\n",
       "      <th>2665</th>\n",
       "      <td>2022-11-05</td>\n",
       "      <td>21149.03</td>\n",
       "      <td>21478.80</td>\n",
       "      <td>21082.54</td>\n",
       "      <td>21300.45</td>\n",
       "      <td>14076.704878</td>\n",
       "      <td>0.04156</td>\n",
       "      <td>(bullish, 20390.82, 21082.54, 2665)</td>\n",
       "      <td>{'support': [(2620, 18153.13), (2642, 18131.0)...</td>\n",
       "      <td>1</td>\n",
       "      <td>21478.8001</td>\n",
       "      <td>0.0</td>\n",
       "      <td>0.213569</td>\n",
       "    </tr>\n",
       "    <tr>\n",
       "      <th>2734</th>\n",
       "      <td>2023-01-13</td>\n",
       "      <td>18847.77</td>\n",
       "      <td>20000.00</td>\n",
       "      <td>18714.80</td>\n",
       "      <td>19934.88</td>\n",
       "      <td>55049.622349</td>\n",
       "      <td>0.03511</td>\n",
       "      <td>(bullish, 17998.0, 18714.8, 2734)</td>\n",
       "      <td>{'support': [(2709, 16273.4)], 'resistance': [...</td>\n",
       "      <td>1</td>\n",
       "      <td>20000.0001</td>\n",
       "      <td>0.0</td>\n",
       "      <td>0.215931</td>\n",
       "    </tr>\n",
       "    <tr>\n",
       "      <th>2790</th>\n",
       "      <td>2023-03-10</td>\n",
       "      <td>20366.97</td>\n",
       "      <td>20369.78</td>\n",
       "      <td>19568.52</td>\n",
       "      <td>20230.08</td>\n",
       "      <td>32126.592075</td>\n",
       "      <td>0.03695</td>\n",
       "      <td>(bearish, 21580.84, 20369.78, 2790)</td>\n",
       "      <td>{'support': [(2765, 21366.45)], 'resistance': ...</td>\n",
       "      <td>-1</td>\n",
       "      <td>NaN</td>\n",
       "      <td>0.0</td>\n",
       "      <td>0.000000</td>\n",
       "    </tr>\n",
       "    <tr>\n",
       "      <th>2798</th>\n",
       "      <td>2023-03-18</td>\n",
       "      <td>27453.75</td>\n",
       "      <td>27780.00</td>\n",
       "      <td>26652.45</td>\n",
       "      <td>26980.35</td>\n",
       "      <td>18096.243722</td>\n",
       "      <td>0.03395</td>\n",
       "      <td>(bullish, 25235.28, 26652.45, 2798)</td>\n",
       "      <td>{'support': [(2765, 21366.45)], 'resistance': ...</td>\n",
       "      <td>1</td>\n",
       "      <td>27780.0001</td>\n",
       "      <td>0.0</td>\n",
       "      <td>0.222463</td>\n",
       "    </tr>\n",
       "    <tr>\n",
       "      <th>2866</th>\n",
       "      <td>2023-05-25</td>\n",
       "      <td>26321.42</td>\n",
       "      <td>26625.93</td>\n",
       "      <td>25864.35</td>\n",
       "      <td>26479.06</td>\n",
       "      <td>12094.457061</td>\n",
       "      <td>0.03814</td>\n",
       "      <td>(bearish, 26803.46, 26625.93, 2866)</td>\n",
       "      <td>{'support': [(2835, 26965.14)], 'resistance': ...</td>\n",
       "      <td>-1</td>\n",
       "      <td>NaN</td>\n",
       "      <td>0.0</td>\n",
       "      <td>0.000000</td>\n",
       "    </tr>\n",
       "    <tr>\n",
       "      <th>2894</th>\n",
       "      <td>2023-06-22</td>\n",
       "      <td>29999.85</td>\n",
       "      <td>30513.25</td>\n",
       "      <td>29539.57</td>\n",
       "      <td>29886.31</td>\n",
       "      <td>18457.667858</td>\n",
       "      <td>0.03799</td>\n",
       "      <td>(bullish, 28417.11, 29539.57, 2894)</td>\n",
       "      <td>{'support': [(2853, 25810.0)], 'resistance': [...</td>\n",
       "      <td>1</td>\n",
       "      <td>30513.2501</td>\n",
       "      <td>0.0</td>\n",
       "      <td>0.215800</td>\n",
       "    </tr>\n",
       "    <tr>\n",
       "      <th>2951</th>\n",
       "      <td>2023-08-18</td>\n",
       "      <td>26627.21</td>\n",
       "      <td>26834.37</td>\n",
       "      <td>25610.00</td>\n",
       "      <td>26048.89</td>\n",
       "      <td>21190.130415</td>\n",
       "      <td>0.04251</td>\n",
       "      <td>(bearish, 28690.37, 26834.37, 2951)</td>\n",
       "      <td>{'support': [(2934, 28477.0)], 'resistance': [...</td>\n",
       "      <td>-1</td>\n",
       "      <td>NaN</td>\n",
       "      <td>0.0</td>\n",
       "      <td>0.000000</td>\n",
       "    </tr>\n",
       "    <tr>\n",
       "      <th>3095</th>\n",
       "      <td>2024-01-09</td>\n",
       "      <td>46995.09</td>\n",
       "      <td>47901.00</td>\n",
       "      <td>44701.54</td>\n",
       "      <td>46124.08</td>\n",
       "      <td>26305.563660</td>\n",
       "      <td>0.04019</td>\n",
       "      <td>(bullish, 44510.01, 44701.54, 3095)</td>\n",
       "      <td>{'support': [], 'resistance': [(3060, 45000.0)]}</td>\n",
       "      <td>1</td>\n",
       "      <td>47901.0001</td>\n",
       "      <td>0.0</td>\n",
       "      <td>0.201721</td>\n",
       "    </tr>\n",
       "    <tr>\n",
       "      <th>3357</th>\n",
       "      <td>2024-09-27</td>\n",
       "      <td>65176.39</td>\n",
       "      <td>66550.00</td>\n",
       "      <td>64827.85</td>\n",
       "      <td>65789.00</td>\n",
       "      <td>9529.016881</td>\n",
       "      <td>0.03749</td>\n",
       "      <td>(bullish, 64811.0, 64827.85, 3357)</td>\n",
       "      <td>{'support': [(3336, 52530.0)], 'resistance': [...</td>\n",
       "      <td>1</td>\n",
       "      <td>66550.0001</td>\n",
       "      <td>0.0</td>\n",
       "      <td>0.200104</td>\n",
       "    </tr>\n",
       "    <tr>\n",
       "      <th>3509</th>\n",
       "      <td>2025-02-26</td>\n",
       "      <td>88583.17</td>\n",
       "      <td>89305.68</td>\n",
       "      <td>82111.12</td>\n",
       "      <td>84111.78</td>\n",
       "      <td>21568.554631</td>\n",
       "      <td>0.04249</td>\n",
       "      <td>(bearish, 91300.0, 89305.68, 3509)</td>\n",
       "      <td>{'support': [(3465, 89028.64), (3486, 91178.01...</td>\n",
       "      <td>-1</td>\n",
       "      <td>NaN</td>\n",
       "      <td>0.0</td>\n",
       "      <td>0.000000</td>\n",
       "    </tr>\n",
       "  </tbody>\n",
       "</table>\n",
       "</div>"
      ],
      "text/plain": [
       "           Date      Open      High       Low     Close        Volume  \\\n",
       "86   2015-10-14    250.98    255.00    250.25    253.27   7587.526674   \n",
       "271  2016-04-16    430.82    434.89    429.89    433.39   4133.985987   \n",
       "314  2016-05-29    523.35    549.99    491.01    525.22   9957.527243   \n",
       "379  2016-08-02    604.87    613.38    483.00    537.47  14839.346160   \n",
       "380  2016-08-03    538.80    576.00    519.30    573.36  20292.859717   \n",
       "450  2016-10-12    642.30    643.58    631.91    635.79   4334.738703   \n",
       "461  2016-10-23    653.03    655.80    645.33    651.04   3075.739567   \n",
       "727  2017-07-16   1964.33   2043.94   1758.20   1911.78  21740.892740   \n",
       "748  2017-08-06   3243.50   3278.42   3150.00   3222.22   8666.200782   \n",
       "816  2017-10-13   5440.00   5867.00   5390.00   5624.80  26597.975259   \n",
       "926  2018-01-31   9995.00  10299.95   9601.02  10099.99  19533.738097   \n",
       "1214 2018-11-15   5605.01   5645.00   5188.00   5579.52  21893.755916   \n",
       "1353 2019-04-03   4901.92   5345.00   4787.11   4975.97  39435.726506   \n",
       "1528 2019-09-25   8530.01   8743.86   8222.01   8438.35  23524.432630   \n",
       "1557 2019-10-24   7475.54   7509.99   7359.48   7430.87   7972.640830   \n",
       "1587 2019-11-23   7283.19   7361.41   7102.21   7329.29   7728.423990   \n",
       "1740 2020-04-24   7491.50   7612.24   7390.00   7514.64  13764.566954   \n",
       "1910 2020-10-11  11299.52  11444.25  11276.28  11374.01   5163.464757   \n",
       "2031 2021-02-09  46453.66  48200.00  45020.00  46514.73  36418.793651   \n",
       "2064 2021-03-14  61181.38  61680.00  58950.00  58972.70  13581.967591   \n",
       "2092 2021-04-11  59778.59  60658.89  59177.06  59985.26   7278.965167   \n",
       "2095 2021-04-14  63588.22  64899.00  61277.91  62971.80  22570.841134   \n",
       "2124 2021-05-13  49498.76  52500.00  46000.00  49690.11  42250.087408   \n",
       "2203 2021-07-31  42233.66  42414.61  41064.11  41495.01   9351.942886   \n",
       "2271 2021-10-07  55346.95  55356.85  53379.00  53797.82  15820.834176   \n",
       "2304 2021-11-09  67554.13  68568.85  66261.79  66944.66  14996.625088   \n",
       "2364 2022-01-08  41564.57  42318.97  40505.30  41684.84  15454.113151   \n",
       "2443 2022-03-28  46850.01  48240.00  46662.28  47144.92  18787.663187   \n",
       "2521 2022-06-14  22460.97  23299.22  20816.40  22120.25  47382.801355   \n",
       "2665 2022-11-05  21149.03  21478.80  21082.54  21300.45  14076.704878   \n",
       "2734 2023-01-13  18847.77  20000.00  18714.80  19934.88  55049.622349   \n",
       "2790 2023-03-10  20366.97  20369.78  19568.52  20230.08  32126.592075   \n",
       "2798 2023-03-18  27453.75  27780.00  26652.45  26980.35  18096.243722   \n",
       "2866 2023-05-25  26321.42  26625.93  25864.35  26479.06  12094.457061   \n",
       "2894 2023-06-22  29999.85  30513.25  29539.57  29886.31  18457.667858   \n",
       "2951 2023-08-18  26627.21  26834.37  25610.00  26048.89  21190.130415   \n",
       "3095 2024-01-09  46995.09  47901.00  44701.54  46124.08  26305.563660   \n",
       "3357 2024-09-27  65176.39  66550.00  64827.85  65789.00   9529.016881   \n",
       "3509 2025-02-26  88583.17  89305.68  82111.12  84111.78  21568.554631   \n",
       "\n",
       "      Risk Free Rate                                  FVG  \\\n",
       "86           0.01981        (bullish, 249.14, 250.25, 86)   \n",
       "271          0.01752        (bullish, 428.0, 429.89, 271)   \n",
       "314          0.01851       (bullish, 476.75, 491.01, 314)   \n",
       "379          0.01537       (bearish, 621.37, 613.38, 379)   \n",
       "380          0.01542         (bearish, 599.0, 576.0, 380)   \n",
       "450          0.01778        (bullish, 619.2, 631.91, 450)   \n",
       "461          0.01740       (bullish, 633.41, 645.33, 461)   \n",
       "727          0.02319      (bearish, 2150.0, 2043.94, 727)   \n",
       "748          0.02267      (bullish, 2877.79, 3150.0, 748)   \n",
       "816          0.02280      (bullish, 4869.97, 5390.0, 816)   \n",
       "926          0.02720    (bearish, 10840.0, 10299.95, 926)   \n",
       "1214         0.03118      (bearish, 6252.5, 5645.0, 1214)   \n",
       "1353         0.02517     (bullish, 4149.5, 4787.11, 1353)   \n",
       "1528         0.01732    (bearish, 9609.37, 8743.86, 1528)   \n",
       "1557         0.01766     (bearish, 7998.9, 7509.99, 1557)   \n",
       "1587         0.01774     (bearish, 7374.5, 7361.41, 1587)   \n",
       "1740         0.00596     (bullish, 7167.37, 7390.0, 1740)   \n",
       "1910         0.00775  (bullish, 11111.11, 11276.28, 1910)   \n",
       "2031         0.01157   (bullish, 39737.83, 45020.0, 2031)   \n",
       "2064         0.01635   (bullish, 58065.92, 58950.0, 2064)   \n",
       "2092         0.01666  (bullish, 58869.69, 59177.06, 2092)   \n",
       "2095         0.01638   (bullish, 61199.0, 61277.91, 2095)   \n",
       "2124         0.01668   (bearish, 54511.48, 52500.0, 2124)   \n",
       "2203         0.01239  (bullish, 40644.85, 41064.11, 2203)   \n",
       "2271         0.01571   (bullish, 51906.23, 53379.0, 2271)   \n",
       "2304         0.01432  (bullish, 63327.96, 66261.79, 2304)   \n",
       "2364         0.01771  (bearish, 42432.99, 42318.97, 2364)   \n",
       "2443         0.02477  (bullish, 44820.58, 46662.28, 2443)   \n",
       "2521         0.03483  (bearish, 26532.95, 23299.22, 2521)   \n",
       "2665         0.04156  (bullish, 20390.82, 21082.54, 2665)   \n",
       "2734         0.03511    (bullish, 17998.0, 18714.8, 2734)   \n",
       "2790         0.03695  (bearish, 21580.84, 20369.78, 2790)   \n",
       "2798         0.03395  (bullish, 25235.28, 26652.45, 2798)   \n",
       "2866         0.03814  (bearish, 26803.46, 26625.93, 2866)   \n",
       "2894         0.03799  (bullish, 28417.11, 29539.57, 2894)   \n",
       "2951         0.04251  (bearish, 28690.37, 26834.37, 2951)   \n",
       "3095         0.04019  (bullish, 44510.01, 44701.54, 3095)   \n",
       "3357         0.03749   (bullish, 64811.0, 64827.85, 3357)   \n",
       "3509         0.04249   (bearish, 91300.0, 89305.68, 3509)   \n",
       "\n",
       "                                             key_levels  break_signal  \\\n",
       "86    {'support': [(36, 198.02), (64, 224.45)], 'res...             1   \n",
       "271   {'support': [(229, 381.09)], 'resistance': [(2...             1   \n",
       "314      {'support': [], 'resistance': [(280, 472.38)]}             1   \n",
       "379   {'support': [(339, 544.13), (355, 608.0)], 're...            -1   \n",
       "380   {'support': [(339, 544.13), (355, 608.0)], 're...            -1   \n",
       "450   {'support': [(409, 568.12)], 'resistance': [(4...             1   \n",
       "461       {'support': [], 'resistance': [(416, 631.3)]}             1   \n",
       "727   {'support': [(696, 2050.0)], 'resistance': [(6...            -1   \n",
       "748   {'support': [(727, 1758.2)], 'resistance': [(7...             1   \n",
       "816   {'support': [(788, 2975.01)], 'resistance': [(...             1   \n",
       "926   {'support': [(886, 10400.0)], 'resistance': [(...            -1   \n",
       "1214  {'support': [(1179, 6033.34)], 'resistance': [...            -1   \n",
       "1353   {'support': [], 'resistance': [(1315, 4188.79)]}             1   \n",
       "1528  {'support': [(1501, 9321.73)], 'resistance': [...            -1   \n",
       "1557  {'support': [(1533, 7701.0)], 'resistance': [(...            -1   \n",
       "1587  {'support': [(1556, 7296.44)], 'resistance': [...            -1   \n",
       "1740  {'support': [(1698, 3858.0)], 'resistance': [(...             1   \n",
       "1910  {'support': [(1874, 9813.0)], 'resistance': [(...             1   \n",
       "2031  {'support': [(2013, 28732.0)], 'resistance': [...             1   \n",
       "2064   {'support': [], 'resistance': [(2043, 58367.0)]}             1   \n",
       "2092  {'support': [(2050, 43016.0), (2075, 50305.0)]...             1   \n",
       "2095  {'support': [(2050, 43016.0), (2075, 50305.0)]...             1   \n",
       "2124  {'support': [(2075, 50305.0), (2106, 47044.01)...            -1   \n",
       "2203  {'support': [(2164, 28800.0)], 'resistance': [...             1   \n",
       "2271  {'support': [(2255, 39600.0)], 'resistance': [...             1   \n",
       "2304  {'support': [(2255, 39600.0)], 'resistance': [...             1   \n",
       "2364   {'support': [(2329, 42333.0)], 'resistance': []}            -1   \n",
       "2443  {'support': [(2411, 34322.0)], 'resistance': [...             1   \n",
       "2521  {'support': [(2488, 25338.53)], 'resistance': []}            -1   \n",
       "2665  {'support': [(2620, 18153.13), (2642, 18131.0)...             1   \n",
       "2734  {'support': [(2709, 16273.4)], 'resistance': [...             1   \n",
       "2790  {'support': [(2765, 21366.45)], 'resistance': ...            -1   \n",
       "2798  {'support': [(2765, 21366.45)], 'resistance': ...             1   \n",
       "2866  {'support': [(2835, 26965.14)], 'resistance': ...            -1   \n",
       "2894  {'support': [(2853, 25810.0)], 'resistance': [...             1   \n",
       "2951  {'support': [(2934, 28477.0)], 'resistance': [...            -1   \n",
       "3095   {'support': [], 'resistance': [(3060, 45000.0)]}             1   \n",
       "3357  {'support': [(3336, 52530.0)], 'resistance': [...             1   \n",
       "3509  {'support': [(3465, 89028.64), (3486, 91178.01...            -1   \n",
       "\n",
       "        pointpos  buy_pct  sell_pct  \n",
       "86      255.0001      0.0  0.201782  \n",
       "271     434.8901      0.0  0.201766  \n",
       "314     549.9901      0.0  0.211964  \n",
       "379          NaN      0.0  0.000000  \n",
       "380          NaN      0.0  0.000000  \n",
       "450     643.5801      0.0  0.208211  \n",
       "461     655.8001      0.0  0.207528  \n",
       "727          NaN      0.0  0.000000  \n",
       "748    3278.4201      0.0  0.237836  \n",
       "816    5867.0001      0.0  0.242713  \n",
       "926          NaN      0.0  0.000000  \n",
       "1214         NaN      0.0  0.000000  \n",
       "1353   5345.0001      0.0  0.261464  \n",
       "1528         NaN      0.0  0.000000  \n",
       "1557         NaN      0.0  0.000000  \n",
       "1587         NaN      0.0  0.000000  \n",
       "1740   7612.2401      0.0  0.212425  \n",
       "1910  11444.2501      0.0  0.205946  \n",
       "2031  48200.0001      0.0  0.253170  \n",
       "2064  61680.0001      0.0  0.206090  \n",
       "2092  60658.8901      0.0  0.202088  \n",
       "2095  64899.0001      0.0  0.200516  \n",
       "2124         NaN      0.0  0.000000  \n",
       "2203  42414.6101      0.0  0.204126  \n",
       "2271  55356.8501      0.0  0.211349  \n",
       "2304  68568.8501      0.0  0.218531  \n",
       "2364         NaN      0.0  0.000000  \n",
       "2443  48240.0001      0.0  0.216436  \n",
       "2521         NaN      0.0  0.000000  \n",
       "2665  21478.8001      0.0  0.213569  \n",
       "2734  20000.0001      0.0  0.215931  \n",
       "2790         NaN      0.0  0.000000  \n",
       "2798  27780.0001      0.0  0.222463  \n",
       "2866         NaN      0.0  0.000000  \n",
       "2894  30513.2501      0.0  0.215800  \n",
       "2951         NaN      0.0  0.000000  \n",
       "3095  47901.0001      0.0  0.201721  \n",
       "3357  66550.0001      0.0  0.200104  \n",
       "3509         NaN      0.0  0.000000  "
      ]
     },
     "execution_count": 25,
     "metadata": {},
     "output_type": "execute_result"
    }
   ],
   "source": [
    "def detect_break_signal(df):\n",
    "    \"\"\"\n",
    "    Detects if the current candle carries an FVG signal and,\n",
    "    at the same time, the previous candle has crossed a key level\n",
    "    in the expected direction (up for bullish, down for bearish).\n",
    "\n",
    "    - If FVG is bullish and previous candle crosses ABOVE a level -> signal = 2\n",
    "    - If FVG is bearish and previous candle crosses BELOW a level -> signal = 1\n",
    "    - Otherwise -> signal = 0\n",
    "\n",
    "    The 'FVG' column is expected to have tuples like:\n",
    "        (fvg_type, lower_price, upper_price, trigger_index)\n",
    "      where fvg_type is either \"bullish\" or \"bearish\".\n",
    "\n",
    "    The 'key_levels' column is expected to be a dictionary with:\n",
    "        {\n",
    "            'support': [(level_candle_idx, level_price), ...],\n",
    "            'resistance': [(level_candle_idx, level_price), ...]\n",
    "        }\n",
    "    \"\"\"\n",
    "\n",
    "    # Initialize the new signal column to 0\n",
    "    df[\"break_signal\"] = 0\n",
    "\n",
    "    # We start at 1 because we compare candle i with its previous candle (i-1)\n",
    "    for i in range(1, len(df)):\n",
    "        fvg = df.loc[i, \"FVG\"]\n",
    "        key_levels = df.loc[i, \"key_levels\"]\n",
    "\n",
    "        # We only proceed if there's an FVG tuple and some key_levels dict\n",
    "        if isinstance(fvg, tuple) and isinstance(key_levels, dict):\n",
    "            fvg_type = fvg[0]  # \"bullish\" or \"bearish\"\n",
    "\n",
    "            # Previous candle's OHLC\n",
    "            prev_open = df.loc[i-1, \"Open\"]\n",
    "            prev_close = df.loc[i-1, \"Close\"]\n",
    "\n",
    "            # -----------------------\n",
    "            # 1) Bullish FVG check\n",
    "            # -----------------------\n",
    "            if fvg_type == \"bullish\":\n",
    "                # Typically you'd check crossing a \"resistance\" level\n",
    "                # crossing means the previous candle goes from below -> above\n",
    "                resistance_levels = key_levels.get(\"resistance\", [])\n",
    "                \n",
    "                for (lvl_idx, lvl_price) in resistance_levels:\n",
    "                    # Condition: previously below, ended above\n",
    "                    # simplest check is: prev_open < lvl_price < prev_close\n",
    "                    if prev_open < lvl_price and prev_close > lvl_price:\n",
    "                        df.loc[i, \"break_signal\"] = 1\n",
    "                        break  # No need to check more levels\n",
    "\n",
    "            # -----------------------\n",
    "            # 2) Bearish FVG check\n",
    "            # -----------------------\n",
    "            elif fvg_type == \"bearish\":\n",
    "                # Typically you'd check crossing a \"support\" level\n",
    "                support_levels = key_levels.get(\"support\", [])\n",
    "                \n",
    "                for (lvl_idx, lvl_price) in support_levels:\n",
    "                    # Condition: previously above, ended below\n",
    "                    # simplest check is: prev_open > lvl_price and prev_close < lvl_price\n",
    "                    if prev_open > lvl_price and prev_close < lvl_price:\n",
    "                        df.loc[i, \"break_signal\"] = -1\n",
    "                        break  # No need to check more levels\n",
    "\n",
    "    return df\n",
    "\n",
    "btc = detect_break_signal(btc)\n",
    "btc[btc[\"break_signal\"]!=0]\n",
    "# btc.iloc[2303:2305]"
   ]
  },
  {
   "cell_type": "markdown",
   "metadata": {},
   "source": [
    "# Plot the Point position of the signal"
   ]
  },
  {
   "cell_type": "code",
   "execution_count": 27,
   "metadata": {},
   "outputs": [
    {
     "data": {
      "application/vnd.plotly.v1+json": {
       "config": {
        "plotlyServerURL": "https://plot.ly"
       },
       "data": [
        {
         "close": {
          "bdata": "16NwPbL250BI4XoU3uXnQPYoXI9S1OdAhetRuDby5kAAAAAAEAHnQFK4HoX72OdAcT0K1+sP6EAAAAAAIG3oQMP1KFzfYuhACtejcKVJ6UC4HoXrWbvpQAAAAADQ5eZAUrgehYt95kAAAAAAAKjmQGZmZmZu5uVA9ihcj3oO5kDD9ShcB3nmQKRwPQp38uVApHA9CucC50BxPQrXg4LnQOxRuB4lUedAAAAAAPAY50C4HoXrUZfnQArXo3D9EudApHA9Cp8A5UAzMzMz8+HjQDMzMzPjRuVAFK5H4TLs5UAK16NwHezkQB+F61Ew2uRAPQrXo0AV5UAfhetReJfkQNejcD1CCORA7FG4HkVG5EApXI/CDWblQB+F61G4hOdASOF6FDZF50DhehSuP43nQHsUrkexC+hA4XoUrr8k6UDD9ShcbwXrQNejcD26ROpA16NwPXpZ6kB7FK5HSdbqQFyPwvVQtOpA",
          "dtype": "f8"
         },
         "high": {
          "bdata": "cT0K1yME6ED2KFyPuhPoQDMzMzNjQOhAH4XrUVDh50ApXI/CdZDnQAAAAACg/OdASOF6FAab6EBI4XoUDu/oQAAAAADYr+hA9ihcj2JY6UBcj8L1QMjpQIXrUbge2ulApHA9Cq8i50AAAAAAACXnQB+F61EY+OZASOF6FL505kDD9Shc36/mQAAAAACA5uZACtejcF0V50AAAAAAYKvnQOF6FK5/rudArkfhehSG50BxPQrXM9fnQEjhehRmn+dACtejcN0f50CPwvUo/E7lQEjhehRugOVAAAAAAAD55UAAAAAAABLmQB+F61HY/uRAAAAAACB05UCF61G43qnlQAAAAACA4+RA4XoUrt/R5EAK16NwxYnlQAAAAACArudA9ihcj+qc50AAAAAAgBLoQAAAAAAgLOhAw/UoXEdY6UBSuB6FoznrQDMzMzObB+tAAAAAACBm60AAAAAAgBnrQOF6FK4nnOtA",
          "dtype": "f8"
         },
         "low": {
          "bdata": "H4XrUSCj5kAAAAAAQJ7nQAAAAAAgV+dAAAAAAEDi5kApXI/Cnc7mQHE9CtczueZAw/UoXJe950DsUbgetZvnQAAAAAAAH+hAAAAAAIAr6ED2KFyPgunoQD0K16PY6eRA4XoUru+w5UDXo3A9+jjmQMP1KFyPjeVAexSuR0nX5UC4HoXrSdrlQAAAAAAgOeVACtejcP3Q5UAAAAAAIM7mQNejcD2a9eZACtejcBXU5kAAAAAAQPnmQHE9Ctdb4OZAAAAAAIDA5EAAAAAAAFbjQArXo3BNz+NAw/UoXBcL5UB7FK5Had3jQAAAAABgWeRAAAAAAGDs40AAAAAA4I/kQGZmZmY2+ONAcT0K18Pl40AK16NwNTjkQEjhehTuIuVAAAAAAGAr50BSuB6FAwLnQGZmZmaW6OZAKVyPwiX050AfhetRAJ7oQAAAAABgEOpA7FG4Hk0w6kAAAAAAYDXqQGZmZmYebOpA",
          "dtype": "f8"
         },
         "name": "Candles",
         "open": {
          "bdata": "pHA9Cm/g5kD2KFyPIvfnQK5H4Xrc5edA9ihcj1LU50CamZmZmfLmQPYoXI/KAOdAPQrXo0jY50CPwvUo7A/oQAAAAAAgbehArkfhehxj6EAK16NwpUnpQJqZmZlZu+lA4XoUrs/l5kBI4XoUfn3mQB+F61GIp+ZAcT0K10vm5UDsUbgetQ7mQJqZmZl5eeZAw/UoXCfz5UC4HoXr+QLnQFyPwvUAgudAzczMzCRR50BxPQrXWxnnQFK4HoW7ludAhetRuLYS50BI4XoU9v/kQLgehesZ5ONASOF6FOZG5UCamZmZEezlQEjhehQO7ORAH4XrUTDa5EAK16NwhRTlQLgehevJluRASOF6FMYI5EBSuB6F40XkQK5H4XqcZuVAH4XrUbiE50DhehSu90XnQOF6FK4/jedAj8L1KIQL6EA9CtejeCXpQGZmZmZeButAhetRuK5F6kApXI/CpVnqQHsUrkdp1upA",
          "dtype": "f8"
         },
         "type": "candlestick",
         "x": {
          "bdata": "tgi3CLgIuQi6CLsIvAi9CL4IvwjACMEIwgjDCMQIxQjGCMcIyAjJCMoIywjMCM0IzgjPCNAI0QjSCNMI1AjVCNYI1wjYCNkI2gjbCNwI3QjeCN8I4AjhCOII",
          "dtype": "i2"
         }
        },
        {
         "marker": {
          "color": "MediumPurple",
          "size": 8
         },
         "mode": "markers",
         "name": "pivot",
         "type": "scatter",
         "x": {
          "bdata": "tgi3CLgIuQi6CLsIvAi9CL4IvwjACMEIwgjDCMQIxQjGCMcIyAjJCMoIywjMCM0IzgjPCNAI0QjSCNMI1AjVCNYI1wjYCNkI2gjbCNwI3QjeCN8I4AjhCA==",
          "dtype": "i2"
         },
         "y": {
          "bdata": "AAAAAAAA+H8AAAAAAAD4fwAAAAAAAPh/AAAAAAAA+H8AAAAAAAD4fwAAAAAAAPh/AAAAAAAA+H8AAAAAAAD4fwAAAAAAAPh/AAAAAAAA+H8AAAAAAAD4fwAAAAAAAPh/AAAAAAAA+H8AAAAAAAD4fwAAAAAAAPh/AAAAAAAA+H8AAAAAAAD4fwAAAAAAAPh/AAAAAAAA+H8AAAAAAAD4fwAAAAAAAPh/AAAAAAAA+H8AAAAAAAD4fwAAAAAAAPh/AAAAAAAA+H8AAAAAAAD4fwAAAAAAAPh/AAAAAAAA+H8AAAAAAAD4fwAAAAAAAPh/AAAAAAAA+H8AAAAAAAD4fwAAAAAAAPh/AAAAAAAA+H8AAAAAAAD4fwAAAAAAAPh/AAAAAAAA+H8AAAAAAAD4fwAAAAAAAPh/AAAAAAAA+H8AAAAAAAD4f0rqBDSbB+tAAAAAAAAA+H8AAAAAAAD4fw==",
          "dtype": "f8"
         }
        }
       ],
       "layout": {
        "height": 800,
        "paper_bgcolor": "black",
        "plot_bgcolor": "black",
        "shapes": [
         {
          "fillcolor": "rgba(0, 255, 0, 0.3)",
          "layer": "below",
          "line": {
           "width": 0
          },
          "opacity": 0.4,
          "type": "rect",
          "x0": 2236,
          "x1": 2241,
          "y0": 48259.68,
          "y1": 48620.73
         },
         {
          "fillcolor": "rgba(0, 255, 0, 0.3)",
          "layer": "below",
          "line": {
           "width": 0
          },
          "opacity": 0.4,
          "type": "rect",
          "x0": 2240,
          "x1": 2245,
          "y0": 50558.75,
          "y1": 51020.08
         },
         {
          "fillcolor": "rgba(255, 0, 0, 0.3)",
          "layer": "below",
          "line": {
           "width": 0
          },
          "opacity": 0.4,
          "type": "rect",
          "x0": 2242,
          "x1": 2247,
          "y0": 51020.08,
          "y1": 47381.47
         },
         {
          "fillcolor": "rgba(255, 0, 0, 0.3)",
          "layer": "below",
          "line": {
           "width": 0
          },
          "opacity": 0.4,
          "type": "rect",
          "x0": 2255,
          "x1": 2260,
          "y0": 46850.87,
          "y1": 43639.88
         },
         {
          "fillcolor": "rgba(255, 0, 0, 0.3)",
          "layer": "below",
          "line": {
           "width": 0
          },
          "opacity": 0.4,
          "type": "rect",
          "x0": 2259,
          "x1": 2264,
          "y0": 43096.73,
          "y1": 42998.76
         },
         {
          "fillcolor": "rgba(0, 255, 0, 0.3)",
          "layer": "below",
          "line": {
           "width": 0
          },
          "opacity": 0.4,
          "type": "rect",
          "x0": 2265,
          "x1": 2270,
          "y0": 42638.99,
          "y1": 43287.44
         },
         {
          "fillcolor": "rgba(0, 255, 0, 0.3)",
          "layer": "below",
          "line": {
           "width": 0
          },
          "opacity": 0.4,
          "type": "rect",
          "x0": 2266,
          "x1": 2271,
          "y0": 44110.17,
          "y1": 47451
         },
         {
          "fillcolor": "rgba(0, 255, 0, 0.3)",
          "layer": "below",
          "line": {
           "width": 0
          },
          "opacity": 0.4,
          "type": "rect",
          "x0": 2270,
          "x1": 2275,
          "y0": 49505,
          "y1": 50416.01
         },
         {
          "fillcolor": "rgba(0, 255, 0, 0.3)",
          "layer": "below",
          "line": {
           "width": 0
          },
          "opacity": 0.4,
          "type": "rect",
          "x0": 2271,
          "x1": 2276,
          "y0": 51906.23,
          "y1": 53379
         },
         {
          "layer": "below",
          "line": {
           "color": "orange",
           "width": 2
          },
          "type": "line",
          "x0": 2241,
          "x1": 2246,
          "y0": 52944.96,
          "y1": 52944.96
         },
         {
          "layer": "below",
          "line": {
           "color": "orange",
           "width": 2
          },
          "type": "line",
          "x0": 2241,
          "x1": 2246,
          "y0": 52944.96,
          "y1": 52944.96
         },
         {
          "layer": "below",
          "line": {
           "color": "orange",
           "width": 2
          },
          "type": "line",
          "x0": 2241,
          "x1": 2246,
          "y0": 52944.96,
          "y1": 52944.96
         },
         {
          "layer": "below",
          "line": {
           "color": "orange",
           "width": 2
          },
          "type": "line",
          "x0": 2241,
          "x1": 2246,
          "y0": 52944.96,
          "y1": 52944.96
         },
         {
          "layer": "below",
          "line": {
           "color": "orange",
           "width": 2
          },
          "type": "line",
          "x0": 2241,
          "x1": 2246,
          "y0": 52944.96,
          "y1": 52944.96
         },
         {
          "layer": "below",
          "line": {
           "color": "orange",
           "width": 2
          },
          "type": "line",
          "x0": 2241,
          "x1": 2246,
          "y0": 52944.96,
          "y1": 52944.96
         },
         {
          "layer": "below",
          "line": {
           "color": "orange",
           "width": 2
          },
          "type": "line",
          "x0": 2241,
          "x1": 2246,
          "y0": 52944.96,
          "y1": 52944.96
         },
         {
          "layer": "below",
          "line": {
           "color": "orange",
           "width": 2
          },
          "type": "line",
          "x0": 2241,
          "x1": 2246,
          "y0": 52944.96,
          "y1": 52944.96
         },
         {
          "layer": "below",
          "line": {
           "color": "orange",
           "width": 2
          },
          "type": "line",
          "x0": 2241,
          "x1": 2246,
          "y0": 52944.96,
          "y1": 52944.96
         },
         {
          "layer": "below",
          "line": {
           "color": "orange",
           "width": 2
          },
          "type": "line",
          "x0": 2241,
          "x1": 2246,
          "y0": 52944.96,
          "y1": 52944.96
         },
         {
          "layer": "below",
          "line": {
           "color": "orange",
           "width": 2
          },
          "type": "line",
          "x0": 2241,
          "x1": 2246,
          "y0": 52944.96,
          "y1": 52944.96
         },
         {
          "layer": "below",
          "line": {
           "color": "orange",
           "width": 2
          },
          "type": "line",
          "x0": 2241,
          "x1": 2246,
          "y0": 52944.96,
          "y1": 52944.96
         },
         {
          "layer": "below",
          "line": {
           "color": "orange",
           "width": 2
          },
          "type": "line",
          "x0": 2241,
          "x1": 2246,
          "y0": 52944.96,
          "y1": 52944.96
         },
         {
          "layer": "below",
          "line": {
           "color": "orange",
           "width": 2
          },
          "type": "line",
          "x0": 2241,
          "x1": 2246,
          "y0": 52944.96,
          "y1": 52944.96
         },
         {
          "layer": "below",
          "line": {
           "color": "blue",
           "width": 2
          },
          "type": "line",
          "x0": 2255,
          "x1": 2260,
          "y0": 39600,
          "y1": 39600
         },
         {
          "layer": "below",
          "line": {
           "color": "orange",
           "width": 2
          },
          "type": "line",
          "x0": 2241,
          "x1": 2246,
          "y0": 52944.96,
          "y1": 52944.96
         },
         {
          "layer": "below",
          "line": {
           "color": "blue",
           "width": 2
          },
          "type": "line",
          "x0": 2255,
          "x1": 2260,
          "y0": 39600,
          "y1": 39600
         },
         {
          "layer": "below",
          "line": {
           "color": "orange",
           "width": 2
          },
          "type": "line",
          "x0": 2241,
          "x1": 2246,
          "y0": 52944.96,
          "y1": 52944.96
         },
         {
          "layer": "below",
          "line": {
           "color": "blue",
           "width": 2
          },
          "type": "line",
          "x0": 2255,
          "x1": 2260,
          "y0": 39600,
          "y1": 39600
         },
         {
          "layer": "below",
          "line": {
           "color": "orange",
           "width": 2
          },
          "type": "line",
          "x0": 2241,
          "x1": 2246,
          "y0": 52944.96,
          "y1": 52944.96
         },
         {
          "layer": "below",
          "line": {
           "color": "blue",
           "width": 2
          },
          "type": "line",
          "x0": 2255,
          "x1": 2260,
          "y0": 39600,
          "y1": 39600
         },
         {
          "layer": "below",
          "line": {
           "color": "orange",
           "width": 2
          },
          "type": "line",
          "x0": 2241,
          "x1": 2246,
          "y0": 52944.96,
          "y1": 52944.96
         }
        ],
        "template": {
         "data": {
          "bar": [
           {
            "error_x": {
             "color": "#2a3f5f"
            },
            "error_y": {
             "color": "#2a3f5f"
            },
            "marker": {
             "line": {
              "color": "#E5ECF6",
              "width": 0.5
             },
             "pattern": {
              "fillmode": "overlay",
              "size": 10,
              "solidity": 0.2
             }
            },
            "type": "bar"
           }
          ],
          "barpolar": [
           {
            "marker": {
             "line": {
              "color": "#E5ECF6",
              "width": 0.5
             },
             "pattern": {
              "fillmode": "overlay",
              "size": 10,
              "solidity": 0.2
             }
            },
            "type": "barpolar"
           }
          ],
          "carpet": [
           {
            "aaxis": {
             "endlinecolor": "#2a3f5f",
             "gridcolor": "white",
             "linecolor": "white",
             "minorgridcolor": "white",
             "startlinecolor": "#2a3f5f"
            },
            "baxis": {
             "endlinecolor": "#2a3f5f",
             "gridcolor": "white",
             "linecolor": "white",
             "minorgridcolor": "white",
             "startlinecolor": "#2a3f5f"
            },
            "type": "carpet"
           }
          ],
          "choropleth": [
           {
            "colorbar": {
             "outlinewidth": 0,
             "ticks": ""
            },
            "type": "choropleth"
           }
          ],
          "contour": [
           {
            "colorbar": {
             "outlinewidth": 0,
             "ticks": ""
            },
            "colorscale": [
             [
              0,
              "#0d0887"
             ],
             [
              0.1111111111111111,
              "#46039f"
             ],
             [
              0.2222222222222222,
              "#7201a8"
             ],
             [
              0.3333333333333333,
              "#9c179e"
             ],
             [
              0.4444444444444444,
              "#bd3786"
             ],
             [
              0.5555555555555556,
              "#d8576b"
             ],
             [
              0.6666666666666666,
              "#ed7953"
             ],
             [
              0.7777777777777778,
              "#fb9f3a"
             ],
             [
              0.8888888888888888,
              "#fdca26"
             ],
             [
              1,
              "#f0f921"
             ]
            ],
            "type": "contour"
           }
          ],
          "contourcarpet": [
           {
            "colorbar": {
             "outlinewidth": 0,
             "ticks": ""
            },
            "type": "contourcarpet"
           }
          ],
          "heatmap": [
           {
            "colorbar": {
             "outlinewidth": 0,
             "ticks": ""
            },
            "colorscale": [
             [
              0,
              "#0d0887"
             ],
             [
              0.1111111111111111,
              "#46039f"
             ],
             [
              0.2222222222222222,
              "#7201a8"
             ],
             [
              0.3333333333333333,
              "#9c179e"
             ],
             [
              0.4444444444444444,
              "#bd3786"
             ],
             [
              0.5555555555555556,
              "#d8576b"
             ],
             [
              0.6666666666666666,
              "#ed7953"
             ],
             [
              0.7777777777777778,
              "#fb9f3a"
             ],
             [
              0.8888888888888888,
              "#fdca26"
             ],
             [
              1,
              "#f0f921"
             ]
            ],
            "type": "heatmap"
           }
          ],
          "histogram": [
           {
            "marker": {
             "pattern": {
              "fillmode": "overlay",
              "size": 10,
              "solidity": 0.2
             }
            },
            "type": "histogram"
           }
          ],
          "histogram2d": [
           {
            "colorbar": {
             "outlinewidth": 0,
             "ticks": ""
            },
            "colorscale": [
             [
              0,
              "#0d0887"
             ],
             [
              0.1111111111111111,
              "#46039f"
             ],
             [
              0.2222222222222222,
              "#7201a8"
             ],
             [
              0.3333333333333333,
              "#9c179e"
             ],
             [
              0.4444444444444444,
              "#bd3786"
             ],
             [
              0.5555555555555556,
              "#d8576b"
             ],
             [
              0.6666666666666666,
              "#ed7953"
             ],
             [
              0.7777777777777778,
              "#fb9f3a"
             ],
             [
              0.8888888888888888,
              "#fdca26"
             ],
             [
              1,
              "#f0f921"
             ]
            ],
            "type": "histogram2d"
           }
          ],
          "histogram2dcontour": [
           {
            "colorbar": {
             "outlinewidth": 0,
             "ticks": ""
            },
            "colorscale": [
             [
              0,
              "#0d0887"
             ],
             [
              0.1111111111111111,
              "#46039f"
             ],
             [
              0.2222222222222222,
              "#7201a8"
             ],
             [
              0.3333333333333333,
              "#9c179e"
             ],
             [
              0.4444444444444444,
              "#bd3786"
             ],
             [
              0.5555555555555556,
              "#d8576b"
             ],
             [
              0.6666666666666666,
              "#ed7953"
             ],
             [
              0.7777777777777778,
              "#fb9f3a"
             ],
             [
              0.8888888888888888,
              "#fdca26"
             ],
             [
              1,
              "#f0f921"
             ]
            ],
            "type": "histogram2dcontour"
           }
          ],
          "mesh3d": [
           {
            "colorbar": {
             "outlinewidth": 0,
             "ticks": ""
            },
            "type": "mesh3d"
           }
          ],
          "parcoords": [
           {
            "line": {
             "colorbar": {
              "outlinewidth": 0,
              "ticks": ""
             }
            },
            "type": "parcoords"
           }
          ],
          "pie": [
           {
            "automargin": true,
            "type": "pie"
           }
          ],
          "scatter": [
           {
            "fillpattern": {
             "fillmode": "overlay",
             "size": 10,
             "solidity": 0.2
            },
            "type": "scatter"
           }
          ],
          "scatter3d": [
           {
            "line": {
             "colorbar": {
              "outlinewidth": 0,
              "ticks": ""
             }
            },
            "marker": {
             "colorbar": {
              "outlinewidth": 0,
              "ticks": ""
             }
            },
            "type": "scatter3d"
           }
          ],
          "scattercarpet": [
           {
            "marker": {
             "colorbar": {
              "outlinewidth": 0,
              "ticks": ""
             }
            },
            "type": "scattercarpet"
           }
          ],
          "scattergeo": [
           {
            "marker": {
             "colorbar": {
              "outlinewidth": 0,
              "ticks": ""
             }
            },
            "type": "scattergeo"
           }
          ],
          "scattergl": [
           {
            "marker": {
             "colorbar": {
              "outlinewidth": 0,
              "ticks": ""
             }
            },
            "type": "scattergl"
           }
          ],
          "scattermap": [
           {
            "marker": {
             "colorbar": {
              "outlinewidth": 0,
              "ticks": ""
             }
            },
            "type": "scattermap"
           }
          ],
          "scattermapbox": [
           {
            "marker": {
             "colorbar": {
              "outlinewidth": 0,
              "ticks": ""
             }
            },
            "type": "scattermapbox"
           }
          ],
          "scatterpolar": [
           {
            "marker": {
             "colorbar": {
              "outlinewidth": 0,
              "ticks": ""
             }
            },
            "type": "scatterpolar"
           }
          ],
          "scatterpolargl": [
           {
            "marker": {
             "colorbar": {
              "outlinewidth": 0,
              "ticks": ""
             }
            },
            "type": "scatterpolargl"
           }
          ],
          "scatterternary": [
           {
            "marker": {
             "colorbar": {
              "outlinewidth": 0,
              "ticks": ""
             }
            },
            "type": "scatterternary"
           }
          ],
          "surface": [
           {
            "colorbar": {
             "outlinewidth": 0,
             "ticks": ""
            },
            "colorscale": [
             [
              0,
              "#0d0887"
             ],
             [
              0.1111111111111111,
              "#46039f"
             ],
             [
              0.2222222222222222,
              "#7201a8"
             ],
             [
              0.3333333333333333,
              "#9c179e"
             ],
             [
              0.4444444444444444,
              "#bd3786"
             ],
             [
              0.5555555555555556,
              "#d8576b"
             ],
             [
              0.6666666666666666,
              "#ed7953"
             ],
             [
              0.7777777777777778,
              "#fb9f3a"
             ],
             [
              0.8888888888888888,
              "#fdca26"
             ],
             [
              1,
              "#f0f921"
             ]
            ],
            "type": "surface"
           }
          ],
          "table": [
           {
            "cells": {
             "fill": {
              "color": "#EBF0F8"
             },
             "line": {
              "color": "white"
             }
            },
            "header": {
             "fill": {
              "color": "#C8D4E3"
             },
             "line": {
              "color": "white"
             }
            },
            "type": "table"
           }
          ]
         },
         "layout": {
          "annotationdefaults": {
           "arrowcolor": "#2a3f5f",
           "arrowhead": 0,
           "arrowwidth": 1
          },
          "autotypenumbers": "strict",
          "coloraxis": {
           "colorbar": {
            "outlinewidth": 0,
            "ticks": ""
           }
          },
          "colorscale": {
           "diverging": [
            [
             0,
             "#8e0152"
            ],
            [
             0.1,
             "#c51b7d"
            ],
            [
             0.2,
             "#de77ae"
            ],
            [
             0.3,
             "#f1b6da"
            ],
            [
             0.4,
             "#fde0ef"
            ],
            [
             0.5,
             "#f7f7f7"
            ],
            [
             0.6,
             "#e6f5d0"
            ],
            [
             0.7,
             "#b8e186"
            ],
            [
             0.8,
             "#7fbc41"
            ],
            [
             0.9,
             "#4d9221"
            ],
            [
             1,
             "#276419"
            ]
           ],
           "sequential": [
            [
             0,
             "#0d0887"
            ],
            [
             0.1111111111111111,
             "#46039f"
            ],
            [
             0.2222222222222222,
             "#7201a8"
            ],
            [
             0.3333333333333333,
             "#9c179e"
            ],
            [
             0.4444444444444444,
             "#bd3786"
            ],
            [
             0.5555555555555556,
             "#d8576b"
            ],
            [
             0.6666666666666666,
             "#ed7953"
            ],
            [
             0.7777777777777778,
             "#fb9f3a"
            ],
            [
             0.8888888888888888,
             "#fdca26"
            ],
            [
             1,
             "#f0f921"
            ]
           ],
           "sequentialminus": [
            [
             0,
             "#0d0887"
            ],
            [
             0.1111111111111111,
             "#46039f"
            ],
            [
             0.2222222222222222,
             "#7201a8"
            ],
            [
             0.3333333333333333,
             "#9c179e"
            ],
            [
             0.4444444444444444,
             "#bd3786"
            ],
            [
             0.5555555555555556,
             "#d8576b"
            ],
            [
             0.6666666666666666,
             "#ed7953"
            ],
            [
             0.7777777777777778,
             "#fb9f3a"
            ],
            [
             0.8888888888888888,
             "#fdca26"
            ],
            [
             1,
             "#f0f921"
            ]
           ]
          },
          "colorway": [
           "#636efa",
           "#EF553B",
           "#00cc96",
           "#ab63fa",
           "#FFA15A",
           "#19d3f3",
           "#FF6692",
           "#B6E880",
           "#FF97FF",
           "#FECB52"
          ],
          "font": {
           "color": "#2a3f5f"
          },
          "geo": {
           "bgcolor": "white",
           "lakecolor": "white",
           "landcolor": "#E5ECF6",
           "showlakes": true,
           "showland": true,
           "subunitcolor": "white"
          },
          "hoverlabel": {
           "align": "left"
          },
          "hovermode": "closest",
          "mapbox": {
           "style": "light"
          },
          "paper_bgcolor": "white",
          "plot_bgcolor": "#E5ECF6",
          "polar": {
           "angularaxis": {
            "gridcolor": "white",
            "linecolor": "white",
            "ticks": ""
           },
           "bgcolor": "#E5ECF6",
           "radialaxis": {
            "gridcolor": "white",
            "linecolor": "white",
            "ticks": ""
           }
          },
          "scene": {
           "xaxis": {
            "backgroundcolor": "#E5ECF6",
            "gridcolor": "white",
            "gridwidth": 2,
            "linecolor": "white",
            "showbackground": true,
            "ticks": "",
            "zerolinecolor": "white"
           },
           "yaxis": {
            "backgroundcolor": "#E5ECF6",
            "gridcolor": "white",
            "gridwidth": 2,
            "linecolor": "white",
            "showbackground": true,
            "ticks": "",
            "zerolinecolor": "white"
           },
           "zaxis": {
            "backgroundcolor": "#E5ECF6",
            "gridcolor": "white",
            "gridwidth": 2,
            "linecolor": "white",
            "showbackground": true,
            "ticks": "",
            "zerolinecolor": "white"
           }
          },
          "shapedefaults": {
           "line": {
            "color": "#2a3f5f"
           }
          },
          "ternary": {
           "aaxis": {
            "gridcolor": "white",
            "linecolor": "white",
            "ticks": ""
           },
           "baxis": {
            "gridcolor": "white",
            "linecolor": "white",
            "ticks": ""
           },
           "bgcolor": "#E5ECF6",
           "caxis": {
            "gridcolor": "white",
            "linecolor": "white",
            "ticks": ""
           }
          },
          "title": {
           "x": 0.05
          },
          "xaxis": {
           "automargin": true,
           "gridcolor": "white",
           "linecolor": "white",
           "ticks": "",
           "title": {
            "standoff": 15
           },
           "zerolinecolor": "white",
           "zerolinewidth": 2
          },
          "yaxis": {
           "automargin": true,
           "gridcolor": "white",
           "linecolor": "white",
           "ticks": "",
           "title": {
            "standoff": 15
           },
           "zerolinecolor": "white",
           "zerolinewidth": 2
          }
         }
        },
        "width": 1200,
        "xaxis": {
         "showgrid": false
        },
        "yaxis": {
         "showgrid": false
        }
       }
      }
     },
     "metadata": {},
     "output_type": "display_data"
    }
   ],
   "source": [
    "def pointpos(x):\n",
    "    if x['break_signal']==-1:\n",
    "        return x['Low']-1e-4\n",
    "    elif x['break_signal']==1:\n",
    "        return x['High']+1e-4\n",
    "    else:\n",
    "        return np.nan\n",
    "\n",
    "btc['pointpos'] = btc.apply(lambda row: pointpos(row), axis=1)\n",
    "\n",
    "\n",
    "strt = 2230\n",
    "end = 2274\n",
    "fig = plot_fvg_and_key_levels(btc, start_idx=strt, end_idx=end, extension=5)\n",
    "fig.add_scatter(x=btc.index[strt:end], y=btc['pointpos'][strt:end], mode=\"markers\",\n",
    "                marker=dict(size=8, color=\"MediumPurple\"),\n",
    "                name=\"pivot\")\n",
    "fig.show()"
   ]
  },
  {
   "cell_type": "markdown",
   "metadata": {},
   "source": [
    "# Position Sizes"
   ]
  },
  {
   "cell_type": "code",
   "execution_count": 23,
   "metadata": {},
   "outputs": [
    {
     "data": {
      "text/html": [
       "<div>\n",
       "<style scoped>\n",
       "    .dataframe tbody tr th:only-of-type {\n",
       "        vertical-align: middle;\n",
       "    }\n",
       "\n",
       "    .dataframe tbody tr th {\n",
       "        vertical-align: top;\n",
       "    }\n",
       "\n",
       "    .dataframe thead th {\n",
       "        text-align: right;\n",
       "    }\n",
       "</style>\n",
       "<table border=\"1\" class=\"dataframe\">\n",
       "  <thead>\n",
       "    <tr style=\"text-align: right;\">\n",
       "      <th></th>\n",
       "      <th>Date</th>\n",
       "      <th>Open</th>\n",
       "      <th>High</th>\n",
       "      <th>Low</th>\n",
       "      <th>Close</th>\n",
       "      <th>Volume</th>\n",
       "      <th>Risk Free Rate</th>\n",
       "      <th>FVG</th>\n",
       "      <th>key_levels</th>\n",
       "      <th>break_signal</th>\n",
       "      <th>pointpos</th>\n",
       "      <th>buy_pct</th>\n",
       "      <th>sell_pct</th>\n",
       "    </tr>\n",
       "  </thead>\n",
       "  <tbody>\n",
       "    <tr>\n",
       "      <th>0</th>\n",
       "      <td>2015-07-20</td>\n",
       "      <td>277.98</td>\n",
       "      <td>280.00</td>\n",
       "      <td>277.37</td>\n",
       "      <td>280.00</td>\n",
       "      <td>782.883420</td>\n",
       "      <td>0.02372</td>\n",
       "      <td>None</td>\n",
       "      <td>None</td>\n",
       "      <td>0</td>\n",
       "      <td>NaN</td>\n",
       "      <td>0.0</td>\n",
       "      <td>0.0</td>\n",
       "    </tr>\n",
       "    <tr>\n",
       "      <th>1</th>\n",
       "      <td>2015-07-21</td>\n",
       "      <td>279.96</td>\n",
       "      <td>281.27</td>\n",
       "      <td>276.85</td>\n",
       "      <td>277.32</td>\n",
       "      <td>4943.559434</td>\n",
       "      <td>0.02340</td>\n",
       "      <td>None</td>\n",
       "      <td>None</td>\n",
       "      <td>0</td>\n",
       "      <td>NaN</td>\n",
       "      <td>0.0</td>\n",
       "      <td>0.0</td>\n",
       "    </tr>\n",
       "    <tr>\n",
       "      <th>2</th>\n",
       "      <td>2015-07-22</td>\n",
       "      <td>277.33</td>\n",
       "      <td>278.54</td>\n",
       "      <td>275.01</td>\n",
       "      <td>277.89</td>\n",
       "      <td>4687.909383</td>\n",
       "      <td>0.02322</td>\n",
       "      <td>None</td>\n",
       "      <td>None</td>\n",
       "      <td>0</td>\n",
       "      <td>NaN</td>\n",
       "      <td>0.0</td>\n",
       "      <td>0.0</td>\n",
       "    </tr>\n",
       "    <tr>\n",
       "      <th>3</th>\n",
       "      <td>2015-07-23</td>\n",
       "      <td>277.96</td>\n",
       "      <td>279.75</td>\n",
       "      <td>276.28</td>\n",
       "      <td>277.39</td>\n",
       "      <td>5306.919575</td>\n",
       "      <td>0.02277</td>\n",
       "      <td>None</td>\n",
       "      <td>None</td>\n",
       "      <td>0</td>\n",
       "      <td>NaN</td>\n",
       "      <td>0.0</td>\n",
       "      <td>0.0</td>\n",
       "    </tr>\n",
       "    <tr>\n",
       "      <th>4</th>\n",
       "      <td>2015-07-24</td>\n",
       "      <td>277.23</td>\n",
       "      <td>291.52</td>\n",
       "      <td>276.43</td>\n",
       "      <td>289.12</td>\n",
       "      <td>7362.469083</td>\n",
       "      <td>0.02271</td>\n",
       "      <td>None</td>\n",
       "      <td>None</td>\n",
       "      <td>0</td>\n",
       "      <td>NaN</td>\n",
       "      <td>0.0</td>\n",
       "      <td>0.0</td>\n",
       "    </tr>\n",
       "  </tbody>\n",
       "</table>\n",
       "</div>"
      ],
      "text/plain": [
       "        Date    Open    High     Low   Close       Volume  Risk Free Rate  \\\n",
       "0 2015-07-20  277.98  280.00  277.37  280.00   782.883420         0.02372   \n",
       "1 2015-07-21  279.96  281.27  276.85  277.32  4943.559434         0.02340   \n",
       "2 2015-07-22  277.33  278.54  275.01  277.89  4687.909383         0.02322   \n",
       "3 2015-07-23  277.96  279.75  276.28  277.39  5306.919575         0.02277   \n",
       "4 2015-07-24  277.23  291.52  276.43  289.12  7362.469083         0.02271   \n",
       "\n",
       "    FVG key_levels  break_signal  pointpos  buy_pct  sell_pct  \n",
       "0  None       None             0       NaN      0.0       0.0  \n",
       "1  None       None             0       NaN      0.0       0.0  \n",
       "2  None       None             0       NaN      0.0       0.0  \n",
       "3  None       None             0       NaN      0.0       0.0  \n",
       "4  None       None             0       NaN      0.0       0.0  "
      ]
     },
     "execution_count": 23,
     "metadata": {},
     "output_type": "execute_result"
    }
   ],
   "source": [
    "def calculate_position_percentages(df):\n",
    "    \"\"\"\n",
    "    Add columns for buy_pct and sell_pct based on FVG signals and characteristics.\n",
    "    \n",
    "    Parameters:\n",
    "    df (DataFrame): DataFrame with 'break_signal' and 'FVG' columns\n",
    "    \n",
    "    Returns:\n",
    "    DataFrame: DataFrame with added 'buy_pct' and 'sell_pct' columns\n",
    "    \"\"\"\n",
    "    # Initialize columns with zeros\n",
    "    df['buy_pct'] = 0.0\n",
    "    df['sell_pct'] = 0.0\n",
    "    \n",
    "    # Loop through each row to calculate position percentages\n",
    "    for i in df.index:\n",
    "        signal = df.loc[i, 'break_signal']\n",
    "        fvg = df.loc[i, 'FVG']\n",
    "        \n",
    "        base_pct = 0.2  # Base percentage (20%)\n",
    "        \n",
    "        if signal == 2:  # Buy signal\n",
    "            if isinstance(fvg, tuple):\n",
    "                # Extract FVG information\n",
    "                fvg_type, start, end, idx = fvg\n",
    "                \n",
    "                # Calculate FVG size as percentage\n",
    "                fvg_size = abs(end - start) / start\n",
    "                \n",
    "                # Scale position size based on FVG size\n",
    "                # Larger FVG = stronger signal = larger position\n",
    "                adjusted_pct = base_pct * (1 + 2 * fvg_size)  # Adjust scaling factor as needed\n",
    "                \n",
    "                # Cap the position size\n",
    "                adjusted_pct = min(adjusted_pct, 0.5)  # Maximum 50% of cash\n",
    "                \n",
    "                df.loc[i, 'buy_pct'] = adjusted_pct\n",
    "            else:\n",
    "                df.loc[i, 'buy_pct'] = base_pct\n",
    "                \n",
    "        elif signal == 1:  # Sell signal\n",
    "            if isinstance(fvg, tuple):\n",
    "                # Extract FVG information\n",
    "                fvg_type, start, end, idx = fvg\n",
    "                \n",
    "                # Calculate FVG size as percentage\n",
    "                fvg_size = abs(end - start) / start\n",
    "                \n",
    "                # Scale position size based on FVG size\n",
    "                adjusted_pct = base_pct * (1 + 2 * fvg_size)\n",
    "                \n",
    "                # Cap the position size\n",
    "                adjusted_pct = min(adjusted_pct, 0.5)  # Maximum 50% of holdings\n",
    "                \n",
    "                df.loc[i, 'sell_pct'] = adjusted_pct\n",
    "            else:\n",
    "                df.loc[i, 'sell_pct'] = base_pct\n",
    "    \n",
    "    return df\n",
    "\n",
    "btc = calculate_position_percentages(btc)\n",
    "btc.head()"
   ]
  },
  {
   "cell_type": "code",
   "execution_count": null,
   "metadata": {},
   "outputs": [],
   "source": []
  }
 ],
 "metadata": {
  "kernelspec": {
   "display_name": "base",
   "language": "python",
   "name": "python3"
  },
  "language_info": {
   "codemirror_mode": {
    "name": "ipython",
    "version": 3
   },
   "file_extension": ".py",
   "mimetype": "text/x-python",
   "name": "python",
   "nbconvert_exporter": "python",
   "pygments_lexer": "ipython3",
   "version": "3.12.2"
  }
 },
 "nbformat": 4,
 "nbformat_minor": 2
}
